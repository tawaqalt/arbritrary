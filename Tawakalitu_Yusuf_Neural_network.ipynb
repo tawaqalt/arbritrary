{
  "nbformat": 4,
  "nbformat_minor": 0,
  "metadata": {
    "colab": {
      "provenance": [],
      "authorship_tag": "ABX9TyOZ2EceSmMkK8FG0zK8TR0B",
      "include_colab_link": true
    },
    "kernelspec": {
      "name": "python3",
      "display_name": "Python 3"
    },
    "language_info": {
      "name": "python"
    }
  },
  "cells": [
    {
      "cell_type": "markdown",
      "metadata": {
        "id": "view-in-github",
        "colab_type": "text"
      },
      "source": [
        "<a href=\"https://colab.research.google.com/github/tawaqalt/arbritrary/blob/master/Tawakalitu_Yusuf_Neural_network.ipynb\" target=\"_parent\"><img src=\"https://colab.research.google.com/assets/colab-badge.svg\" alt=\"Open In Colab\"/></a>"
      ]
    },
    {
      "cell_type": "markdown",
      "source": [
        "# Importing Relevant Libraries"
      ],
      "metadata": {
        "id": "dtdoXoDyIQkg"
      }
    },
    {
      "cell_type": "code",
      "source": [
        "import numpy as np\n",
        "import matplotlib.pyplot as plt"
      ],
      "metadata": {
        "id": "Y48p5MJPIXFi"
      },
      "execution_count": null,
      "outputs": []
    },
    {
      "cell_type": "code",
      "source": [
        "from sklearn.metrics import accuracy_score, precision_score, f1_score, recall_score\n",
        "from sklearn.model_selection import train_test_split"
      ],
      "metadata": {
        "id": "PHym0CPFI3wm"
      },
      "execution_count": null,
      "outputs": []
    },
    {
      "cell_type": "code",
      "execution_count": null,
      "metadata": {
        "id": "w7j6BrfznujR"
      },
      "outputs": [],
      "source": [
        "from keras.datasets import mnist\n",
        "(X_train, y_train), (X_test, y_test) = mnist.load_data()"
      ]
    },
    {
      "cell_type": "markdown",
      "source": [
        "# Checking the Dataset"
      ],
      "metadata": {
        "id": "Lpkgp8hYqp-j"
      }
    },
    {
      "cell_type": "code",
      "source": [
        "print(X_train.shape) # (60000, 28, 28)\n",
        "print(X_test.shape) # (10000, 28, 28)\n",
        "print(X_train[0].dtype) # uint8\n",
        "print(X_train[0])"
      ],
      "metadata": {
        "colab": {
          "base_uri": "https://localhost:8080/"
        },
        "id": "uDAJyxsAn-Lg",
        "outputId": "0429f78a-25f9-4362-afef-56eb4881a5d2"
      },
      "execution_count": null,
      "outputs": [
        {
          "output_type": "stream",
          "name": "stdout",
          "text": [
            "(60000, 28, 28)\n",
            "(10000, 28, 28)\n",
            "uint8\n",
            "[[  0   0   0   0   0   0   0   0   0   0   0   0   0   0   0   0   0   0\n",
            "    0   0   0   0   0   0   0   0   0   0]\n",
            " [  0   0   0   0   0   0   0   0   0   0   0   0   0   0   0   0   0   0\n",
            "    0   0   0   0   0   0   0   0   0   0]\n",
            " [  0   0   0   0   0   0   0   0   0   0   0   0   0   0   0   0   0   0\n",
            "    0   0   0   0   0   0   0   0   0   0]\n",
            " [  0   0   0   0   0   0   0   0   0   0   0   0   0   0   0   0   0   0\n",
            "    0   0   0   0   0   0   0   0   0   0]\n",
            " [  0   0   0   0   0   0   0   0   0   0   0   0   0   0   0   0   0   0\n",
            "    0   0   0   0   0   0   0   0   0   0]\n",
            " [  0   0   0   0   0   0   0   0   0   0   0   0   3  18  18  18 126 136\n",
            "  175  26 166 255 247 127   0   0   0   0]\n",
            " [  0   0   0   0   0   0   0   0  30  36  94 154 170 253 253 253 253 253\n",
            "  225 172 253 242 195  64   0   0   0   0]\n",
            " [  0   0   0   0   0   0   0  49 238 253 253 253 253 253 253 253 253 251\n",
            "   93  82  82  56  39   0   0   0   0   0]\n",
            " [  0   0   0   0   0   0   0  18 219 253 253 253 253 253 198 182 247 241\n",
            "    0   0   0   0   0   0   0   0   0   0]\n",
            " [  0   0   0   0   0   0   0   0  80 156 107 253 253 205  11   0  43 154\n",
            "    0   0   0   0   0   0   0   0   0   0]\n",
            " [  0   0   0   0   0   0   0   0   0  14   1 154 253  90   0   0   0   0\n",
            "    0   0   0   0   0   0   0   0   0   0]\n",
            " [  0   0   0   0   0   0   0   0   0   0   0 139 253 190   2   0   0   0\n",
            "    0   0   0   0   0   0   0   0   0   0]\n",
            " [  0   0   0   0   0   0   0   0   0   0   0  11 190 253  70   0   0   0\n",
            "    0   0   0   0   0   0   0   0   0   0]\n",
            " [  0   0   0   0   0   0   0   0   0   0   0   0  35 241 225 160 108   1\n",
            "    0   0   0   0   0   0   0   0   0   0]\n",
            " [  0   0   0   0   0   0   0   0   0   0   0   0   0  81 240 253 253 119\n",
            "   25   0   0   0   0   0   0   0   0   0]\n",
            " [  0   0   0   0   0   0   0   0   0   0   0   0   0   0  45 186 253 253\n",
            "  150  27   0   0   0   0   0   0   0   0]\n",
            " [  0   0   0   0   0   0   0   0   0   0   0   0   0   0   0  16  93 252\n",
            "  253 187   0   0   0   0   0   0   0   0]\n",
            " [  0   0   0   0   0   0   0   0   0   0   0   0   0   0   0   0   0 249\n",
            "  253 249  64   0   0   0   0   0   0   0]\n",
            " [  0   0   0   0   0   0   0   0   0   0   0   0   0   0  46 130 183 253\n",
            "  253 207   2   0   0   0   0   0   0   0]\n",
            " [  0   0   0   0   0   0   0   0   0   0   0   0  39 148 229 253 253 253\n",
            "  250 182   0   0   0   0   0   0   0   0]\n",
            " [  0   0   0   0   0   0   0   0   0   0  24 114 221 253 253 253 253 201\n",
            "   78   0   0   0   0   0   0   0   0   0]\n",
            " [  0   0   0   0   0   0   0   0  23  66 213 253 253 253 253 198  81   2\n",
            "    0   0   0   0   0   0   0   0   0   0]\n",
            " [  0   0   0   0   0   0  18 171 219 253 253 253 253 195  80   9   0   0\n",
            "    0   0   0   0   0   0   0   0   0   0]\n",
            " [  0   0   0   0  55 172 226 253 253 253 253 244 133  11   0   0   0   0\n",
            "    0   0   0   0   0   0   0   0   0   0]\n",
            " [  0   0   0   0 136 253 253 253 212 135 132  16   0   0   0   0   0   0\n",
            "    0   0   0   0   0   0   0   0   0   0]\n",
            " [  0   0   0   0   0   0   0   0   0   0   0   0   0   0   0   0   0   0\n",
            "    0   0   0   0   0   0   0   0   0   0]\n",
            " [  0   0   0   0   0   0   0   0   0   0   0   0   0   0   0   0   0   0\n",
            "    0   0   0   0   0   0   0   0   0   0]\n",
            " [  0   0   0   0   0   0   0   0   0   0   0   0   0   0   0   0   0   0\n",
            "    0   0   0   0   0   0   0   0   0   0]]\n"
          ]
        }
      ]
    },
    {
      "cell_type": "markdown",
      "source": [
        "## Smoothing"
      ],
      "metadata": {
        "id": "iBd33CEeqvE7"
      }
    },
    {
      "cell_type": "code",
      "source": [
        "X_train = X_train.reshape(-1, 784)\n",
        "X_test = X_test.reshape(-1, 784)"
      ],
      "metadata": {
        "id": "S-_tVYmIqy-S"
      },
      "execution_count": null,
      "outputs": []
    },
    {
      "cell_type": "code",
      "source": [
        "import matplotlib.pyplot as plt\n",
        "%matplotlib inline\n",
        "index = 0\n",
        "image = X_train[index].reshape(28,28)\n",
        "# X_train[index]: (784,)\n",
        "# image: (28, 28)\n",
        "plt.imshow(image, 'gray')\n",
        "plt.title('label : {}'.format(y_train[index]))\n",
        "plt.show()"
      ],
      "metadata": {
        "colab": {
          "base_uri": "https://localhost:8080/",
          "height": 452
        },
        "id": "h4M-yOa6LP4v",
        "outputId": "811c0038-6e52-4483-c15f-c445b8429f1e"
      },
      "execution_count": null,
      "outputs": [
        {
          "output_type": "display_data",
          "data": {
            "text/plain": [
              "<Figure size 640x480 with 1 Axes>"
            ],
            "image/png": "[encoded data removed]"
          },
          "metadata": {}
        }
      ]
    },
    {
      "cell_type": "code",
      "source": [
        "image_1 = X_train[1].reshape(28,28)\n",
        "plt.imshow(image_1, 'gray')\n",
        "plt.title('label: {}'.format(y_train[1]))\n",
        "plt.show()"
      ],
      "metadata": {
        "colab": {
          "base_uri": "https://localhost:8080/",
          "height": 452
        },
        "id": "FtUm3skJNiVL",
        "outputId": "8bd72422-848b-4083-8c8f-241deee86a53"
      },
      "execution_count": null,
      "outputs": [
        {
          "output_type": "display_data",
          "data": {
            "text/plain": [
              "<Figure size 640x480 with 1 Axes>"
            ],
            "image/png": "[encoded data removed]"
          },
          "metadata": {}
        }
      ]
    },
    {
      "cell_type": "markdown",
      "source": [
        "## Pretreatment"
      ],
      "metadata": {
        "id": "bQ9hhJM5PP-W"
      }
    },
    {
      "cell_type": "code",
      "source": [
        "X_train = X_train.astype(float)\n",
        "X_test = X_test.astype(float)\n",
        "X_train /= 255\n",
        "X_test /= 255\n",
        "print(X_train.max()) # 1.0\n",
        "print(X_train.min()) # 0.0"
      ],
      "metadata": {
        "colab": {
          "base_uri": "https://localhost:8080/"
        },
        "id": "8eJ-Ug-sPZzD",
        "outputId": "58c44a46-f67e-451f-bfc0-dffb740d99fc"
      },
      "execution_count": null,
      "outputs": [
        {
          "output_type": "stream",
          "name": "stdout",
          "text": [
            "1.0\n",
            "0.0\n"
          ]
        }
      ]
    },
    {
      "cell_type": "code",
      "source": [
        "from sklearn.preprocessing import OneHotEncoder\n",
        "enc = OneHotEncoder(handle_unknown='ignore', sparse=False)\n",
        "y_train_one_hot = enc.fit_transform(y_train[:, np.newaxis])\n",
        "y_test_one_hot = enc.transform(y_test[:, np.newaxis])\n",
        "print(y_train.shape) # (60000,)\n",
        "print(y_train_one_hot.shape) # (60000, 10)\n",
        "print(y_train_one_hot.dtype) # float64"
      ],
      "metadata": {
        "colab": {
          "base_uri": "https://localhost:8080/"
        },
        "id": "d2uGtLtHP9dE",
        "outputId": "8fdbfdbe-941e-4e13-c819-18e704466857"
      },
      "execution_count": null,
      "outputs": [
        {
          "output_type": "stream",
          "name": "stdout",
          "text": [
            "(60000,)\n",
            "(60000, 10)\n",
            "float64\n"
          ]
        },
        {
          "output_type": "stream",
          "name": "stderr",
          "text": [
            "/usr/local/lib/python3.10/dist-packages/sklearn/preprocessing/_encoders.py:868: FutureWarning: `sparse` was renamed to `sparse_output` in version 1.2 and will be removed in 1.4. `sparse_output` is ignored unless you leave `sparse` to its default value.\n",
            "  warnings.warn(\n"
          ]
        }
      ]
    },
    {
      "cell_type": "code",
      "source": [
        "X_train, X_val, y_train, y_val = train_test_split(X_train, y_train, test_size=0.2)\n",
        "print(X_train.shape) # (48000, 784)\n",
        "print(X_val.shape) # (12000, 784)"
      ],
      "metadata": {
        "colab": {
          "base_uri": "https://localhost:8080/"
        },
        "id": "pPsNbsEYSy0v",
        "outputId": "c03e3b4d-0e7b-4f7d-b2cc-0860ff2115c1"
      },
      "execution_count": null,
      "outputs": [
        {
          "output_type": "stream",
          "name": "stdout",
          "text": [
            "(48000, 784)\n",
            "(12000, 784)\n"
          ]
        }
      ]
    },
    {
      "cell_type": "code",
      "source": [
        "class GetMiniBatch:\n",
        "    \"\"\"\n",
        "    Iterator to get a mini-batch\n",
        "\n",
        "    Parameters\n",
        "    ----------\n",
        "    X : The following forms of ndarray, shape (n_samples, n_features)\n",
        "      Training data\n",
        "    y : The following form of ndarray, shape (n_samples, 1)\n",
        "      Correct answer value\n",
        "    batch_size : int\n",
        "      Batch size\n",
        "    seed : int\n",
        "      NumPy random seed\n",
        "    \"\"\"\n",
        "    def __init__(self, X, y, batch_size = 20, seed=0):\n",
        "        self.batch_size = batch_size\n",
        "        np.random.seed(seed)\n",
        "        shuffle_index = np.random.permutation(np.arange(X.shape[0]))\n",
        "        self._X = X[shuffle_index]\n",
        "        self._y = y[shuffle_index]\n",
        "        self._stop = np.ceil(X.shape[0]/self.batch_size).astype(int) # Use the built-in int instead of np.int\n",
        "\n",
        "    def __len__(self):\n",
        "        return self._stop\n",
        "\n",
        "    def __getitem__(self,item):\n",
        "        p0 = item*self.batch_size\n",
        "        p1 = item*self.batch_size + self.batch_size\n",
        "        return self._X[p0:p1], self._y[p0:p1]\n",
        "\n",
        "    def __iter__(self):\n",
        "        self._counter = 0\n",
        "        return self\n",
        "\n",
        "    def __next__(self):\n",
        "        if self._counter >= self._stop:\n",
        "            raise StopIteration()\n",
        "        p0 = self._counter*self.batch_size\n",
        "        p1 = self._counter*self.batch_size + self.batch_size\n",
        "        self._counter += 1\n",
        "        return self._X[p0:p1], self._y[p0:p1]"
      ],
      "metadata": {
        "id": "DBF3_GZEnSVw"
      },
      "execution_count": null,
      "outputs": []
    },
    {
      "cell_type": "code",
      "source": [
        "#Instantiaitng the class\n",
        "get_mini_batch = GetMiniBatch(X_train, y_train, batch_size=20)\n",
        "\n",
        "print(len(get_mini_batch)) # 2400\n",
        "print(get_mini_batch[5]) # You can get the 5th mini batch\n",
        "for mini_X_train, mini_y_train in get_mini_batch:\n",
        "    # You can use a mini batch in this for statement\n",
        "    pass"
      ],
      "metadata": {
        "colab": {
          "base_uri": "https://localhost:8080/"
        },
        "id": "eQaYyq4AqPg-",
        "outputId": "a2493f66-ade6-4d2f-c759-98f89755cec3"
      },
      "execution_count": null,
      "outputs": [
        {
          "output_type": "stream",
          "name": "stdout",
          "text": [
            "2400\n",
            "(array([[0., 0., 0., ..., 0., 0., 0.],\n",
            "       [0., 0., 0., ..., 0., 0., 0.],\n",
            "       [0., 0., 0., ..., 0., 0., 0.],\n",
            "       ...,\n",
            "       [0., 0., 0., ..., 0., 0., 0.],\n",
            "       [0., 0., 0., ..., 0., 0., 0.],\n",
            "       [0., 0., 0., ..., 0., 0., 0.]]), array([1, 7, 9, 1, 9, 1, 3, 2, 5, 2, 8, 5, 5, 6, 2, 7, 9, 5, 6, 0],\n",
            "      dtype=uint8))\n"
          ]
        }
      ]
    },
    {
      "cell_type": "code",
      "source": [
        "class ScratchSimpleNeuralNetworkClassifier():\n",
        "    def __init__(self, batch_size=20, n_features=784, n_nodes1=400, n_nodes2=200, n_output=10, sigma=0.01, n_batch=20, activation_function_key='tanh', lr=0.01, epoch=50, verbose=False):\n",
        "        self.verbose = verbose\n",
        "        self.batch_size = batch_size\n",
        "        self.n_features = n_features\n",
        "        self.n_nodes1 = n_nodes1\n",
        "        self.n_nodes2 = n_nodes2\n",
        "        self.n_output = n_output\n",
        "        self.activation_function_key = activation_function_key\n",
        "        self.sigma = sigma\n",
        "        self.lr = lr\n",
        "        self.epoch = epoch\n",
        "\n",
        "        # Initialize weights and biases\n",
        "        self.initial_weights()\n",
        "\n",
        "    def initial_weights(self):\n",
        "        self.W1 = self.sigma * np.random.randn(self.n_features, self.n_nodes1)\n",
        "        self.W2 = self.sigma * np.random.randn(self.n_nodes1, self.n_nodes2)\n",
        "        self.W3 = self.sigma * np.random.randn(self.n_nodes2, self.n_output)\n",
        "        self.b1 = self.sigma * np.random.randn(1, self.n_nodes1)\n",
        "        self.b2 = self.sigma * np.random.randn(1, self.n_nodes2)\n",
        "        self.b3 = self.sigma * np.random.randn(1, self.n_output)\n",
        "\n",
        "    def activation_function(self, X):\n",
        "        if self.activation_function_key == 'sigmoid':\n",
        "            return 1 / (1 + np.exp(-X))\n",
        "        elif self.activation_function_key == 'tanh':\n",
        "            return np.tanh(X)\n",
        "\n",
        "    def forward(self, X):\n",
        "        self.A1 = X @ self.W1 + self.b1\n",
        "        self.Z1 = self.activation_function(self.A1)\n",
        "        self.A2 = self.Z1 @ self.W2 + self.b2\n",
        "        self.Z2 = self.activation_function(self.A2)\n",
        "        self.A3 = self.Z2 @ self.W3 + self.b3\n",
        "        self.Z3 = self.softmax(self.A3)\n",
        "\n",
        "    def backward(self, X, y):\n",
        "        # Convert y to one-hot encoding if it's not already\n",
        "        if y.ndim == 1:\n",
        "            y_one_hot = np.zeros((y.size, self.n_output))\n",
        "            y_one_hot[np.arange(y.size), y] = 1\n",
        "        else:\n",
        "            y_one_hot = y\n",
        "\n",
        "        dA3 = (self.Z3 - y_one_hot) / self.batch_size\n",
        "        dW3 = self.Z2.T @ dA3\n",
        "        dB3 = np.sum(dA3, axis=0)\n",
        "        dZ2 = dA3 @ self.W3.T\n",
        "        dA2 = dZ2 * (1 - self.Z2**2)\n",
        "        dW2 = self.Z1.T @ dA2\n",
        "        dB2 = np.sum(dA2, axis=0)\n",
        "        dZ1 = dA2 @ self.W2.T\n",
        "        dA1 = dZ1 * (1 - self.Z1**2)\n",
        "        dW1 = X.T @ dA1\n",
        "        dB1 = np.sum(dA1, axis=0)\n",
        "\n",
        "        # Update weights and biases\n",
        "        self.W3 -= self.lr * dW3\n",
        "        self.b3 -= self.lr * dB3\n",
        "        self.W2 -= self.lr * dW2\n",
        "        self.b2 -= self.lr * dB2\n",
        "        self.W1 -= self.lr * dW1\n",
        "        self.b1 -= self.lr * dB1\n",
        "\n",
        "    def softmax(self, A):\n",
        "        exp_A = np.exp(A - np.max(A, axis=1, keepdims=True))\n",
        "        return exp_A / np.sum(exp_A, axis=1, keepdims=True)\n",
        "\n",
        "    def loss_function(self, y, yt):\n",
        "        delta = 1e-7\n",
        "        return -np.mean(yt * np.log(y + delta))\n",
        "\n",
        "    def fit(self, X, y, X_val=None, y_val=None):\n",
        "        self.initial_weights()\n",
        "\n",
        "        # Initialize logs\n",
        "        self.log_loss = []\n",
        "        self.log_val_loss = []\n",
        "        self.log_acc = []\n",
        "        self.log_val_acc = []\n",
        "\n",
        "        for epoch in range(self.epoch):\n",
        "            self.true_y = np.array([])\n",
        "            self.pred_y = np.array([])\n",
        "\n",
        "            # Shuffle and create mini-batches\n",
        "            indices = np.random.permutation(X.shape[0])\n",
        "            X_shuffled = X[indices]\n",
        "            y_shuffled = y[indices]\n",
        "            n_batches = X.shape[0] // self.batch_size\n",
        "\n",
        "            for i in range(n_batches):\n",
        "                X_batch = X_shuffled[i * self.batch_size:(i + 1) * self.batch_size]\n",
        "                y_batch = y_shuffled[i * self.batch_size:(i + 1) * self.batch_size]\n",
        "\n",
        "                # Forward propagation\n",
        "                self.forward(X_batch)\n",
        "\n",
        "                # Backward propagation\n",
        "                self.backward(X_batch, y_batch)\n",
        "\n",
        "                # Log accuracy for batch\n",
        "                self.true_y = np.concatenate([self.true_y, y_batch if y_batch.ndim == 1 else np.argmax(y_batch, axis=1)])\n",
        "                self.pred_y = np.concatenate([self.pred_y, np.argmax(self.Z3, axis=1)])\n",
        "\n",
        "            # Calculate and log metrics\n",
        "            self.forward(X)  # Compute self.Z3 for entire training set\n",
        "            loss = self.loss_function(self.Z3, y if y.ndim == 2 else np.eye(self.n_output)[y])\n",
        "            self.log_loss.append(loss)\n",
        "            acc = accuracy_score(self.true_y, self.pred_y)\n",
        "            self.log_acc.append(acc)\n",
        "\n",
        "            if X_val is not None and y_val is not None:\n",
        "                self.forward(X_val)\n",
        "                val_loss = self.loss_function(self.Z3, y_val if y_val.ndim == 2 else np.eye(self.n_output)[y_val])\n",
        "                self.log_val_loss.append(val_loss)\n",
        "                val_acc = accuracy_score(np.argmax(y_val, axis=1) if y_val.ndim == 2 else y_val, np.argmax(self.Z3, axis=1))\n",
        "                self.log_val_acc.append(val_acc)\n",
        "\n",
        "            if self.verbose:\n",
        "                print(f'epoch:{epoch:>3} loss:{loss:.3f} acc:{acc:.3f}')\n",
        "\n",
        "    def predict(self, X):\n",
        "        self.forward(X)\n",
        "        return np.argmax(self.Z3, axis=1)"
      ],
      "metadata": {
        "id": "KmXjYCoyFGfq"
      },
      "execution_count": null,
      "outputs": []
    },
    {
      "cell_type": "markdown",
      "source": [
        "## Problem 1"
      ],
      "metadata": {
        "id": "7jNdywvzYUIt"
      }
    },
    {
      "cell_type": "code",
      "source": [
        "n_features = 784\n",
        "n_nodes1 = 400\n",
        "n_nodes2 = 200\n",
        "n_output = 10\n",
        "sigma = 0.01 # Standard deviation of Gaussian distribution\n",
        "W1 = sigma * np.random.randn(n_features, n_nodes1)\n",
        "b1 = sigma * np.random.randn(1, n_nodes1)\n",
        "W2 = sigma * np.random.randn(n_nodes1, n_nodes2)\n",
        "b2 = sigma * np.random.randn(n_nodes2)\n",
        "W3 = sigma * np.random.randn(n_nodes2, n_output)\n",
        "b3 = sigma * np.random.randn(n_output)\n",
        "\n",
        "print('shape of W1', W1.shape)\n",
        "print('shape of b1', b1.shape)\n",
        "print('shape of W2', W2.shape)\n",
        "print('shape of b2', b2.shape)\n",
        "print('shape of W3', W3.shape)\n",
        "print('shape of b3', b3.shape)"
      ],
      "metadata": {
        "colab": {
          "base_uri": "https://localhost:8080/"
        },
        "id": "-5GCMgkXopw6",
        "outputId": "a3d08b1c-dc01-4bf6-a996-435e32f5f55d"
      },
      "execution_count": null,
      "outputs": [
        {
          "output_type": "stream",
          "name": "stdout",
          "text": [
            "shape of W1 (784, 400)\n",
            "shape of b1 (1, 400)\n",
            "shape of W2 (400, 200)\n",
            "shape of b2 (200,)\n",
            "shape of W3 (200, 10)\n",
            "shape of b3 (10,)\n"
          ]
        }
      ]
    },
    {
      "cell_type": "markdown",
      "source": [
        "# Problem 2"
      ],
      "metadata": {
        "id": "DnzV_7YoYucb"
      }
    },
    {
      "cell_type": "code",
      "source": [
        "X = X_train[0:20]"
      ],
      "metadata": {
        "id": "aDNz1imhY1AK"
      },
      "execution_count": null,
      "outputs": []
    },
    {
      "cell_type": "code",
      "source": [
        "#Linear combination of the first layer\n",
        "z1 = np.dot(X, W1) + b1\n",
        "print(z1.shape)\n",
        "z1"
      ],
      "metadata": {
        "colab": {
          "base_uri": "https://localhost:8080/"
        },
        "id": "oeqCkgK_YtSH",
        "outputId": "bdecfc7b-4e4c-49b6-d95b-fc69f034bceb"
      },
      "execution_count": null,
      "outputs": [
        {
          "output_type": "stream",
          "name": "stdout",
          "text": [
            "(20, 400)\n"
          ]
        },
        {
          "output_type": "execute_result",
          "data": {
            "text/plain": [
              "array([[-8.12510359e-02,  8.00754737e-02, -5.31517031e-03, ...,\n",
              "         1.15934422e-01, -1.60300226e-01, -1.96859048e-01],\n",
              "       [ 1.23849413e-01,  1.55542179e-02,  6.88462316e-02, ...,\n",
              "         1.21359977e-01, -1.90692177e-04, -5.13768791e-02],\n",
              "       [ 8.10459588e-02,  7.73137577e-02,  7.55948652e-02, ...,\n",
              "         6.33234907e-02, -5.88195714e-02, -4.62453278e-02],\n",
              "       ...,\n",
              "       [ 6.76516868e-03,  1.60480659e-01, -5.58101239e-02, ...,\n",
              "        -6.17087281e-03, -1.50898248e-02, -1.17701867e-01],\n",
              "       [ 1.70070005e-01, -2.00053359e-01,  6.50447822e-02, ...,\n",
              "         1.06123861e-01, -2.56538736e-02, -3.21700623e-02],\n",
              "       [ 1.31804074e-01, -6.61885669e-02, -4.55848282e-02, ...,\n",
              "         6.69228624e-02, -5.09766728e-02, -9.68864758e-02]])"
            ]
          },
          "metadata": {},
          "execution_count": 16
        }
      ]
    },
    {
      "cell_type": "code",
      "source": [
        "#Activation function for the first layer\n",
        "sigma1 = 1/(1 + np.exp(-z1))\n",
        "print(sigma1.shape)\n",
        "sigma1"
      ],
      "metadata": {
        "colab": {
          "base_uri": "https://localhost:8080/"
        },
        "id": "Ne4avhwswdrJ",
        "outputId": "afab4fd6-c206-4cc2-8c22-a6e40da1fd8b"
      },
      "execution_count": null,
      "outputs": [
        {
          "output_type": "stream",
          "name": "stdout",
          "text": [
            "(20, 400)\n"
          ]
        },
        {
          "output_type": "execute_result",
          "data": {
            "text/plain": [
              "array([[0.47969841, 0.52000818, 0.49867121, ..., 0.52895119, 0.46001054,\n",
              "        0.45094356],\n",
              "       [0.53092284, 0.50388848, 0.51720476, ..., 0.53030281, 0.49995233,\n",
              "        0.4871586 ],\n",
              "       [0.52025041, 0.51931882, 0.51888972, ..., 0.51582558, 0.48529935,\n",
              "        0.48844073],\n",
              "       ...,\n",
              "       [0.50169129, 0.54003428, 0.48605109, ..., 0.49845729, 0.49622762,\n",
              "        0.47060846],\n",
              "       [0.54241532, 0.4501528 , 0.51625546, ..., 0.52650609, 0.49358688,\n",
              "        0.49195818],\n",
              "       [0.5329034 , 0.4834589 , 0.48860577, ..., 0.51672447, 0.48725859,\n",
              "        0.47579731]])"
            ]
          },
          "metadata": {},
          "execution_count": 17
        }
      ]
    },
    {
      "cell_type": "code",
      "source": [
        "# Activation function for the second layer\n",
        "z2 = np.dot(sigma1, W2) + b2\n",
        "sigma2 = 1/(1 + np.exp(-z2))\n",
        "print(sigma2.shape)\n",
        "sigma2\n",
        "W2 = sigma * np.random.randn(n_nodes1, n_nodes2)\n",
        "print(W2.shape)\n",
        "W2"
      ],
      "metadata": {
        "colab": {
          "base_uri": "https://localhost:8080/"
        },
        "id": "Porf9dQHzEQS",
        "outputId": "3ce36568-6ce2-461d-847e-21eafe8dea8e"
      },
      "execution_count": null,
      "outputs": [
        {
          "output_type": "stream",
          "name": "stdout",
          "text": [
            "(20, 200)\n",
            "(400, 200)\n"
          ]
        },
        {
          "output_type": "execute_result",
          "data": {
            "text/plain": [
              "array([[-0.01859084, -0.0046851 ,  0.00129393, ..., -0.0021524 ,\n",
              "         0.01157398, -0.00244731],\n",
              "       [ 0.02685092,  0.0155093 ,  0.00755601, ..., -0.02808203,\n",
              "        -0.00173676,  0.00378285],\n",
              "       [-0.00282786,  0.00509233, -0.00096543, ...,  0.00072244,\n",
              "         0.01531698,  0.00503033],\n",
              "       ...,\n",
              "       [-0.00401922,  0.0064443 ,  0.00871605, ...,  0.01063836,\n",
              "        -0.0026462 , -0.00089016],\n",
              "       [-0.01072689, -0.0100787 , -0.00937059, ...,  0.00601396,\n",
              "        -0.01542277,  0.00875628],\n",
              "       [ 0.02203209,  0.00303241, -0.00891849, ...,  0.00950345,\n",
              "        -0.00931689,  0.00325696]])"
            ]
          },
          "metadata": {},
          "execution_count": 18
        }
      ]
    },
    {
      "cell_type": "code",
      "source": [],
      "metadata": {
        "id": "bCx5dsNY07jY"
      },
      "execution_count": null,
      "outputs": []
    },
    {
      "cell_type": "code",
      "source": [
        "# 3rd layer linear combination\n",
        "z3 = np.dot(sigma2, W3) + b3\n",
        "print('z3 shape', z3.shape)\n",
        "z3"
      ],
      "metadata": {
        "colab": {
          "base_uri": "https://localhost:8080/"
        },
        "id": "ebCPow_xzLAe",
        "outputId": "5e54318f-baa3-4cb6-c4be-59be0d645b5c"
      },
      "execution_count": null,
      "outputs": [
        {
          "output_type": "stream",
          "name": "stdout",
          "text": [
            "z3 shape (20, 10)\n"
          ]
        },
        {
          "output_type": "execute_result",
          "data": {
            "text/plain": [
              "array([[-0.06610211, -0.17083384, -0.02807423,  0.05978912, -0.04849492,\n",
              "         0.08196169,  0.02879033, -0.01587376,  0.06465661, -0.08418822],\n",
              "       [-0.06620742, -0.1708139 , -0.02812015,  0.0598783 , -0.04832751,\n",
              "         0.08171771,  0.02872393, -0.01568201,  0.06484412, -0.08450095],\n",
              "       [-0.0659934 , -0.17093636, -0.02827087,  0.05979865, -0.04828776,\n",
              "         0.08157178,  0.02867669, -0.01584663,  0.06454197, -0.08444508],\n",
              "       [-0.06615106, -0.17093375, -0.02794266,  0.05987983, -0.04835987,\n",
              "         0.0817362 ,  0.02869228, -0.01574749,  0.06491603, -0.08417209],\n",
              "       [-0.06609659, -0.17092547, -0.02804888,  0.05980698, -0.04832981,\n",
              "         0.08185795,  0.02867224, -0.01562887,  0.06475631, -0.08436869],\n",
              "       [-0.0660482 , -0.1709656 , -0.0278767 ,  0.05974677, -0.04834267,\n",
              "         0.08173292,  0.02864178, -0.01571882,  0.06446942, -0.08419213],\n",
              "       [-0.06626999, -0.17090721, -0.0280711 ,  0.05992695, -0.04833738,\n",
              "         0.08164777,  0.02883886, -0.01579133,  0.06485888, -0.0845002 ],\n",
              "       [-0.06615957, -0.17084957, -0.02812197,  0.05973429, -0.04851274,\n",
              "         0.08177442,  0.0287648 , -0.01568053,  0.06474386, -0.08429441],\n",
              "       [-0.06622492, -0.17076936, -0.02832278,  0.05986761, -0.04837413,\n",
              "         0.0817337 ,  0.02878477, -0.01571488,  0.06480107, -0.08434244],\n",
              "       [-0.06612032, -0.17084678, -0.02799855,  0.05979122, -0.04844115,\n",
              "         0.08171915,  0.0288322 , -0.01576693,  0.06427049, -0.08441362],\n",
              "       [-0.06594881, -0.17073627, -0.02812247,  0.0597106 , -0.04822762,\n",
              "         0.08170098,  0.02883934, -0.01582971,  0.06470318, -0.08465768],\n",
              "       [-0.06610476, -0.17087381, -0.02822145,  0.05988185, -0.04819349,\n",
              "         0.0816077 ,  0.02886298, -0.01577809,  0.06454055, -0.08460449],\n",
              "       [-0.06603444, -0.17090363, -0.02809607,  0.05972636, -0.04829516,\n",
              "         0.08179616,  0.02885398, -0.01590509,  0.06445291, -0.08428716],\n",
              "       [-0.06605293, -0.17077564, -0.02796642,  0.05977696, -0.04837628,\n",
              "         0.08176332,  0.02886972, -0.01583782,  0.06459852, -0.0842404 ],\n",
              "       [-0.06632873, -0.17090701, -0.02803084,  0.05980477, -0.04853352,\n",
              "         0.08159379,  0.02872399, -0.0158235 ,  0.06469425, -0.08432056],\n",
              "       [-0.06593132, -0.17077422, -0.02799295,  0.05992189, -0.04857602,\n",
              "         0.08176996,  0.02870127, -0.01597603,  0.06485893, -0.08429855],\n",
              "       [-0.06584482, -0.17095572, -0.02794999,  0.05972868, -0.04865284,\n",
              "         0.08189296,  0.02849189, -0.01569879,  0.06466734, -0.08426691],\n",
              "       [-0.06609814, -0.17079498, -0.02822952,  0.05993645, -0.04827834,\n",
              "         0.08172935,  0.02876079, -0.01568539,  0.06467771, -0.08420998],\n",
              "       [-0.06621475, -0.17090947, -0.02802136,  0.05967761, -0.04829405,\n",
              "         0.08176395,  0.02882163, -0.01564083,  0.06475258, -0.08445115],\n",
              "       [-0.06615603, -0.1708534 , -0.02804296,  0.05965977, -0.04834399,\n",
              "         0.08181309,  0.02892551, -0.01558002,  0.06468692, -0.08443638]])"
            ]
          },
          "metadata": {},
          "execution_count": 19
        }
      ]
    },
    {
      "cell_type": "code",
      "source": [
        "# 3rd layer activation functiom (softmax function)\n",
        "sfmax  = np.zeros([len(X), 10])\n",
        "for i in range (20):\n",
        "  sfmax[i] = np.exp(z3[i]) / np.sum(np.exp(z3[i]), axis=0)\n",
        "print('sfmax', sfmax.shape)\n",
        "print(np.sum(sfmax))\n",
        "print(sfmax)"
      ],
      "metadata": {
        "colab": {
          "base_uri": "https://localhost:8080/"
        },
        "id": "gHDONVQOLf46",
        "outputId": "4237e4d0-5895-4580-874b-32137a556b2e"
      },
      "execution_count": null,
      "outputs": [
        {
          "output_type": "stream",
          "name": "stdout",
          "text": [
            "sfmax (20, 10)\n",
            "20.0\n",
            "[[0.09502401 0.0855754  0.09870716 0.10777232 0.09671193 0.1101886\n",
            "  0.10448276 0.09991881 0.10829818 0.09332084]\n",
            " [0.09501501 0.08557801 0.09870367 0.10778307 0.09672915 0.11016288\n",
            "  0.10447692 0.09993903 0.10831963 0.09329265]\n",
            " [0.09504245 0.08557393 0.09869617 0.10778254 0.09674022 0.11015503\n",
            "  0.10447979 0.09993004 0.108295   0.09330483]\n",
            " [0.09501653 0.08556431 0.09871721 0.10777889 0.09672212 0.11016047\n",
            "  0.1044694  0.09992845 0.10832305 0.09331957]\n",
            " [0.0950238  0.0855669  0.0987089  0.10777341 0.09672715 0.11017631\n",
            "  0.10446961 0.09994251 0.10830814 0.09330328]\n",
            " [0.09503126 0.08556604 0.09872887 0.10777016 0.09672882 0.11016585\n",
            "  0.10446957 0.09993653 0.10828033 0.09332257]\n",
            " [0.09500999 0.08557086 0.09870947 0.10778936 0.09672913 0.11015625\n",
            "  0.10448995 0.09992907 0.10832228 0.09329363]\n",
            " [0.09502079 0.08557607 0.09870478 0.10776895 0.09671249 0.11017056\n",
            "  0.10448255 0.09994048 0.10831018 0.09331314]\n",
            " [0.09501416 0.08558255 0.09868451 0.10778284 0.09672546 0.11016558\n",
            "  0.10448417 0.09993659 0.10831589 0.09330824]\n",
            " [0.0950284  0.08557981 0.09872099 0.10777949 0.09672337 0.11016897\n",
            "  0.10449387 0.09993593 0.10826335 0.09330583]\n",
            " [0.09504071 0.08558567 0.09870461 0.10776627 0.09673995 0.11016234\n",
            "  0.10449022 0.09992545 0.10830565 0.09327913]\n",
            " [0.09502873 0.08557646 0.09869779 0.10778795 0.09674615 0.11015536\n",
            "  0.10449581 0.0999336  0.10829127 0.09328689]\n",
            " [0.09503378 0.08557244 0.09870847 0.10776934 0.09673465 0.11017423\n",
            "  0.10449308 0.09991919 0.10827992 0.09331489]\n",
            " [0.0950278  0.08557958 0.09871688 0.10777    0.0967225  0.11016571\n",
            "  0.10449008 0.09992147 0.10829088 0.0933151 ]\n",
            " [0.09500972 0.08557567 0.09871897 0.10778222 0.09671558 0.11015647\n",
            "  0.10448379 0.09993145 0.10831051 0.09331561]\n",
            " [0.0950396  0.08557992 0.09871451 0.10778589 0.09670343 0.11016672\n",
            "  0.10447274 0.09990791 0.10831935 0.09330991]\n",
            " [0.09505064 0.08556693 0.09872169 0.10776828 0.09669888 0.11018355\n",
            "  0.10445398 0.09993859 0.10830182 0.09331564]\n",
            " [0.09502291 0.08557739 0.09869029 0.10778652 0.09673137 0.11016128\n",
            "  0.10447804 0.09993607 0.10829877 0.09331736]\n",
            " [0.09501463 0.08557012 0.09871375 0.1077618  0.09673271 0.11016834\n",
            "  0.10448748 0.09994348 0.10831008 0.09329761]\n",
            " [0.09501849 0.08557337 0.09870983 0.10775793 0.09672613 0.11017176\n",
            "  0.10449644 0.09994775 0.10830101 0.0932973 ]]\n"
          ]
        }
      ]
    },
    {
      "cell_type": "markdown",
      "source": [
        "# Problem 3"
      ],
      "metadata": {
        "id": "uQiyvS0YPYrF"
      }
    },
    {
      "cell_type": "code",
      "source": [
        "y = y_train_one_hot[0:20]\n",
        "loss = -y * np.log(sfmax/len(y))\n",
        "print(loss)"
      ],
      "metadata": {
        "colab": {
          "base_uri": "https://localhost:8080/"
        },
        "id": "-tgFssKzWJnV",
        "outputId": "5c5093ad-2671-4431-bccf-8a247a13dd62"
      },
      "execution_count": null,
      "outputs": [
        {
          "output_type": "stream",
          "name": "stdout",
          "text": [
            "[[0.         0.         0.         0.         0.         5.20129415\n",
            "  0.         0.         0.         0.        ]\n",
            " [5.34945271 0.         0.         0.         0.         0.\n",
            "  0.         0.         0.         0.        ]\n",
            " [0.         0.         0.         0.         5.33145832 0.\n",
            "  0.         0.         0.         0.        ]\n",
            " [0.         5.45421935 0.         0.         0.         0.\n",
            "  0.         0.         0.         0.        ]\n",
            " [0.         0.         0.         0.         0.         0.\n",
            "  0.         0.         0.         5.36763228]\n",
            " [0.         0.         5.31111018 0.         0.         0.\n",
            "  0.         0.         0.         0.        ]\n",
            " [0.         5.45414274 0.         0.         0.         0.\n",
            "  0.         0.         0.         0.        ]\n",
            " [0.         0.         0.         5.22349795 0.         0.\n",
            "  0.         0.         0.         0.        ]\n",
            " [0.         5.45400609 0.         0.         0.         0.\n",
            "  0.         0.         0.         0.        ]\n",
            " [0.         0.         0.         0.         5.33163254 0.\n",
            "  0.         0.         0.         0.        ]\n",
            " [0.         0.         0.         5.22352284 0.         0.\n",
            "  0.         0.         0.         0.        ]\n",
            " [0.         0.         0.         0.         0.         5.20159584\n",
            "  0.         0.         0.         0.        ]\n",
            " [0.         0.         0.         5.22349434 0.         0.\n",
            "  0.         0.         0.         0.        ]\n",
            " [0.         0.         0.         0.         0.         0.\n",
            "  5.25439545 0.         0.         0.        ]\n",
            " [0.         5.45408659 0.         0.         0.         0.\n",
            "  0.         0.         0.         0.        ]\n",
            " [0.         0.         0.         0.         0.         0.\n",
            "  0.         5.29923867 0.         0.        ]\n",
            " [0.         0.         5.31118289 0.         0.         0.\n",
            "  0.         0.         0.         0.        ]\n",
            " [0.         0.         0.         0.         0.         0.\n",
            "  0.         0.         5.21859373 0.        ]\n",
            " [0.         0.         0.         0.         0.         0.\n",
            "  5.25442029 0.         0.         0.        ]\n",
            " [0.         0.         0.         0.         0.         0.\n",
            "  0.         0.         0.         5.3676964 ]]\n"
          ]
        }
      ]
    },
    {
      "cell_type": "markdown",
      "source": [
        "## Problem 4"
      ],
      "metadata": {
        "id": "-gxb6v0OrBXB"
      }
    },
    {
      "cell_type": "code",
      "source": [
        "#3rd layer\n",
        "delta_a3 = sfmax-y\n",
        "delta_b3 = np.sum(delta_a3, axis =0)\n",
        "delta_W3 = np.dot(z2.T, delta_a3)\n",
        "delta_z2 = np.dot(delta_a3, W3.T)\n",
        "\n",
        "print('delta a3: ', delta_a3.shape)\n",
        "print('delta b3: ', delta_b3.shape)\n",
        "print('delta W3: ', delta_W3.shape)\n",
        "print('delta z2: ', delta_z2.shape)"
      ],
      "metadata": {
        "colab": {
          "base_uri": "https://localhost:8080/"
        },
        "id": "2Hc2amaDcC0Y",
        "outputId": "9d778825-b08b-430f-97cb-0b7fb730bfaf"
      },
      "execution_count": null,
      "outputs": [
        {
          "output_type": "stream",
          "name": "stdout",
          "text": [
            "delta a3:  (20, 10)\n",
            "delta b3:  (10,)\n",
            "delta W3:  (200, 10)\n",
            "delta z2:  (20, 200)\n"
          ]
        }
      ]
    },
    {
      "cell_type": "code",
      "source": [
        "#2nd layer\n",
        "delta_a2 = delta_z2 * (1-np.tanh(z2)**2)\n",
        "delta_b2 = np.sum(delta_a2, axis=0)\n",
        "delta_W2 = np.dot(z1.T, delta_a2)\n",
        "delta_z1 = np.dot(delta_a2, W2.T)\n",
        "\n",
        "print('delta a2: ', delta_a2.shape)\n",
        "print('delta b2: ', delta_b2.shape)\n",
        "print('delta W2: ', delta_W2.shape)\n",
        "print('delta z1: ', delta_z1.shape)"
      ],
      "metadata": {
        "colab": {
          "base_uri": "https://localhost:8080/"
        },
        "id": "OtuntLT7rD4w",
        "outputId": "6076aaa1-afc2-4070-a5a0-629c911d4c96"
      },
      "execution_count": null,
      "outputs": [
        {
          "output_type": "stream",
          "name": "stdout",
          "text": [
            "delta a2:  (20, 200)\n",
            "delta b2:  (200,)\n",
            "delta W2:  (400, 200)\n",
            "delta z1:  (20, 400)\n"
          ]
        }
      ]
    },
    {
      "cell_type": "code",
      "source": [
        "#1st layer\n",
        "delta_a1 = delta_z1 * (1-np.tanh(z1)**2)\n",
        "delta_b1 = np.sum(delta_a1, axis=0)\n",
        "delta_W1 = np.dot(X.T, delta_a1)\n",
        "\n",
        "print('delta a1: ', delta_a1.shape)\n",
        "print('delta b1: ', delta_b1.shape)\n",
        "print('delta W1: ', delta_W1.shape)"
      ],
      "metadata": {
        "colab": {
          "base_uri": "https://localhost:8080/"
        },
        "id": "iO6BJy_Xr6k-",
        "outputId": "89116824-13e1-4c42-ed8b-80429ab41a5a"
      },
      "execution_count": null,
      "outputs": [
        {
          "output_type": "stream",
          "name": "stdout",
          "text": [
            "delta a1:  (20, 400)\n",
            "delta b1:  (400,)\n",
            "delta W1:  (784, 400)\n"
          ]
        }
      ]
    },
    {
      "cell_type": "markdown",
      "source": [
        "Problem 5"
      ],
      "metadata": {
        "id": "s1JnhhHosIQw"
      }
    },
    {
      "cell_type": "code",
      "source": [
        "classifier = ScratchSimpleNeuralNetworkClassifier(epoch=30, n_features=784, n_nodes1=400, sigma=0.01, n_batch= 100, activation_function_key='tanh', lr=0.01, verbose=True)\n",
        "classifier.fit(X_train, y_train, X_val=X_val, y_val=y_val)\n",
        "clf_pred = classifier.predict(X_test)"
      ],
      "metadata": {
        "colab": {
          "base_uri": "https://localhost:8080/"
        },
        "id": "mcyOb-qYsKjf",
        "outputId": "a670cf9a-5fac-4389-9809-ed85757285c4"
      },
      "execution_count": null,
      "outputs": [
        {
          "output_type": "stream",
          "name": "stdout",
          "text": [
            "epoch:  0 loss:0.067 acc:0.522\n",
            "epoch:  1 loss:0.040 acc:0.852\n",
            "epoch:  2 loss:0.035 acc:0.892\n",
            "epoch:  3 loss:0.031 acc:0.904\n",
            "epoch:  4 loss:0.029 acc:0.913\n",
            "epoch:  5 loss:0.027 acc:0.919\n",
            "epoch:  6 loss:0.025 acc:0.925\n",
            "epoch:  7 loss:0.023 acc:0.929\n",
            "epoch:  8 loss:0.022 acc:0.934\n",
            "epoch:  9 loss:0.020 acc:0.939\n",
            "epoch: 10 loss:0.019 acc:0.942\n",
            "epoch: 11 loss:0.017 acc:0.946\n",
            "epoch: 12 loss:0.016 acc:0.950\n",
            "epoch: 13 loss:0.015 acc:0.953\n",
            "epoch: 14 loss:0.014 acc:0.956\n",
            "epoch: 15 loss:0.014 acc:0.958\n",
            "epoch: 16 loss:0.013 acc:0.961\n",
            "epoch: 17 loss:0.012 acc:0.963\n",
            "epoch: 18 loss:0.011 acc:0.966\n",
            "epoch: 19 loss:0.011 acc:0.967\n",
            "epoch: 20 loss:0.010 acc:0.969\n",
            "epoch: 21 loss:0.010 acc:0.971\n",
            "epoch: 22 loss:0.009 acc:0.972\n",
            "epoch: 23 loss:0.009 acc:0.974\n",
            "epoch: 24 loss:0.008 acc:0.975\n",
            "epoch: 25 loss:0.008 acc:0.976\n",
            "epoch: 26 loss:0.007 acc:0.977\n",
            "epoch: 27 loss:0.007 acc:0.978\n",
            "epoch: 28 loss:0.007 acc:0.979\n",
            "epoch: 29 loss:0.006 acc:0.980\n"
          ]
        }
      ]
    },
    {
      "cell_type": "code",
      "source": [
        "print(clf_pred)"
      ],
      "metadata": {
        "colab": {
          "base_uri": "https://localhost:8080/"
        },
        "id": "e-DJZpzS-oEe",
        "outputId": "17d6233b-910a-4f09-88ed-b07764111913"
      },
      "execution_count": null,
      "outputs": [
        {
          "output_type": "stream",
          "name": "stdout",
          "text": [
            "[7 2 1 ... 4 5 6]\n"
          ]
        }
      ]
    },
    {
      "cell_type": "markdown",
      "source": [
        "# Problem 6"
      ],
      "metadata": {
        "id": "UExgMz7u-Sz0"
      }
    },
    {
      "cell_type": "code",
      "source": [
        "#classification_report\n",
        "# Assuming X_test has 10000 samples and you want to compare against y_test\n",
        "clf_pred = classifier.predict(X_test)\n",
        "print('accuracy of the model', accuracy_score(y_test, clf_pred))"
      ],
      "metadata": {
        "colab": {
          "base_uri": "https://localhost:8080/"
        },
        "id": "Y-jOnA83-X6D",
        "outputId": "57c2028b-1d54-4bbb-d008-345ae067ca27"
      },
      "execution_count": null,
      "outputs": [
        {
          "output_type": "stream",
          "name": "stdout",
          "text": [
            "accuracy of the model 0.9699\n"
          ]
        }
      ]
    },
    {
      "cell_type": "markdown",
      "source": [
        "# Problem 7: Plotting the learning cure"
      ],
      "metadata": {
        "id": "BU8EPST9AOa6"
      }
    },
    {
      "cell_type": "code",
      "source": [
        "#plotting the learning curve\n",
        "plt.plot(classifier.log_loss, label='training loss')\n",
        "plt.plot(classifier.log_val_loss, label='validation loss')\n",
        "plt.xlabel('Epoch')\n",
        "plt.ylabel('Loss')\n",
        "plt.legend()\n",
        "plt.show()"
      ],
      "metadata": {
        "colab": {
          "base_uri": "https://localhost:8080/",
          "height": 449
        },
        "id": "reLPdXvkAG98",
        "outputId": "fc164c9e-b6d5-4047-e166-2b3343a7ff26"
      },
      "execution_count": null,
      "outputs": [
        {
          "output_type": "display_data",
          "data": {
            "text/plain": [
              "<Figure size 640x480 with 1 Axes>"
            ],
            "image/png": "[encoded data removed]"
          },
          "metadata": {}
        }
      ]
    }
  ]
}