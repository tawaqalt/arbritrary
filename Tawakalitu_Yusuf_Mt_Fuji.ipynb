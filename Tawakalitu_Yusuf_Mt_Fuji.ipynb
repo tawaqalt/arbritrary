{
  "nbformat": 4,
  "nbformat_minor": 0,
  "metadata": {
    "colab": {
      "provenance": [],
      "authorship_tag": "ABX9TyOC4+rZHd+0DPFYCNUskoPg",
      "include_colab_link": true
    },
    "kernelspec": {
      "name": "python3",
      "display_name": "Python 3"
    },
    "language_info": {
      "name": "python"
    }
  },
  "cells": [
    {
      "cell_type": "markdown",
      "metadata": {
        "id": "view-in-github",
        "colab_type": "text"
      },
      "source": [
        "<a href=\"https://colab.research.google.com/github/tawaqalt/arbritrary/blob/master/Tawakalitu_Yusuf_Mt_Fuji.ipynb\" target=\"_parent\"><img src=\"https://colab.research.google.com/assets/colab-badge.svg\" alt=\"Open In Colab\"/></a>"
      ]
    },
    {
      "cell_type": "markdown",
      "source": [
        "# **Problem 1**"
      ],
      "metadata": {
        "id": "nAG0AoKSD2QU"
      }
    },
    {
      "cell_type": "code",
      "execution_count": null,
      "metadata": {
        "colab": {
          "base_uri": "https://localhost:8080/"
        },
        "id": "e1cxtS2VlBMM",
        "outputId": "abf8ee7a-41db-441a-be55-9e1cad92f990"
      },
      "outputs": [
        {
          "output_type": "stream",
          "name": "stdout",
          "text": [
            "Number of folds to exceed Mt. Fuji's height: 26\n"
          ]
        }
      ],
      "source": [
        "def folds_to_exceed_height(target_height, initial_thickness=0.00008):\n",
        "    folds = 0\n",
        "    current_thickness = initial_thickness\n",
        "\n",
        "    while current_thickness < target_height:\n",
        "        current_thickness *= 2\n",
        "        folds += 1\n",
        "\n",
        "    return folds\n",
        "\n",
        "# Mt. Fuji height in meters\n",
        "fuji_height = 3776\n",
        "folds_needed = folds_to_exceed_height(fuji_height)\n",
        "\n",
        "print(f\"Number of folds to exceed Mt. Fuji's height: {folds_needed}\")"
      ]
    },
    {
      "cell_type": "markdown",
      "source": [
        "## **Problem 2**"
      ],
      "metadata": {
        "id": "gsxfbtPwEASn"
      }
    },
    {
      "cell_type": "code",
      "source": [
        "def folds_to_exceed_height_with_thickness(target_height, initial_thickness=0.00008):\n",
        "    folds = 0\n",
        "    current_thickness = initial_thickness\n",
        "\n",
        "    while current_thickness < target_height:\n",
        "        current_thickness *= 2\n",
        "        folds += 1\n",
        "\n",
        "    return folds\n",
        "    folds = 0\n",
        "    current_thickness = initial_thickness\n",
        "\n",
        "    while current_thickness < target_height:\n",
        "        current_thickness *= 2\n",
        "        folds += 1\n",
        "\n",
        "    return folds\n",
        "\n",
        "# Function to calculate folds for arbitrary thickness\n",
        "def folds_to_reach_distance(distance, initial_thickness=0.00008):\n",
        "    # Assuming the paper is folded in half each time\n",
        "    folds = 0\n",
        "    current_thickness = initial_thickness\n",
        "\n",
        "    while current_thickness < distance:\n",
        "        current_thickness *= 2\n",
        "        folds += 1\n",
        "\n",
        "    return folds\n",
        "\n",
        "# Distance to Proxima Centauri in meters\n",
        "proxima_centauri_distance = 4.0175 * 10** 16\n",
        "\n",
        "folds_needed_for_proxima_centauri = folds_to_reach_distance(proxima_centauri_distance)\n",
        "\n",
        "print(f\"Number of folds to reach Proxima Centauri: {folds_needed_for_proxima_centauri}\")\n",
        "\n"
      ],
      "metadata": {
        "colab": {
          "base_uri": "https://localhost:8080/"
        },
        "id": "vmnKwN9b7s4n",
        "outputId": "3e65e773-86f4-4730-d476-da6b3f29b795"
      },
      "execution_count": null,
      "outputs": [
        {
          "output_type": "stream",
          "name": "stdout",
          "text": [
            "Number of folds to reach Proxima Centauri: 69\n"
          ]
        }
      ]
    },
    {
      "cell_type": "markdown",
      "source": [
        "## **Problem 3**"
      ],
      "metadata": {
        "id": "tNv4YhzwEG6A"
      }
    },
    {
      "cell_type": "code",
      "source": [
        "import math\n",
        "\n",
        "def length_of_paper_to_reach_thickness(target_thickness, folds):\n",
        "    t0 = 0.00008  # Initial thickness of the paper\n",
        "    length = math.pi * t0 * (2 ** (folds + 4)) * ((2 ** folds) - 1)\n",
        "    return length\n",
        "\n",
        "# Length of paper needed to reach the Moon\n",
        "moon_thickness = 384400e3  # Distance to the Moon in meters\n",
        "moon_folds = folds_to_reach_distance(moon_thickness)\n",
        "moon_paper_length = length_of_paper_to_reach_thickness(moon_thickness, moon_folds)\n",
        "\n",
        "# Length of paper needed to reach Mt. Fuji\n",
        "fuji_folds = folds_to_exceed_height_with_thickness(fuji_height)\n",
        "fuji_paper_length = length_of_paper_to_reach_thickness(fuji_height, fuji_folds)\n",
        "\n",
        "# Length of paper needed to reach Proxima Centauri\n",
        "proxima_centauri_paper_length = length_of_paper_to_reach_thickness(proxima_centauri_distance, folds_needed_for_proxima_centauri)\n",
        "\n",
        "print(f\"Length of paper needed to reach the Moon: {moon_paper_length:.2e} meters\")\n",
        "print(f\"Length of paper needed to exceed Mt. Fuji's height: {fuji_paper_length:.2e} meters\")\n",
        "print(f\"Length of paper needed to reach Proxima Centauri: {proxima_centauri_paper_length:.2e} meters\")\n"
      ],
      "metadata": {
        "colab": {
          "base_uri": "https://localhost:8080/"
        },
        "id": "vRRwOtksEOHJ",
        "outputId": "7705265b-355e-4be6-e54c-63a9f9677c6c"
      },
      "execution_count": null,
      "outputs": [
        {
          "output_type": "stream",
          "name": "stdout",
          "text": [
            "Length of paper needed to reach the Moon: 3.11e+23 meters\n",
            "Length of paper needed to exceed Mt. Fuji's height: 1.81e+13 meters\n",
            "Length of paper needed to reach Proxima Centauri: 1.40e+39 meters\n"
          ]
        }
      ]
    }
  ]
}