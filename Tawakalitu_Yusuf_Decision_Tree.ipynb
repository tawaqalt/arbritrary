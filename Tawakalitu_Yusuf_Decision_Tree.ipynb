{
  "nbformat": 4,
  "nbformat_minor": 0,
  "metadata": {
    "colab": {
      "provenance": [],
      "authorship_tag": "ABX9TyNBMk8f7WGAmE5Ontt1YYE3",
      "include_colab_link": true
    },
    "kernelspec": {
      "name": "python3",
      "display_name": "Python 3"
    },
    "language_info": {
      "name": "python"
    }
  },
  "cells": [
    {
      "cell_type": "markdown",
      "metadata": {
        "id": "view-in-github",
        "colab_type": "text"
      },
      "source": [
        "<a href=\"https://colab.research.google.com/github/tawaqalt/arbritrary/blob/master/Tawakalitu_Yusuf_Decision_Tree.ipynb\" target=\"_parent\"><img src=\"https://colab.research.google.com/assets/colab-badge.svg\" alt=\"Open In Colab\"/></a>"
      ]
    },
    {
      "cell_type": "code",
      "source": [
        "import numpy as np\n",
        "import collections\n",
        "import matplotlib.pyplot as plt\n",
        "\n",
        "class ScratchDecisionTreeClassifier:\n",
        "    def __init__(self, verbose=False):\n",
        "        self.verbose = verbose\n",
        "\n",
        "    def _calc_gini(self, y):\n",
        "        labels, counts = np.unique(y, return_counts=True)\n",
        "        _gini = 0\n",
        "        for label in labels:\n",
        "            _gini += (counts[labels == label] / np.sum(counts))**2\n",
        "        gini = 1 - _gini\n",
        "        return gini\n",
        "\n",
        "    def _calc_ig(self, X, feature_index, y, threshold):\n",
        "        labels_l = y[X[:, feature_index] < threshold]\n",
        "        labels_r = y[X[:, feature_index] >= threshold]\n",
        "        gain_l = (len(labels_l) / (len(labels_l) + len(labels_r))) * self._calc_gini(labels_l)\n",
        "        gain_r = (len(labels_r) / (len(labels_l) + len(labels_r))) * self._calc_gini(labels_r)\n",
        "        gain = self._calc_gini(y) - gain_l - gain_r\n",
        "        return gain\n",
        "\n",
        "    def fit(self, X, y):\n",
        "        self.gain = 0\n",
        "        for feature_index in range(X.shape[1]):\n",
        "            self.thresholds = np.unique(X[:, feature_index])\n",
        "            for threshold in self.thresholds:\n",
        "                _gain = self._calc_ig(X, feature_index, y, threshold)\n",
        "                if _gain > self.gain:\n",
        "                    self.l_label = collections.Counter(y[X[:, feature_index] < threshold]).most_common()[0][0]\n",
        "                    self.r_label = collections.Counter(y[X[:, feature_index] >= threshold]).most_common()[0][0]\n",
        "                    self.feature = feature_index\n",
        "                    self.threshold = threshold\n",
        "                    self.gain = _gain\n",
        "                    if self.verbose:\n",
        "                        print('feature', self.feature, 'threshold', self.threshold, 'gain', self.gain)\n",
        "\n",
        "    def predict(self, X):\n",
        "        predictions = np.where(X[:, self.feature] < self.threshold, self.l_label, self.r_label)\n",
        "        return np.array(predictions)"
      ],
      "metadata": {
        "id": "KcwdeXyCxNft"
      },
      "execution_count": 15,
      "outputs": []
    },
    {
      "cell_type": "markdown",
      "source": [
        "# [Problem 1] Function for finding impureness"
      ],
      "metadata": {
        "id": "5YhU8c8IFF10"
      }
    },
    {
      "cell_type": "code",
      "source": [
        "#Test the function with the datase\n",
        "X = np.array([[1, 2],\n",
        "              [2, 1],\n",
        "              [3, 2],\n",
        "              [1, 3],\n",
        "              [2, 3],\n",
        "              [3, 1]])\n",
        "\n",
        "y = np.array([0, 0, 1, 1, 1, 0])"
      ],
      "metadata": {
        "id": "IStF-2ZyIcId"
      },
      "execution_count": 2,
      "outputs": []
    },
    {
      "cell_type": "code",
      "source": [
        "dt = ScratchDecisionTreeClassifier()\n",
        "gini = dt._calc_gini(y)\n",
        "print(f\"Gini impurity for the entire dataset: {float(gini.item()):.4f}\")"
      ],
      "metadata": {
        "colab": {
          "base_uri": "https://localhost:8080/"
        },
        "id": "3GeWtzF7L5jy",
        "outputId": "d6f9a7c3-fa1a-44da-ea5c-52b42f0d421a"
      },
      "execution_count": 3,
      "outputs": [
        {
          "output_type": "stream",
          "name": "stdout",
          "text": [
            "Gini impurity for the entire dataset: 0.5000\n"
          ]
        }
      ]
    },
    {
      "cell_type": "markdown",
      "source": [
        "# [Problem 2] Function for finding information gain"
      ],
      "metadata": {
        "id": "ZEa7zPBYK8Ty"
      }
    },
    {
      "cell_type": "code",
      "source": [
        "feature_index = 0\n",
        "threshold = 2\n",
        "ig = dt._calc_ig(X, feature_index, y, threshold)\n",
        "print(f'Information gain for the feature:{float(gini.item()):.3f}')"
      ],
      "metadata": {
        "colab": {
          "base_uri": "https://localhost:8080/"
        },
        "id": "QH_VlZdGKvIl",
        "outputId": "da731855-2679-4fd9-c336-831f5d2c174a"
      },
      "execution_count": 4,
      "outputs": [
        {
          "output_type": "stream",
          "name": "stdout",
          "text": [
            "Information gain for the feature:0.500\n"
          ]
        }
      ]
    },
    {
      "cell_type": "markdown",
      "source": [
        "# [Problem 3] Learning"
      ],
      "metadata": {
        "id": "NHdKsazxPSrw"
      }
    },
    {
      "cell_type": "code",
      "source": [
        "#generating a graph\n",
        "# Create an instance of the decision tree classifier\n",
        "x1 = np.array([[1,2], [1,4], [2,5], [3,2]])\n",
        "y1 = np.array([0, 0, 1, 1])\n",
        "dt = ScratchDecisionTreeClassifier(verbose=True)\n",
        "\n",
        "# Fit the model to the data\n",
        "dt.fit(X, y)"
      ],
      "metadata": {
        "id": "mactk0zyPWCY",
        "colab": {
          "base_uri": "https://localhost:8080/"
        },
        "outputId": "7c4d1a2f-03d6-481a-b92d-ff0141b92e7f"
      },
      "execution_count": 5,
      "outputs": [
        {
          "output_type": "stream",
          "name": "stdout",
          "text": [
            "feature 0 threshold 2 gain [5.55111512e-17]\n",
            "feature 1 threshold 2 gain [0.25]\n"
          ]
        }
      ]
    },
    {
      "cell_type": "markdown",
      "source": [
        "# [Problem 4] Estimate"
      ],
      "metadata": {
        "id": "MSiTEPbZYqZh"
      }
    },
    {
      "cell_type": "code",
      "source": [
        "# Test data\n",
        "X_test = np.array([[1, 1],\n",
        "                   [2, 2],\n",
        "                   [3, 3], [4,5]])\n",
        "\n",
        "# Predict labels for the test data\n",
        "y_pred = dt.predict(X_test)\n",
        "print(\"Predicted labels:\", y_pred)"
      ],
      "metadata": {
        "colab": {
          "base_uri": "https://localhost:8080/"
        },
        "id": "bbyiS2oJR3vs",
        "outputId": "ab91408e-53b1-44fa-c8e9-6f7c37225f25"
      },
      "execution_count": 6,
      "outputs": [
        {
          "output_type": "stream",
          "name": "stdout",
          "text": [
            "Predicted labels: [0 1 1 1]\n"
          ]
        }
      ]
    },
    {
      "cell_type": "markdown",
      "source": [
        "# [Problem 5] Learning and estimation"
      ],
      "metadata": {
        "id": "P7lx5KCIY2co"
      }
    },
    {
      "cell_type": "code",
      "source": [
        "#using binary classification\n",
        "from sklearn.datasets import load_iris\n",
        "from sklearn.model_selection import train_test_split\n",
        "from sklearn.metrics import classification_report\n",
        "\n",
        "#load the iris datasets\n",
        "iris = load_iris()\n",
        "X = iris.data[:100, :2]\n",
        "y = iris.target[:100]\n",
        "\n",
        "\n",
        "X_train, X_test, y_train, y_test = train_test_split(X, y, test_size=0.2, random_state=42)"
      ],
      "metadata": {
        "id": "rZW8h_XQY7ct"
      },
      "execution_count": 7,
      "outputs": []
    },
    {
      "cell_type": "code",
      "source": [
        "dt1 = ScratchDecisionTreeClassifier()\n",
        "dt1.fit(X_train, y_train)\n",
        "y_pred = dt1.predict(X_test)"
      ],
      "metadata": {
        "id": "11IkiJjHbhY3"
      },
      "execution_count": 8,
      "outputs": []
    },
    {
      "cell_type": "code",
      "source": [
        "print(y_pred)"
      ],
      "metadata": {
        "colab": {
          "base_uri": "https://localhost:8080/"
        },
        "id": "HgoZRpkW7tGb",
        "outputId": "2bbed21a-9e89-496f-a12e-237bead0df4d"
      },
      "execution_count": 9,
      "outputs": [
        {
          "output_type": "stream",
          "name": "stdout",
          "text": [
            "[1 1 1 0 0 0 0 1 0 0 1 0 1 1 1 0 1 1 0 0]\n"
          ]
        }
      ]
    },
    {
      "cell_type": "code",
      "source": [
        "print('Classification Report:\\n', classification_report(y_test, y_pred, zero_division=0))"
      ],
      "metadata": {
        "colab": {
          "base_uri": "https://localhost:8080/"
        },
        "id": "8PSZo_e6d66b",
        "outputId": "61f32525-7288-4e24-e3cd-c7522a24c65d"
      },
      "execution_count": 10,
      "outputs": [
        {
          "output_type": "stream",
          "name": "stdout",
          "text": [
            "Classification Report:\n",
            "               precision    recall  f1-score   support\n",
            "\n",
            "           0       1.00      0.83      0.91        12\n",
            "           1       0.80      1.00      0.89         8\n",
            "\n",
            "    accuracy                           0.90        20\n",
            "   macro avg       0.90      0.92      0.90        20\n",
            "weighted avg       0.92      0.90      0.90        20\n",
            "\n"
          ]
        }
      ]
    },
    {
      "cell_type": "code",
      "source": [
        "from sklearn.tree import DecisionTreeClassifier\n",
        "dt2 = DecisionTreeClassifier()\n",
        "dt2.fit(X_train, y_train)\n",
        "y_pred2 = dt2.predict(X_test)\n",
        "y_pred2"
      ],
      "metadata": {
        "colab": {
          "base_uri": "https://localhost:8080/"
        },
        "id": "WcRvIvnCeJ0A",
        "outputId": "e175a060-ee84-4a4f-b15d-a0a72cff4545"
      },
      "execution_count": 11,
      "outputs": [
        {
          "output_type": "execute_result",
          "data": {
            "text/plain": [
              "array([1, 1, 1, 0, 0, 0, 0, 1, 0, 0, 0, 0, 1, 0, 1, 0, 1, 1, 0, 0])"
            ]
          },
          "metadata": {},
          "execution_count": 11
        }
      ]
    },
    {
      "cell_type": "code",
      "source": [
        "print('Classification Report:\\n', classification_report(y_test, y_pred2))"
      ],
      "metadata": {
        "colab": {
          "base_uri": "https://localhost:8080/"
        },
        "id": "LYSVinwve8FN",
        "outputId": "dd994c2b-f4ff-4e52-d59f-3df759c7b53a"
      },
      "execution_count": 12,
      "outputs": [
        {
          "output_type": "stream",
          "name": "stdout",
          "text": [
            "Classification Report:\n",
            "               precision    recall  f1-score   support\n",
            "\n",
            "           0       1.00      1.00      1.00        12\n",
            "           1       1.00      1.00      1.00         8\n",
            "\n",
            "    accuracy                           1.00        20\n",
            "   macro avg       1.00      1.00      1.00        20\n",
            "weighted avg       1.00      1.00      1.00        20\n",
            "\n"
          ]
        }
      ]
    },
    {
      "cell_type": "code",
      "source": [
        "from matplotlib.colors import ListedColormap\n",
        "def decision_region(X, y, model):\n",
        "    x_min, x_max = X[:, 0].min() - 1, X[:, 0].max() + 1\n",
        "    y_min, y_max = X[:, 1].min() - 1, X[:, 1].max() + 1\n",
        "    xx, yy = np.meshgrid(np.arange(x_min, x_max, 0.01),\n",
        "                         np.arange(y_min, y_max, 0.01))\n",
        "\n",
        "    Z = model.predict(np.c_[xx.ravel(), yy.ravel()])\n",
        "    Z = Z.reshape(xx.shape)\n",
        "\n",
        "    plt.contourf(xx, yy, Z, alpha=0.4)\n",
        "    plt.scatter(X[:, 0], X[:, 1], c=y, cmap=ListedColormap(['red', 'blue']))\n",
        "    plt.xlabel(\"Feature 1\")\n",
        "    plt.ylabel(\"Feature 2\")\n",
        "    plt.title(\"Decision Boundary\")\n",
        "    plt.show()\n",
        "\n",
        "# Example usage:\n",
        "dt = ScratchDecisionTreeClassifier(verbose=False)\n",
        "dt.fit(X_train, y_train)\n",
        "decision_region(X_train, y_train, dt)\n"
      ],
      "metadata": {
        "colab": {
          "base_uri": "https://localhost:8080/",
          "height": 472
        },
        "id": "Av1cgtByxTYg",
        "outputId": "1a5538b3-2c75-4143-a729-b07171afd9c9"
      },
      "execution_count": 13,
      "outputs": [
        {
          "output_type": "display_data",
          "data": {
            "text/plain": [
              "<Figure size 640x480 with 1 Axes>"
            ],
            "image/png": "[encoded data removed]"
          },
          "metadata": {}
        }
      ]
    },
    {
      "cell_type": "markdown",
      "source": [
        "# [Problem 7] (Advance assignment) Creation of a decision tree classifier class with a depth of 2\n"
      ],
      "metadata": {
        "id": "_AB_DHbvLM_A"
      }
    },
    {
      "cell_type": "code",
      "source": [
        "class ScratchDecisionTreeClassifierDepth2:\n",
        "    def __init__(self):\n",
        "        self.feature = None\n",
        "        self.threshold = None\n",
        "        self.left_label = None\n",
        "        self.right_label = None\n",
        "\n",
        "    def _calc_gini(self, y):\n",
        "        # Calculate Gini impurity (similar to your previous implementation)\n",
        "        # ...\n",
        "        labels, counts = np.unique(y, return_counts=True)\n",
        "        _gini = 0\n",
        "        for label in labels:\n",
        "            _gini += (counts[labels == label] / np.sum(counts))**2\n",
        "        gini = 1 - _gini\n",
        "        return gini\n",
        "\n",
        "    def _calc_ig(self, X, feature_index, y, threshold):\n",
        "        # Calculate information gain (similar to your previous implementation)\n",
        "        # ...\n",
        "       labels_l = y[X[:, feature_index] < threshold]\n",
        "       labels_r = y[X[:, feature_index] >= threshold]\n",
        "       gain_l = (len(labels_l) / (len(labels_l) + len(labels_r))) * self._calc_gini(labels_l)\n",
        "       gain_r = (len(labels_r) / (len(labels_l) + len(labels_r))) * self._calc_gini(labels_r)\n",
        "       gain = self._calc_gini(y) - gain_l - gain_r\n",
        "       return gain\n",
        "\n",
        "    def fit(self, X, y):\n",
        "        best_gain = 0\n",
        "        for feature_index in range(X.shape[1]):\n",
        "            thresholds = np.unique(X[:, feature_index])\n",
        "            for threshold in thresholds:\n",
        "                gain = self._calc_ig(X, feature_index, y, threshold)\n",
        "                if gain > best_gain:\n",
        "                    self.feature = feature_index\n",
        "                    self.threshold = threshold\n",
        "                    best_gain = gain\n",
        "\n",
        "        # Split the data based on the best feature and threshold\n",
        "        left_indices = X[:, self.feature] < self.threshold\n",
        "        right_indices = ~left_indices\n",
        "        self.left_label = collections.Counter(y[left_indices]).most_common()[0][0]\n",
        "        self.right_label = collections.Counter(y[right_indices]).most_common()[0][0]\n",
        "\n",
        "    def predict(self, X):\n",
        "        predictions = np.where(X[:, self.feature] < self.threshold, self.left_label, self.right_label)\n",
        "        return predictions"
      ],
      "metadata": {
        "id": "6VahT9u4LLqh"
      },
      "execution_count": 17,
      "outputs": []
    },
    {
      "cell_type": "code",
      "source": [
        "dt_depth2 = ScratchDecisionTreeClassifierDepth2()\n",
        "dt_depth2.fit(X_train, y_train)\n",
        "y_pred_depth2 = dt_depth2.predict(X_test)\n",
        "print(\"Predicted labels (depth 2):\", y_pred_depth2)"
      ],
      "metadata": {
        "colab": {
          "base_uri": "https://localhost:8080/"
        },
        "id": "k3QSRS4yNaay",
        "outputId": "0edc3946-68c6-4b62-fcef-b7fa743cb8dc"
      },
      "execution_count": 18,
      "outputs": [
        {
          "output_type": "stream",
          "name": "stdout",
          "text": [
            "Predicted labels (depth 2): [1 1 1 0 0 0 0 1 0 0 1 0 1 1 1 0 1 1 0 0]\n"
          ]
        }
      ]
    }
  ]
}