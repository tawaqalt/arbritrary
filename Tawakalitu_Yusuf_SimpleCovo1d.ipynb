{
  "nbformat": 4,
  "nbformat_minor": 0,
  "metadata": {
    "colab": {
      "provenance": [],
      "authorship_tag": "ABX9TyM3oD4c8ZOWbWLkFTt4jiWD",
      "include_colab_link": true
    },
    "kernelspec": {
      "name": "python3",
      "display_name": "Python 3"
    },
    "language_info": {
      "name": "python"
    }
  },
  "cells": [
    {
      "cell_type": "markdown",
      "metadata": {
        "id": "view-in-github",
        "colab_type": "text"
      },
      "source": [
        "<a href=\"https://colab.research.google.com/github/tawaqalt/arbritrary/blob/master/Tawakalitu_Yusuf_SimpleCovo1d.ipynb\" target=\"_parent\"><img src=\"https://colab.research.google.com/assets/colab-badge.svg\" alt=\"Open In Colab\"/></a>"
      ]
    },
    {
      "cell_type": "markdown",
      "metadata": {
        "id": "D9hURIxcIXeS"
      },
      "source": [
        "# Importation of Libraries"
      ]
    },
    {
      "cell_type": "code",
      "execution_count": null,
      "metadata": {
        "id": "z0VapdP0IdSC"
      },
      "outputs": [],
      "source": [
        "#importing relevant libraries\n",
        "import numpy as np\n",
        "import math\n",
        "from keras.datasets import mnist\n",
        "from sklearn.preprocessing import OneHotEncoder\n",
        "from sklearn.metrics import accuracy_score\n",
        "from sklearn.metrics import precision_score\n",
        "from sklearn.metrics import recall_score\n",
        "from sklearn.metrics import f1_score\n",
        "from sklearn.metrics import confusion_matrix\n",
        "import matplotlib.pyplot as plt\n",
        "%matplotlib inline\n",
        "from sklearn.preprocessing import OneHotEncoder\n",
        "from sklearn.model_selection import train_test_split\n"
      ]
    },
    {
      "cell_type": "code",
      "execution_count": null,
      "metadata": {
        "id": "cHgGN3ZBELsW"
      },
      "outputs": [],
      "source": [
        "class GetMiniBatch:\n",
        "    def __init__(self, X, y, batch_size=20, seed=None):\n",
        "        self.batch_size = batch_size\n",
        "        np.random.seed(seed)\n",
        "        shuffle_index = np.random.permutation(X.shape[0])\n",
        "        self._X = X[shuffle_index]\n",
        "        self._y = y[shuffle_index]\n",
        "        self._stop = np.ceil(X.shape[0] / self.batch_size).astype(int)\n",
        "\n",
        "    def __len__(self):\n",
        "        return self._stop\n",
        "\n",
        "    def __getitem__(self, item):\n",
        "        p0 = item * self.batch_size\n",
        "        p1 = item * self.batch_size + self.batch_size\n",
        "        return self._X[p0:p1], self._y[p0:p1]\n",
        "\n",
        "    def __iter__(self):\n",
        "        self._counter = 0\n",
        "        return self\n",
        "\n",
        "    def __next__(self):\n",
        "        if self._counter >= self._stop:\n",
        "            raise StopIteration()\n",
        "        p0 = self._counter * self.batch_size\n",
        "        p1 = self._counter * self.batch_size + self.batch_size\n",
        "        self._counter += 1\n",
        "        return self._X[p0:p1], self._y[p0:p1]"
      ]
    },
    {
      "cell_type": "code",
      "execution_count": null,
      "metadata": {
        "id": "bZk26DXcIQc7"
      },
      "outputs": [],
      "source": [
        "class FullyConnectedLayer:\n",
        "    def __init__(self, n_nodes1, n_nodes2, initializer, optimizer, activation):\n",
        "        self.n_nodes1 = n_nodes1\n",
        "        self.n_nodes2 = n_nodes2\n",
        "        self.W = initializer.W(self.n_nodes1, self.n_nodes2)\n",
        "        self.B = initializer.B(self.n_nodes2)\n",
        "        self.activation = activation\n",
        "        self.optimizer = optimizer\n",
        "        self.HW = 0\n",
        "        self.HB = 0\n",
        "\n",
        "    def forward(self, X):\n",
        "        self.X = X\n",
        "        self.A = np.dot(X, self.W) + self.B\n",
        "        return self.activation.forward(self.A)\n",
        "\n",
        "    def backward(self, dZ):\n",
        "        dA = self.activation.backward(dZ)\n",
        "        self.dB = np.mean(dA, axis=0)\n",
        "        self.dW = np.dot(self.X.T, dA)/len(self.X)\n",
        "        dZ = np.dot(dA, self.W.T)\n",
        "        self = self.optimizer.update(self)\n",
        "        return dZ"
      ]
    },
    {
      "cell_type": "code",
      "execution_count": null,
      "metadata": {
        "id": "q_hj_CjgJBXz"
      },
      "outputs": [],
      "source": [
        "class SimpleInitializer:\n",
        "    def __init__(self, sigma):\n",
        "        self.sigma = sigma\n",
        "\n",
        "    def W(self, n_nodes1, n_nodes2):\n",
        "        W = np.random.randn(n_nodes1, n_nodes2) * self.sigma\n",
        "        return W\n",
        "\n",
        "    def B(self, n_nodes2):\n",
        "        return np.zeros(n_nodes2)"
      ]
    },
    {
      "cell_type": "code",
      "source": [
        "class HeInitializer:\n",
        "    def __init__(self):\n",
        "        pass\n",
        "\n",
        "    def W(self, n_nodes1, n_nodes2):\n",
        "      return np.random.randn(n_nodes1, n_nodes2) * np.sqrt(2 / n_nodes1)\n",
        "\n",
        "    def B(self, n_nodes2):\n",
        "      return np.zeros(n_nodes2)"
      ],
      "metadata": {
        "id": "rdD1Mz6YiVc1"
      },
      "execution_count": null,
      "outputs": []
    },
    {
      "cell_type": "code",
      "execution_count": null,
      "metadata": {
        "id": "gvAWGW2wKX_i"
      },
      "outputs": [],
      "source": [
        "class Adagrad:\n",
        "    def __init__(self, lr):\n",
        "        self.lr = lr\n",
        "        self.HW = 0\n",
        "        self.HB = 0\n",
        "\n",
        "    def update(self, layer):\n",
        "        self.hW += layer.dW * layer.dW\n",
        "        self.hB += layer.dB * layer.dB\n",
        "\n",
        "        layer.W -= self.lr * layer.dW / (np.sqrt(self.hW) + 1e-7)\n",
        "        layer.B -= self.lr * layer.dB / (np.sqrt(self.hB) + 1e-7)\n",
        "        return layer"
      ]
    },
    {
      "cell_type": "code",
      "execution_count": null,
      "metadata": {
        "id": "MfRgSaFCJJAV"
      },
      "outputs": [],
      "source": [
        "class SGD:\n",
        "    def __init__(self, lr):\n",
        "        self.lr = lr\n",
        "\n",
        "    def update(self, layer):\n",
        "        W -= self.lr * layer.dW\n",
        "        B -= self.lr * layer.dB\n",
        "        return layer"
      ]
    },
    {
      "cell_type": "code",
      "execution_count": null,
      "metadata": {
        "id": "FpPOAM0UJ4PI"
      },
      "outputs": [],
      "source": [
        "class Sigmoid:\n",
        "    def forward(self, A):\n",
        "        self.A = A\n",
        "        Z = 1 / (1 + np.exp(-self.A))\n",
        "        return Z\n",
        "\n",
        "    def backward(self, dout):\n",
        "        dA = dout * (1 - dout)\n",
        "        return dA\n",
        "\n",
        "class Tanh:\n",
        "    def forward(self, A):\n",
        "        self.A = A\n",
        "        Z = np.tanh(self.A)\n",
        "        return Z\n",
        "\n",
        "    def backward(self, dZ):\n",
        "        dA = dZ * (1 - np.tanh(self.A) ** 2)\n",
        "        return dA\n",
        "\n",
        "class Softmax:\n",
        "    def forward(self, A):\n",
        "        self.A = A\n",
        "        exp_A = np.exp(A - np.max(A, axis=1, keepdims=True))\n",
        "        Z = exp_A / np.sum(exp_A, axis=1, keepdims=True)\n",
        "        return Z\n",
        "\n",
        "    def backward(self, Z, y):\n",
        "        m = len(y)\n",
        "        dA = Z - y\n",
        "        loss = -np.sum(y * np.log(Z + 1e-10)) / m\n",
        "        return dA, loss"
      ]
    },
    {
      "cell_type": "code",
      "execution_count": null,
      "metadata": {
        "id": "9K58e1-xKBQi"
      },
      "outputs": [],
      "source": [
        "class ReLU:\n",
        "    def __init__(self):\n",
        "      pass\n",
        "    def forward(self, A):\n",
        "        self.A = A\n",
        "        Z = np.maximum(0, self.A)\n",
        "        return Z\n",
        "\n",
        "    def backward(self, dZ):\n",
        "        dA = dZ * (self.A > 0)\n",
        "        return dA"
      ]
    },
    {
      "cell_type": "code",
      "execution_count": null,
      "metadata": {
        "id": "bcqlxtwVKN0B"
      },
      "outputs": [],
      "source": [
        "class XavierInitializer:\n",
        "    def __init__(self, sigma):\n",
        "        self.sigma = sigma\n",
        "\n",
        "    def W(self, n_nodes1, n_nodes2):\n",
        "        W = np.random.randn(n_nodes1, n_nodes2) * self.sigma * np.sqrt(1 / n_nodes1)\n",
        "        return W\n",
        "\n",
        "    def B(self, n_nodes2):\n",
        "        B = self.sigma * np.random.randn(1, n_nodes2)\n",
        "        return B\n",
        "\n",
        "class HeInitializer:\n",
        "    def __init__(self, sigma):\n",
        "        self.sigma = sigma\n",
        "\n",
        "    def W(self, n_nodes1, n_nodes2):\n",
        "        W = np.random.randn(n_nodes1, n_nodes2) * self.sigma * np.sqrt(2 / n_nodes1)\n",
        "        return W\n",
        "\n",
        "    def B(self, n_nodes2):\n",
        "        B = self.sigma * np.random.randn(1, n_nodes2)\n",
        "        return B"
      ]
    },
    {
      "cell_type": "code",
      "execution_count": null,
      "metadata": {
        "id": "Ka6aINoUIs_9",
        "colab": {
          "base_uri": "https://localhost:8080/"
        },
        "outputId": "5cd00cf9-abf8-442e-ee42-4f50dced57d6"
      },
      "outputs": [
        {
          "output_type": "stream",
          "name": "stdout",
          "text": [
            "Downloading data from https://storage.googleapis.com/tensorflow/tf-keras-datasets/mnist.npz\n",
            "11490434/11490434 [==============================] - 0s 0us/step\n"
          ]
        }
      ],
      "source": [
        "# Load data\n",
        "(X_train, y_train), (X_test, y_test) = mnist.load_data()"
      ]
    },
    {
      "cell_type": "markdown",
      "source": [
        "# [Problem 1] Creating a one-dimensional convolutional layer class that limits the number of channels to one"
      ],
      "metadata": {
        "id": "k9kzFvqPlYM8"
      }
    },
    {
      "cell_type": "code",
      "source": [
        "#1D Convolutional layer\n",
        "class SimpleConv1d:\n",
        "  def __init__(self, out_channel, in_channel, filter_size, stride, initializer, optimizer, activation, padding):\n",
        "      self.out_channel = out_channel\n",
        "      self.in_channel = in_channel\n",
        "      self.filter_size = filter_size\n",
        "      self.stride = stride\n",
        "      self.initializer = initializer\n",
        "      self.optimizer = optimizer\n",
        "      self.activation = activation\n",
        "      self.padding = padding\n",
        "\n",
        "      # Initialize weights and biases\n",
        "      self.W = self.initializer.W(out_channel, in_channel, filter_size)\n",
        "      self.B = self.initializer.B(out_channel)\n",
        "\n",
        "  def output_shape(self, n_feature, filter_size, padding=0, stride=1):\n",
        "    return int((n_feature + 2*padding - filter_size) / stride + 1)\n",
        "\n",
        "  def forward(self, X):\n",
        "    self.X = X\n",
        "    N,INC, Feature = X.shape\n",
        "    OCH, INC, FS = self.W.shape\n",
        "    OUT = self.output_shape(Feature, self.filter_size, 0, 1)\n",
        "\n",
        "    self.size = N, INC, OCH, OUT\n",
        "    A = np.zeros([N, OCH, OUT])\n",
        "    for n in range(N):\n",
        "      for och in range(OCH):\n",
        "        for m in range(OUT):\n",
        "          for ich in range(INC):\n",
        "           A[n, och, m] += np.sum(X[n, ich,m:m+FS] * self.W[och, ich,:])\n",
        "    A += self.B[:, None]\n",
        "\n",
        "    return self.activation.forward(A)\n",
        "\n",
        "  def backward(self, dA):\n",
        "\n",
        "    #Bias\n",
        "    self.dB = np.mean(np.sum(dA, axis=2), axis=0)\n",
        "    #weight, flow and slope\n",
        "    self.dW = np.zeros(self.W.shape)\n",
        "    dZ = np.zeros(self.X.shape)\n",
        "\n",
        "    N, INC, OCH, OUT = self.size\n",
        "\n",
        "    for n in range(N):\n",
        "      for och in range(OCH):\n",
        "        for m in range(OUT):\n",
        "          for ich in range(INC):\n",
        "            self.dW[och, ich, :] += self.X[n, ich, fs+m] * dA[n, och, m]\n",
        "            dZ[n, ich, fs+m] += self.W[och, ich, :] * dA[n, och, m]\n",
        "    #update\n",
        "    self = self.optimizer.update(self)\n",
        "      # Update weights and biases\n",
        "    self.W -= self.optimizer.update(self.dW)\n",
        "    self.B -= self.optimizer.update(self.dB)\n",
        "\n",
        "    return dZ"
      ],
      "metadata": {
        "id": "n5wwdJQKTlAo"
      },
      "execution_count": null,
      "outputs": []
    },
    {
      "cell_type": "code",
      "source": [
        "#1D convolutional Simple Initializer\n",
        "class SimpleInitializerConv1d:\n",
        "  def __init__(self, sigma=0.01):\n",
        "    self.sigma = sigma\n",
        "\n",
        "  def W(self, out_channel, in_channel, filter_size):\n",
        "    return self.sigma * np.random.randn(out_channel, in_channel, filter_size)\n",
        "\n",
        "  def B(self, out_channel):\n",
        "    return np.zeros(out_channel)"
      ],
      "metadata": {
        "id": "rHevJLoAqWvz"
      },
      "execution_count": null,
      "outputs": []
    },
    {
      "cell_type": "code",
      "source": [
        "#scracth CNN\n",
        "\n",
        "class Scratch1dCNNClassifier():\n",
        "  def __init__(self, NN, CNN, n_epoch = 5, n_batch = 1, verbose = False):\n",
        "    #parameters\n",
        "    self.NN = NN\n",
        "    self.CNN = CNN\n",
        "    self.n_epoch = n_epoch\n",
        "    self.n_batch = n_batch\n",
        "    self.verbose = verbose\n",
        "    self.log_loss = np.zeros(self.n_epoch)\n",
        "    self.log_acc = np.zeros(self.n_epoch)\n",
        "\n",
        "  def loss_function(sels, y, yt):\n",
        "    delta = 1e-7\n",
        "    return -np.mean(yt*np.log(y+delta))\n",
        "\n",
        "  def accuracy(self, Z, Y):\n",
        "    return accuracy_score(Y,Z)\n",
        "\n",
        "  def fit(self, X, y , X_val=False, y_val=False):\n",
        "    for epoch in range(self.n_epoch):\n",
        "      #mini-batch processing\n",
        "      get_mini_batch = GetMiniBatch(X, y, batch_size=self.n_batch)\n",
        "      self.loss = 0\n",
        "      for mini_X_train, mini_y_train in get_mini_batch:\n",
        "        #forward propagation\n",
        "        forward_data = mini_X_train.reshape(self.n_batch, 1,-1)\n",
        "        #Conv\n",
        "        for layer in range(len(self.CNN)):\n",
        "          forward_data = self.CNN[layer].forward(forward_data)\n",
        "\n",
        "        record_shape = forward_data.shape\n",
        "        forward_data = forward_data.reshape(record_shape[0], -1)\n",
        "\n",
        "        for layer in range(len(self.NN)):\n",
        "          forward_data = self.NN[layer].forward(forward_data)\n",
        "\n",
        "          #Predicted value\n",
        "          Z = forward_data\n",
        "\n",
        "          #Back propagation\n",
        "          backward_data = (Z - mini_y_train)/self.n_batch\n",
        "          for layer in range(len(self.NN)-1, -1, -1):\n",
        "            backward_data = self.NN[layer].backward(backward_data)\n",
        "\n",
        "          #Log loss\n",
        "          self.loss += self.loss_function(Z, mini_y_train)\n",
        "\n",
        "      self.log_loss[epoch] = self.loss/len(get_mini_batch)\n",
        "      self.log_acc[epoch] = self.accuracy(self.predict(X), np.argmax(y, axis=1))\n",
        "\n",
        "  def predict(self, X):\n",
        "    pred_data = X[:, np.newaxis, :]\n",
        "\n",
        "    #Conv\n",
        "    for layer in range(len(self.CNN)):\n",
        "      pred_data = self.CNN[layer].forward(pred_data)\n",
        "\n",
        "    pred_data = pred_data.reshape(pred_data.shape[0], -1)\n",
        "\n",
        "    for layer in range(len(self.NN)):\n",
        "      pred_data = self.NN[layer].forward(pred_data)\n",
        "\n",
        "      return np.argmax(pred_data, axis=1)"
      ],
      "metadata": {
        "id": "djZltw-zCHvj"
      },
      "execution_count": null,
      "outputs": []
    },
    {
      "cell_type": "markdown",
      "source": [
        "# [Problem 2] Output size calculation after one-dimensional convolution"
      ],
      "metadata": {
        "id": "8eEaIY4allRJ"
      }
    },
    {
      "cell_type": "code",
      "source": [
        "def output_size_calculation(n_in, F, P=0, S=1):\n",
        "    n_out = int((n_in + 2*P - F) / S + 1)\n",
        "\n",
        "    return n_out"
      ],
      "metadata": {
        "id": "a_8QRMXiOOEs"
      },
      "execution_count": null,
      "outputs": []
    },
    {
      "cell_type": "code",
      "source": [
        "output_size_calculation(3, 2)"
      ],
      "metadata": {
        "colab": {
          "base_uri": "https://localhost:8080/"
        },
        "id": "sXlf8fWzIOVr",
        "outputId": "b6ebc4eb-0dfc-4b89-bdf7-9399f43c594e"
      },
      "execution_count": null,
      "outputs": [
        {
          "output_type": "execute_result",
          "data": {
            "text/plain": [
              "2"
            ]
          },
          "metadata": {},
          "execution_count": 16
        }
      ]
    },
    {
      "cell_type": "markdown",
      "source": [
        "# [Problem 3] Experiment of one-dimensional convolutional layer with small array"
      ],
      "metadata": {
        "id": "HglaBAA6loID"
      }
    },
    {
      "cell_type": "code",
      "source": [
        "x = np.array([1,2,3,4])\n",
        "w = np.array([3, 5, 7])\n",
        "b = np.array([1])\n",
        "\n",
        "delta_a = np.array([10, 20])"
      ],
      "metadata": {
        "id": "6uB9Z44sOmTP"
      },
      "execution_count": null,
      "outputs": []
    },
    {
      "cell_type": "code",
      "source": [
        "a = np.zeros(output_size_calculation(4,3,0,1))\n",
        "for i in range(len(a)):\n",
        "    x_tmp = x[i:i+len(w)]\n",
        "    a[i] = np.dot(x_tmp, w) + b\n",
        "\n",
        "print(a)"
      ],
      "metadata": {
        "colab": {
          "base_uri": "https://localhost:8080/"
        },
        "id": "lrqxwvn1L9Bf",
        "outputId": "219399b0-ea9b-4ba6-8f68-2d62cf6c7279"
      },
      "execution_count": null,
      "outputs": [
        {
          "output_type": "stream",
          "name": "stdout",
          "text": [
            "[35. 50.]\n"
          ]
        },
        {
          "output_type": "stream",
          "name": "stderr",
          "text": [
            "<ipython-input-18-ec2af2eda84b>:4: DeprecationWarning: Conversion of an array with ndim > 0 to a scalar is deprecated, and will error in future. Ensure you extract a single element from your array before performing this operation. (Deprecated NumPy 1.25.)\n",
            "  a[i] = np.dot(x_tmp, w) + b\n"
          ]
        }
      ]
    },
    {
      "cell_type": "code",
      "source": [
        "#backward bias\n",
        "delta_f = np.sum(delta_a)\n",
        "print(delta_f)"
      ],
      "metadata": {
        "colab": {
          "base_uri": "https://localhost:8080/"
        },
        "id": "_kEvevP5NeWP",
        "outputId": "8feb74c5-d23c-4923-945a-439d7356830d"
      },
      "execution_count": null,
      "outputs": [
        {
          "output_type": "stream",
          "name": "stdout",
          "text": [
            "30\n"
          ]
        }
      ]
    },
    {
      "cell_type": "code",
      "source": [
        "#backward filter\n",
        "delta_w = np.zeros(w.shape)\n",
        "for i in range(len(delta_a)):\n",
        "    x_tmp = x[i:i+len(w)]\n",
        "    delta_w += delta_a[i]*x_tmp\n",
        "print(delta_w)"
      ],
      "metadata": {
        "colab": {
          "base_uri": "https://localhost:8080/"
        },
        "id": "BlMG5PfZqzEY",
        "outputId": "f4f0451c-3e92-4a29-ce42-8fc538c94d37"
      },
      "execution_count": null,
      "outputs": [
        {
          "output_type": "stream",
          "name": "stdout",
          "text": [
            "[ 50.  80. 110.]\n"
          ]
        }
      ]
    },
    {
      "cell_type": "code",
      "source": [
        "#backward error to convey the next layer\n",
        "delta_x = np.zeros(x.shape)\n",
        "for i in range(len(delta_a)):\n",
        "    delta_x[i:i+len(w)] += w*delta_a[i]\n",
        "print(delta_x)"
      ],
      "metadata": {
        "colab": {
          "base_uri": "https://localhost:8080/"
        },
        "id": "vGsqHpyvrBHi",
        "outputId": "0476df48-3487-49b9-8d34-4f1bfeccafb6"
      },
      "execution_count": null,
      "outputs": [
        {
          "output_type": "stream",
          "name": "stdout",
          "text": [
            "[ 30. 110. 170. 140.]\n"
          ]
        }
      ]
    },
    {
      "cell_type": "code",
      "source": [
        "#Implementation\n",
        "x = np.array([1, 2, 3, 4])\n",
        "w = np.array([3, 5, 7])\n",
        "b = np.array([1])\n",
        "#creating indexes\n",
        "indexes0 = np.array([0, 1, 2]).astype(int)\n",
        "indexes1 = np.array([1, 2, 3]).astype(int)\n",
        "a = np.zeros(2) # Initialize 'a' as a NumPy array with the correct size\n",
        "a[0] = np.sum(x[indexes0]*w) # Calculate the sum of the element-wise multiplication\n",
        "print(a[0])\n",
        "a[1] = np.sum(x[indexes1]*w) # Calculate the sum of the element-wise multiplication\n",
        "print(a[1])\n",
        "# a = a.sum(axis=1) # No need to sum 'a' again\n",
        "print(a)\n"
      ],
      "metadata": {
        "colab": {
          "base_uri": "https://localhost:8080/"
        },
        "id": "a_m4BC5fr0AI",
        "outputId": "920c81ba-195f-4b8b-ad3a-ae350ca8591f"
      },
      "execution_count": null,
      "outputs": [
        {
          "output_type": "stream",
          "name": "stdout",
          "text": [
            "34.0\n",
            "49.0\n",
            "[34. 49.]\n"
          ]
        }
      ]
    },
    {
      "cell_type": "markdown",
      "source": [
        "# [Problem 4] Creating a one-dimensional convolutional layer class that does not limit the number of channels"
      ],
      "metadata": {
        "id": "aVVFZA93MD2W"
      }
    },
    {
      "cell_type": "code",
      "source": [
        "x = np.array([[1, 2, 3, 4], [2, 3, 4, 5]])\n",
        "w = np.array([[[1, 1, 2], [2, 1, 1]], [[2,1,1], [1,1,1]], [[1,1,1],[1,1,1]]])\n",
        "b = np.array([1,2,3])\n",
        "\n",
        "print('x.shape', x.shape)\n",
        "print('w.shape', w.shape)\n",
        "print('b.shape', b.shape)"
      ],
      "metadata": {
        "id": "rSYnrpGDHTi9",
        "colab": {
          "base_uri": "https://localhost:8080/"
        },
        "outputId": "2197ed24-ce90-4f61-935d-fa5fb4ccc12c"
      },
      "execution_count": null,
      "outputs": [
        {
          "output_type": "stream",
          "name": "stdout",
          "text": [
            "x.shape (2, 4)\n",
            "w.shape (3, 2, 3)\n",
            "b.shape (3,)\n"
          ]
        }
      ]
    },
    {
      "cell_type": "code",
      "source": [
        "#forward\n",
        "a = np.zeros([3, output_size_calculation(4,3,0,1)])\n",
        "\n",
        "for och in range(a.shape[0]):\n",
        "  for m in range(a.shape[1]):\n",
        "    for ich in range(x.shape[0]): # Iterate over the valid range of input channels\n",
        "      a[och, m] += np.sum(x[ich,m:m+w.shape[2]]*w[och,ich,:])\n",
        "\n",
        "a += b[:, None]\n",
        "print(a)"
      ],
      "metadata": {
        "colab": {
          "base_uri": "https://localhost:8080/"
        },
        "id": "KwrLGErsyguX",
        "outputId": "c978c4c0-87a8-4bb8-bd3d-8f42b83e8fec"
      },
      "execution_count": null,
      "outputs": [
        {
          "output_type": "stream",
          "name": "stdout",
          "text": [
            "[[21. 29.]\n",
            " [18. 25.]\n",
            " [18. 24.]]\n"
          ]
        }
      ]
    },
    {
      "cell_type": "code",
      "source": [
        "#backward\n",
        "delta_a = np.array([[9, 11], [32, 35], [52, 56]])\n",
        "\n",
        "print('delta_a:\\n', delta_a)\n",
        "print('a.shape:\\n', a.shape)"
      ],
      "metadata": {
        "colab": {
          "base_uri": "https://localhost:8080/"
        },
        "id": "GnM6329Kyyi3",
        "outputId": "15c166e2-f333-4834-c403-59ce90f9b6ba"
      },
      "execution_count": null,
      "outputs": [
        {
          "output_type": "stream",
          "name": "stdout",
          "text": [
            "delta_a:\n",
            " [[ 9 11]\n",
            " [32 35]\n",
            " [52 56]]\n",
            "a.shape:\n",
            " (3, 2)\n"
          ]
        }
      ]
    },
    {
      "cell_type": "code",
      "source": [
        "#backward bias\n",
        "delta_b = np.sum(delta_a, axis=1)\n",
        "print('delta_b\\n', delta_b)"
      ],
      "metadata": {
        "colab": {
          "base_uri": "https://localhost:8080/"
        },
        "id": "WqssQbAL28jY",
        "outputId": "0aca94fc-42fc-46df-cd8a-7670f35e10c5"
      },
      "execution_count": null,
      "outputs": [
        {
          "output_type": "stream",
          "name": "stdout",
          "text": [
            "delta_b\n",
            " [ 20  67 108]\n"
          ]
        }
      ]
    },
    {
      "cell_type": "code",
      "source": [
        "#backward filter\n",
        "delta_w = np.zeros([3,2,3])\n",
        "for och in range(delta_w.shape[0]):\n",
        "  for ich in range(delta_w.shape[1]):\n",
        "    for fs in range(delta_w.shape[2]):\n",
        "      for m in range(2):\n",
        "        delta_w[och,ich,fs] += (x[ich,fs+m]*delta_a[och,m])\n",
        "print('delta_w')\n",
        "print(delta_w)"
      ],
      "metadata": {
        "colab": {
          "base_uri": "https://localhost:8080/"
        },
        "id": "bGHRjB8hzbZ7",
        "outputId": "cf6ce8ef-0129-46a6-ffc6-11630911f471"
      },
      "execution_count": null,
      "outputs": [
        {
          "output_type": "stream",
          "name": "stdout",
          "text": [
            "delta_w\n",
            "[[[ 31.  51.  71.]\n",
            "  [ 51.  71.  91.]]\n",
            "\n",
            " [[102. 169. 236.]\n",
            "  [169. 236. 303.]]\n",
            "\n",
            " [[164. 272. 380.]\n",
            "  [272. 380. 488.]]]\n"
          ]
        }
      ]
    },
    {
      "cell_type": "code",
      "source": [
        "#backward error to convey next layer\n",
        "delta_x = np.zeros([2,4])\n",
        "for och in range(w.shape[0]):\n",
        "  for ich in range(w.shape[1]):\n",
        "    for fs in range(w.shape[2]):\n",
        "      for m in range(2):\n",
        "\n",
        "        delta_x[ich,fs+m] += w[och,ich,fs]*delta_a[och,m]\n",
        "print('delta_x')\n",
        "print(delta_x)"
      ],
      "metadata": {
        "colab": {
          "base_uri": "https://localhost:8080/"
        },
        "id": "l8og6cFx9Cw6",
        "outputId": "c3b1af47-706f-4485-f376-5f221c0cfbb2"
      },
      "execution_count": null,
      "outputs": [
        {
          "output_type": "stream",
          "name": "stdout",
          "text": [
            "delta_x\n",
            "[[125. 230. 204. 113.]\n",
            " [102. 206. 195. 102.]]\n"
          ]
        }
      ]
    },
    {
      "cell_type": "markdown",
      "source": [
        "# [Problem 6] (Advanced task) Response to mini batch"
      ],
      "metadata": {
        "id": "cUsH3qd14su6"
      }
    },
    {
      "cell_type": "code",
      "source": [
        "#Mini_batch support\n",
        "x = np.array([[1, 2, 3, 4], [2, 3, 4, 5]]*2).reshape(2,2,4)\n",
        "w = np.array([[[1, 1, 2], [2, 1, 1]], [[2,1,1], [1,1,1]], [[1,1,1],[1,1,1]]])\n",
        "b = np.array([1,2,3])\n",
        "\n",
        "print('x.shape', x.shape)\n",
        "print('w.shape', w.shape)\n",
        "print('b.shape', b.shape)"
      ],
      "metadata": {
        "colab": {
          "base_uri": "https://localhost:8080/"
        },
        "id": "lB_ZHaOM9ZRJ",
        "outputId": "92b4edf8-138e-4357-e8d5-84a76a7d80e1"
      },
      "execution_count": null,
      "outputs": [
        {
          "output_type": "stream",
          "name": "stdout",
          "text": [
            "x.shape (2, 2, 4)\n",
            "w.shape (3, 2, 3)\n",
            "b.shape (3,)\n"
          ]
        }
      ]
    },
    {
      "cell_type": "code",
      "source": [
        "#backward\n",
        "delta_a = np.array([[9, 11], [32, 35], [52, 56]]*2).reshape(2,3,2)\n",
        "\n",
        "print('delta_a:\\n', delta_a)\n",
        "print('a.shape:\\n', a.shape)"
      ],
      "metadata": {
        "colab": {
          "base_uri": "https://localhost:8080/"
        },
        "id": "Qs9wCk0F-KM1",
        "outputId": "db150f9f-73c2-43e8-e475-07d9d18f5385"
      },
      "execution_count": null,
      "outputs": [
        {
          "output_type": "stream",
          "name": "stdout",
          "text": [
            "delta_a:\n",
            " [[[ 9 11]\n",
            "  [32 35]\n",
            "  [52 56]]\n",
            "\n",
            " [[ 9 11]\n",
            "  [32 35]\n",
            "  [52 56]]]\n",
            "a.shape:\n",
            " (3, 2)\n"
          ]
        }
      ]
    },
    {
      "cell_type": "code",
      "source": [
        "#Size\n",
        "N, INC, Feature = x.shape\n",
        "OCH, INC, FS = w.shape\n",
        "A = output_size_calculation(Feature, FS, 0, 1)"
      ],
      "metadata": {
        "id": "MPAcpo9N-mgL"
      },
      "execution_count": null,
      "outputs": []
    },
    {
      "cell_type": "code",
      "source": [
        "#Forward\n",
        "a = np.zeros([N, OCH, A])\n",
        "\n",
        "for n in range(N):\n",
        "  for och in range(OCH):\n",
        "    for ich in range(INC):\n",
        "      for m in range(A):\n",
        "        a[n, och, m] += np.sum(x[n, ich,m:m+FS] * w[och, ich,:])\n",
        "\n",
        "a += b[:, None]\n",
        "print(a.shape)\n",
        "print(a)"
      ],
      "metadata": {
        "colab": {
          "base_uri": "https://localhost:8080/"
        },
        "id": "4OAtm8yT-xZO",
        "outputId": "1af4d24a-a82f-4d58-d6c0-d49fe4dceb75"
      },
      "execution_count": null,
      "outputs": [
        {
          "output_type": "stream",
          "name": "stdout",
          "text": [
            "(2, 3, 2)\n",
            "[[[21. 29.]\n",
            "  [18. 25.]\n",
            "  [18. 24.]]\n",
            "\n",
            " [[21. 29.]\n",
            "  [18. 25.]\n",
            "  [18. 24.]]]\n"
          ]
        }
      ]
    },
    {
      "cell_type": "code",
      "source": [
        "#backward bais\n",
        "delta_b = np.mean(np.sum(delta_a, axis=2), axis=0)\n",
        "print('delta_b\\n', delta_b)"
      ],
      "metadata": {
        "colab": {
          "base_uri": "https://localhost:8080/"
        },
        "id": "4zI3eEM_DmNp",
        "outputId": "ba355c79-59cc-4967-e007-a57d2cbf0eda"
      },
      "execution_count": null,
      "outputs": [
        {
          "output_type": "stream",
          "name": "stdout",
          "text": [
            "delta_b\n",
            " [ 20.  67. 108.]\n"
          ]
        }
      ]
    },
    {
      "cell_type": "code",
      "source": [
        "#backward filter\n",
        "delta_w = np.zeros([3,2,3])\n",
        "for n in range(N):\n",
        "  for och in range(OCH):\n",
        "    for ich in range(INC):\n",
        "      for fs in range(FS):\n",
        "        for m in range(A):\n",
        "          delta_w[och,ich,fs] += x[n, ich, fs+m] * delta_a[n, och, m]\n",
        "\n",
        "print('delta_w:\\n', delta_w)"
      ],
      "metadata": {
        "colab": {
          "base_uri": "https://localhost:8080/"
        },
        "id": "7TZZgyCnD8UH",
        "outputId": "63f5992b-31d6-4840-8813-fe65baf94bff"
      },
      "execution_count": null,
      "outputs": [
        {
          "output_type": "stream",
          "name": "stdout",
          "text": [
            "delta_w:\n",
            " [[[ 62. 102. 142.]\n",
            "  [102. 142. 182.]]\n",
            "\n",
            " [[204. 338. 472.]\n",
            "  [338. 472. 606.]]\n",
            "\n",
            " [[328. 544. 760.]\n",
            "  [544. 760. 976.]]]\n"
          ]
        }
      ]
    },
    {
      "cell_type": "code",
      "source": [
        "#backward error to convey next layer\n",
        "delta_x = np.zeros(x.shape)\n",
        "\n",
        "for n in range(N):\n",
        "  for och in range(OCH):\n",
        "    for ich in range(INC):\n",
        "      for fs in range(FS):\n",
        "        for m in range(A):\n",
        "          delta_x[n,ich,fs+m] += w[och,ich,fs]*delta_a[n, och, m]\n",
        "\n",
        "print('delta_x:\\n', delta_x)"
      ],
      "metadata": {
        "colab": {
          "base_uri": "https://localhost:8080/"
        },
        "id": "Q_4bOvUcEeO0",
        "outputId": "c710bd19-79d7-4121-a47e-3f4b6b344c9a"
      },
      "execution_count": null,
      "outputs": [
        {
          "output_type": "stream",
          "name": "stdout",
          "text": [
            "delta_x:\n",
            " [[[125. 230. 204. 113.]\n",
            "  [102. 206. 195. 102.]]\n",
            "\n",
            " [[125. 230. 204. 113.]\n",
            "  [102. 206. 195. 102.]]]\n"
          ]
        }
      ]
    },
    {
      "cell_type": "markdown",
      "source": [
        "# [Problem 8] Learning and estimation"
      ],
      "metadata": {
        "id": "XgDkbu2gFxvh"
      }
    },
    {
      "cell_type": "markdown",
      "source": [
        "# Importing mnist data from sklearn"
      ],
      "metadata": {
        "id": "4x9RpjVSGYfz"
      }
    },
    {
      "cell_type": "code",
      "source": [
        "#importing data\n",
        "from keras.datasets import mnist\n",
        "(X, y), (X_test, y_test) = mnist.load_data()"
      ],
      "metadata": {
        "id": "-P9OK67FGeUN"
      },
      "execution_count": null,
      "outputs": []
    },
    {
      "cell_type": "code",
      "source": [
        "#checking the data\n",
        "print(X.shape)\n",
        "print(y.shape)\n",
        "print(X[1].dtype)"
      ],
      "metadata": {
        "colab": {
          "base_uri": "https://localhost:8080/"
        },
        "id": "R6JJmLwlFzNo",
        "outputId": "5aaaec28-b4fe-4a84-d2f4-788baa6c726a"
      },
      "execution_count": null,
      "outputs": [
        {
          "output_type": "stream",
          "name": "stdout",
          "text": [
            "(60000, 28, 28)\n",
            "(60000,)\n",
            "uint8\n"
          ]
        }
      ]
    },
    {
      "cell_type": "code",
      "source": [
        "#Smoothing\n",
        "X_flat = X.reshape(-1, 784)\n",
        "X_test_flat = X_test.reshape(-1, 784)\n",
        "print(X_flat.shape)\n",
        "print(X_test_flat.shape)"
      ],
      "metadata": {
        "colab": {
          "base_uri": "https://localhost:8080/"
        },
        "id": "4mz6W_TkHZt8",
        "outputId": "9930616c-14be-4aa8-c926-dd32b5fc95fd"
      },
      "execution_count": null,
      "outputs": [
        {
          "output_type": "stream",
          "name": "stdout",
          "text": [
            "(60000, 784)\n",
            "(10000, 784)\n"
          ]
        }
      ]
    },
    {
      "cell_type": "code",
      "source": [
        "#Conversion to the float datatype\n",
        "X_flat = X_flat.astype(float)\n",
        "X_test_flat = X_test_flat.astype(float)\n",
        "X_flat /= 255\n",
        "X_test_flat /= 255\n",
        "\n",
        "print(X_flat.max())\n",
        "print(X_flat.min())"
      ],
      "metadata": {
        "colab": {
          "base_uri": "https://localhost:8080/"
        },
        "id": "xMxfpmviHzAf",
        "outputId": "8f7d4157-8aef-4033-aeba-69dfe41e7e00"
      },
      "execution_count": null,
      "outputs": [
        {
          "output_type": "stream",
          "name": "stdout",
          "text": [
            "1.0\n",
            "0.0\n"
          ]
        }
      ]
    },
    {
      "cell_type": "code",
      "source": [
        "#One hot encoding\n",
        "from sklearn.preprocessing import OneHotEncoder\n",
        "enc = OneHotEncoder(handle_unknown='ignore', sparse_output=False)\n",
        "y_enc = enc.fit_transform(y[:, np.newaxis])\n",
        "y_test_enc = enc.transform(y_test[:, np.newaxis])\n",
        "print(y.shape)\n",
        "print(y_enc.shape)\n",
        "print(y_test_enc.shape)"
      ],
      "metadata": {
        "colab": {
          "base_uri": "https://localhost:8080/"
        },
        "id": "Qf85azWLJPrt",
        "outputId": "7d2690bc-0ffb-4a55-d09c-32cf682295b0"
      },
      "execution_count": null,
      "outputs": [
        {
          "output_type": "stream",
          "name": "stdout",
          "text": [
            "(60000,)\n",
            "(60000, 10)\n",
            "(10000, 10)\n"
          ]
        }
      ]
    },
    {
      "cell_type": "code",
      "source": [
        "#splitting into training and validation data\n",
        "X_train, X_vall, y_train, y_vall = train_test_split(X_flat, y_enc, test_size=0.2)\n",
        "print(X_train.shape)\n",
        "print(X_vall.shape)"
      ],
      "metadata": {
        "colab": {
          "base_uri": "https://localhost:8080/"
        },
        "id": "aPSjd3bmJUtP",
        "outputId": "82a44f2b-4e8f-40be-be00-06e2ca1da89d"
      },
      "execution_count": null,
      "outputs": [
        {
          "output_type": "stream",
          "name": "stdout",
          "text": [
            "(48000, 784)\n",
            "(12000, 784)\n"
          ]
        }
      ]
    },
    {
      "cell_type": "code",
      "source": [
        "#Learning and estimation\n",
        "NN = {0:FullyConnectedLayer(15640, 400, HeInitializer(sigma=0.01), Adagrad(0.01), ReLU()),\n",
        "      1:FullyConnectedLayer(400, 200, HeInitializer(sigma=0.01), Adagrad(0.01), ReLU()),\n",
        "      2:FullyConnectedLayer(200, 10, SimpleInitializer(sigma=0.01), Adagrad(0.01), Softmax())}"
      ],
      "metadata": {
        "id": "MF5zk0bFG4D8"
      },
      "execution_count": null,
      "outputs": []
    },
    {
      "cell_type": "code",
      "source": [
        "#Learning and estimation\n",
        "CNN = {0:SimpleConv1d(out_channel=16, in_channel=1, filter_size=3, stride=1,\n",
        "                     initializer=SimpleInitializerConv1d(sigma=0.01),\n",
        "                     optimizer=SGD(0.01), activation=ReLU(), padding=0)}"
      ],
      "metadata": {
        "id": "C3OEieJ-MpD6"
      },
      "execution_count": null,
      "outputs": []
    }
  ]
}