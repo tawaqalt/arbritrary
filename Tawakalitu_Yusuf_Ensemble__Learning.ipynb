{
  "nbformat": 4,
  "nbformat_minor": 0,
  "metadata": {
    "colab": {
      "provenance": [],
      "authorship_tag": "ABX9TyOS82Eq3//xIPGia+64bQ/a",
      "include_colab_link": true
    },
    "kernelspec": {
      "name": "python3",
      "display_name": "Python 3"
    },
    "language_info": {
      "name": "python"
    }
  },
  "cells": [
    {
      "cell_type": "markdown",
      "metadata": {
        "id": "view-in-github",
        "colab_type": "text"
      },
      "source": [
        "<a href=\"https://colab.research.google.com/github/tawaqalt/arbritrary/blob/master/Tawakalitu_Yusuf_Ensemble__Learning.ipynb\" target=\"_parent\"><img src=\"https://colab.research.google.com/assets/colab-badge.svg\" alt=\"Open In Colab\"/></a>"
      ]
    },
    {
      "cell_type": "markdown",
      "source": [
        "## Importing relevant libraries"
      ],
      "metadata": {
        "id": "kxXWkOkMTbDb"
      }
    },
    {
      "cell_type": "code",
      "source": [
        "import numpy as np\n",
        "import pandas as pd\n",
        "from sklearn.preprocessing import StandardScaler\n",
        "from sklearn.metrics import accuracy_score, mean_squared_error\n",
        "from sklearn.linear_model import LogisticRegression\n",
        "from sklearn.model_selection import train_test_split\n",
        "from sklearn.model_selection import cross_val_score\n",
        "from sklearn.ensemble import RandomForestRegressor\n",
        "from sklearn.linear_model import LassoCV, RidgeCV\n",
        "from sklearn.tree import DecisionTreeRegressor\n",
        "from sklearn.neighbors import KNeighborsClassifier\n",
        "from sklearn.ensemble import GradientBoostingRegressor\n",
        "from sklearn.ensemble import BaggingRegressor\n",
        "from sklearn.ensemble import StackingRegressor\n",
        "from sklearn.svm import SVR\n",
        "import lightgbm as lgb\n",
        "import xgboost as xgb\n",
        "from sklearn.linear_model import Lasso\n",
        "from sklearn.linear_model import Ridge\n",
        "from sklearn.model_selection import KFold"
      ],
      "metadata": {
        "id": "ctwarfP1ayzP"
      },
      "execution_count": 1,
      "outputs": []
    },
    {
      "cell_type": "code",
      "source": [
        "df = pd.read_csv('train.csv')\n",
        "df.head()"
      ],
      "metadata": {
        "colab": {
          "base_uri": "https://localhost:8080/",
          "height": 256
        },
        "id": "uRmevFdeajg-",
        "outputId": "8a8051dc-27fc-48f0-ce0e-b0bb1ae648d9"
      },
      "execution_count": 2,
      "outputs": [
        {
          "output_type": "execute_result",
          "data": {
            "text/plain": [
              "   Id  MSSubClass MSZoning  LotFrontage  LotArea Street Alley LotShape  \\\n",
              "0   1          60       RL         65.0     8450   Pave   NaN      Reg   \n",
              "1   2          20       RL         80.0     9600   Pave   NaN      Reg   \n",
              "2   3          60       RL         68.0    11250   Pave   NaN      IR1   \n",
              "3   4          70       RL         60.0     9550   Pave   NaN      IR1   \n",
              "4   5          60       RL         84.0    14260   Pave   NaN      IR1   \n",
              "\n",
              "  LandContour Utilities  ... PoolArea PoolQC Fence MiscFeature MiscVal MoSold  \\\n",
              "0         Lvl    AllPub  ...        0    NaN   NaN         NaN       0      2   \n",
              "1         Lvl    AllPub  ...        0    NaN   NaN         NaN       0      5   \n",
              "2         Lvl    AllPub  ...        0    NaN   NaN         NaN       0      9   \n",
              "3         Lvl    AllPub  ...        0    NaN   NaN         NaN       0      2   \n",
              "4         Lvl    AllPub  ...        0    NaN   NaN         NaN       0     12   \n",
              "\n",
              "  YrSold  SaleType  SaleCondition  SalePrice  \n",
              "0   2008        WD         Normal     208500  \n",
              "1   2007        WD         Normal     181500  \n",
              "2   2008        WD         Normal     223500  \n",
              "3   2006        WD        Abnorml     140000  \n",
              "4   2008        WD         Normal     250000  \n",
              "\n",
              "[5 rows x 81 columns]"
            ],
            "text/html": [
              "\n",
              "  <div id=\"df-44f7a0c1-0e92-4430-82a4-a6ba2cd1d907\" class=\"colab-df-container\">\n",
              "    <div>\n",
              "<style scoped>\n",
              "    .dataframe tbody tr th:only-of-type {\n",
              "        vertical-align: middle;\n",
              "    }\n",
              "\n",
              "    .dataframe tbody tr th {\n",
              "        vertical-align: top;\n",
              "    }\n",
              "\n",
              "    .dataframe thead th {\n",
              "        text-align: right;\n",
              "    }\n",
              "</style>\n",
              "<table border=\"1\" class=\"dataframe\">\n",
              "  <thead>\n",
              "    <tr style=\"text-align: right;\">\n",
              "      <th></th>\n",
              "      <th>Id</th>\n",
              "      <th>MSSubClass</th>\n",
              "      <th>MSZoning</th>\n",
              "      <th>LotFrontage</th>\n",
              "      <th>LotArea</th>\n",
              "      <th>Street</th>\n",
              "      <th>Alley</th>\n",
              "      <th>LotShape</th>\n",
              "      <th>LandContour</th>\n",
              "      <th>Utilities</th>\n",
              "      <th>...</th>\n",
              "      <th>PoolArea</th>\n",
              "      <th>PoolQC</th>\n",
              "      <th>Fence</th>\n",
              "      <th>MiscFeature</th>\n",
              "      <th>MiscVal</th>\n",
              "      <th>MoSold</th>\n",
              "      <th>YrSold</th>\n",
              "      <th>SaleType</th>\n",
              "      <th>SaleCondition</th>\n",
              "      <th>SalePrice</th>\n",
              "    </tr>\n",
              "  </thead>\n",
              "  <tbody>\n",
              "    <tr>\n",
              "      <th>0</th>\n",
              "      <td>1</td>\n",
              "      <td>60</td>\n",
              "      <td>RL</td>\n",
              "      <td>65.0</td>\n",
              "      <td>8450</td>\n",
              "      <td>Pave</td>\n",
              "      <td>NaN</td>\n",
              "      <td>Reg</td>\n",
              "      <td>Lvl</td>\n",
              "      <td>AllPub</td>\n",
              "      <td>...</td>\n",
              "      <td>0</td>\n",
              "      <td>NaN</td>\n",
              "      <td>NaN</td>\n",
              "      <td>NaN</td>\n",
              "      <td>0</td>\n",
              "      <td>2</td>\n",
              "      <td>2008</td>\n",
              "      <td>WD</td>\n",
              "      <td>Normal</td>\n",
              "      <td>208500</td>\n",
              "    </tr>\n",
              "    <tr>\n",
              "      <th>1</th>\n",
              "      <td>2</td>\n",
              "      <td>20</td>\n",
              "      <td>RL</td>\n",
              "      <td>80.0</td>\n",
              "      <td>9600</td>\n",
              "      <td>Pave</td>\n",
              "      <td>NaN</td>\n",
              "      <td>Reg</td>\n",
              "      <td>Lvl</td>\n",
              "      <td>AllPub</td>\n",
              "      <td>...</td>\n",
              "      <td>0</td>\n",
              "      <td>NaN</td>\n",
              "      <td>NaN</td>\n",
              "      <td>NaN</td>\n",
              "      <td>0</td>\n",
              "      <td>5</td>\n",
              "      <td>2007</td>\n",
              "      <td>WD</td>\n",
              "      <td>Normal</td>\n",
              "      <td>181500</td>\n",
              "    </tr>\n",
              "    <tr>\n",
              "      <th>2</th>\n",
              "      <td>3</td>\n",
              "      <td>60</td>\n",
              "      <td>RL</td>\n",
              "      <td>68.0</td>\n",
              "      <td>11250</td>\n",
              "      <td>Pave</td>\n",
              "      <td>NaN</td>\n",
              "      <td>IR1</td>\n",
              "      <td>Lvl</td>\n",
              "      <td>AllPub</td>\n",
              "      <td>...</td>\n",
              "      <td>0</td>\n",
              "      <td>NaN</td>\n",
              "      <td>NaN</td>\n",
              "      <td>NaN</td>\n",
              "      <td>0</td>\n",
              "      <td>9</td>\n",
              "      <td>2008</td>\n",
              "      <td>WD</td>\n",
              "      <td>Normal</td>\n",
              "      <td>223500</td>\n",
              "    </tr>\n",
              "    <tr>\n",
              "      <th>3</th>\n",
              "      <td>4</td>\n",
              "      <td>70</td>\n",
              "      <td>RL</td>\n",
              "      <td>60.0</td>\n",
              "      <td>9550</td>\n",
              "      <td>Pave</td>\n",
              "      <td>NaN</td>\n",
              "      <td>IR1</td>\n",
              "      <td>Lvl</td>\n",
              "      <td>AllPub</td>\n",
              "      <td>...</td>\n",
              "      <td>0</td>\n",
              "      <td>NaN</td>\n",
              "      <td>NaN</td>\n",
              "      <td>NaN</td>\n",
              "      <td>0</td>\n",
              "      <td>2</td>\n",
              "      <td>2006</td>\n",
              "      <td>WD</td>\n",
              "      <td>Abnorml</td>\n",
              "      <td>140000</td>\n",
              "    </tr>\n",
              "    <tr>\n",
              "      <th>4</th>\n",
              "      <td>5</td>\n",
              "      <td>60</td>\n",
              "      <td>RL</td>\n",
              "      <td>84.0</td>\n",
              "      <td>14260</td>\n",
              "      <td>Pave</td>\n",
              "      <td>NaN</td>\n",
              "      <td>IR1</td>\n",
              "      <td>Lvl</td>\n",
              "      <td>AllPub</td>\n",
              "      <td>...</td>\n",
              "      <td>0</td>\n",
              "      <td>NaN</td>\n",
              "      <td>NaN</td>\n",
              "      <td>NaN</td>\n",
              "      <td>0</td>\n",
              "      <td>12</td>\n",
              "      <td>2008</td>\n",
              "      <td>WD</td>\n",
              "      <td>Normal</td>\n",
              "      <td>250000</td>\n",
              "    </tr>\n",
              "  </tbody>\n",
              "</table>\n",
              "<p>5 rows × 81 columns</p>\n",
              "</div>\n",
              "    <div class=\"colab-df-buttons\">\n",
              "\n",
              "  <div class=\"colab-df-container\">\n",
              "    <button class=\"colab-df-convert\" onclick=\"convertToInteractive('df-44f7a0c1-0e92-4430-82a4-a6ba2cd1d907')\"\n",
              "            title=\"Convert this dataframe to an interactive table.\"\n",
              "            style=\"display:none;\">\n",
              "\n",
              "  <svg xmlns=\"http://www.w3.org/2000/svg\" height=\"24px\" viewBox=\"0 -960 960 960\">\n",
              "    <path d=\"M120-120v-720h720v720H120Zm60-500h600v-160H180v160Zm220 220h160v-160H400v160Zm0 220h160v-160H400v160ZM180-400h160v-160H180v160Zm440 0h160v-160H620v160ZM180-180h160v-160H180v160Zm440 0h160v-160H620v160Z\"/>\n",
              "  </svg>\n",
              "    </button>\n",
              "\n",
              "  <style>\n",
              "    .colab-df-container {\n",
              "      display:flex;\n",
              "      gap: 12px;\n",
              "    }\n",
              "\n",
              "    .colab-df-convert {\n",
              "      background-color: #E8F0FE;\n",
              "      border: none;\n",
              "      border-radius: 50%;\n",
              "      cursor: pointer;\n",
              "      display: none;\n",
              "      fill: #1967D2;\n",
              "      height: 32px;\n",
              "      padding: 0 0 0 0;\n",
              "      width: 32px;\n",
              "    }\n",
              "\n",
              "    .colab-df-convert:hover {\n",
              "      background-color: #E2EBFA;\n",
              "      box-shadow: 0px 1px 2px rgba(60, 64, 67, 0.3), 0px 1px 3px 1px rgba(60, 64, 67, 0.15);\n",
              "      fill: #174EA6;\n",
              "    }\n",
              "\n",
              "    .colab-df-buttons div {\n",
              "      margin-bottom: 4px;\n",
              "    }\n",
              "\n",
              "    [theme=dark] .colab-df-convert {\n",
              "      background-color: #3B4455;\n",
              "      fill: #D2E3FC;\n",
              "    }\n",
              "\n",
              "    [theme=dark] .colab-df-convert:hover {\n",
              "      background-color: #434B5C;\n",
              "      box-shadow: 0px 1px 3px 1px rgba(0, 0, 0, 0.15);\n",
              "      filter: drop-shadow(0px 1px 2px rgba(0, 0, 0, 0.3));\n",
              "      fill: #FFFFFF;\n",
              "    }\n",
              "  </style>\n",
              "\n",
              "    <script>\n",
              "      const buttonEl =\n",
              "        document.querySelector('#df-44f7a0c1-0e92-4430-82a4-a6ba2cd1d907 button.colab-df-convert');\n",
              "      buttonEl.style.display =\n",
              "        google.colab.kernel.accessAllowed ? 'block' : 'none';\n",
              "\n",
              "      async function convertToInteractive(key) {\n",
              "        const element = document.querySelector('#df-44f7a0c1-0e92-4430-82a4-a6ba2cd1d907');\n",
              "        const dataTable =\n",
              "          await google.colab.kernel.invokeFunction('convertToInteractive',\n",
              "                                                    [key], {});\n",
              "        if (!dataTable) return;\n",
              "\n",
              "        const docLinkHtml = 'Like what you see? Visit the ' +\n",
              "          '<a target=\"_blank\" href=https://colab.research.google.com/notebooks/data_table.ipynb>data table notebook</a>'\n",
              "          + ' to learn more about interactive tables.';\n",
              "        element.innerHTML = '';\n",
              "        dataTable['output_type'] = 'display_data';\n",
              "        await google.colab.output.renderOutput(dataTable, element);\n",
              "        const docLink = document.createElement('div');\n",
              "        docLink.innerHTML = docLinkHtml;\n",
              "        element.appendChild(docLink);\n",
              "      }\n",
              "    </script>\n",
              "  </div>\n",
              "\n",
              "\n",
              "<div id=\"df-48b3320e-6491-40f7-92d6-44828a2f2ca1\">\n",
              "  <button class=\"colab-df-quickchart\" onclick=\"quickchart('df-48b3320e-6491-40f7-92d6-44828a2f2ca1')\"\n",
              "            title=\"Suggest charts\"\n",
              "            style=\"display:none;\">\n",
              "\n",
              "<svg xmlns=\"http://www.w3.org/2000/svg\" height=\"24px\"viewBox=\"0 0 24 24\"\n",
              "     width=\"24px\">\n",
              "    <g>\n",
              "        <path d=\"M19 3H5c-1.1 0-2 .9-2 2v14c0 1.1.9 2 2 2h14c1.1 0 2-.9 2-2V5c0-1.1-.9-2-2-2zM9 17H7v-7h2v7zm4 0h-2V7h2v10zm4 0h-2v-4h2v4z\"/>\n",
              "    </g>\n",
              "</svg>\n",
              "  </button>\n",
              "\n",
              "<style>\n",
              "  .colab-df-quickchart {\n",
              "      --bg-color: #E8F0FE;\n",
              "      --fill-color: #1967D2;\n",
              "      --hover-bg-color: #E2EBFA;\n",
              "      --hover-fill-color: #174EA6;\n",
              "      --disabled-fill-color: #AAA;\n",
              "      --disabled-bg-color: #DDD;\n",
              "  }\n",
              "\n",
              "  [theme=dark] .colab-df-quickchart {\n",
              "      --bg-color: #3B4455;\n",
              "      --fill-color: #D2E3FC;\n",
              "      --hover-bg-color: #434B5C;\n",
              "      --hover-fill-color: #FFFFFF;\n",
              "      --disabled-bg-color: #3B4455;\n",
              "      --disabled-fill-color: #666;\n",
              "  }\n",
              "\n",
              "  .colab-df-quickchart {\n",
              "    background-color: var(--bg-color);\n",
              "    border: none;\n",
              "    border-radius: 50%;\n",
              "    cursor: pointer;\n",
              "    display: none;\n",
              "    fill: var(--fill-color);\n",
              "    height: 32px;\n",
              "    padding: 0;\n",
              "    width: 32px;\n",
              "  }\n",
              "\n",
              "  .colab-df-quickchart:hover {\n",
              "    background-color: var(--hover-bg-color);\n",
              "    box-shadow: 0 1px 2px rgba(60, 64, 67, 0.3), 0 1px 3px 1px rgba(60, 64, 67, 0.15);\n",
              "    fill: var(--button-hover-fill-color);\n",
              "  }\n",
              "\n",
              "  .colab-df-quickchart-complete:disabled,\n",
              "  .colab-df-quickchart-complete:disabled:hover {\n",
              "    background-color: var(--disabled-bg-color);\n",
              "    fill: var(--disabled-fill-color);\n",
              "    box-shadow: none;\n",
              "  }\n",
              "\n",
              "  .colab-df-spinner {\n",
              "    border: 2px solid var(--fill-color);\n",
              "    border-color: transparent;\n",
              "    border-bottom-color: var(--fill-color);\n",
              "    animation:\n",
              "      spin 1s steps(1) infinite;\n",
              "  }\n",
              "\n",
              "  @keyframes spin {\n",
              "    0% {\n",
              "      border-color: transparent;\n",
              "      border-bottom-color: var(--fill-color);\n",
              "      border-left-color: var(--fill-color);\n",
              "    }\n",
              "    20% {\n",
              "      border-color: transparent;\n",
              "      border-left-color: var(--fill-color);\n",
              "      border-top-color: var(--fill-color);\n",
              "    }\n",
              "    30% {\n",
              "      border-color: transparent;\n",
              "      border-left-color: var(--fill-color);\n",
              "      border-top-color: var(--fill-color);\n",
              "      border-right-color: var(--fill-color);\n",
              "    }\n",
              "    40% {\n",
              "      border-color: transparent;\n",
              "      border-right-color: var(--fill-color);\n",
              "      border-top-color: var(--fill-color);\n",
              "    }\n",
              "    60% {\n",
              "      border-color: transparent;\n",
              "      border-right-color: var(--fill-color);\n",
              "    }\n",
              "    80% {\n",
              "      border-color: transparent;\n",
              "      border-right-color: var(--fill-color);\n",
              "      border-bottom-color: var(--fill-color);\n",
              "    }\n",
              "    90% {\n",
              "      border-color: transparent;\n",
              "      border-bottom-color: var(--fill-color);\n",
              "    }\n",
              "  }\n",
              "</style>\n",
              "\n",
              "  <script>\n",
              "    async function quickchart(key) {\n",
              "      const quickchartButtonEl =\n",
              "        document.querySelector('#' + key + ' button');\n",
              "      quickchartButtonEl.disabled = true;  // To prevent multiple clicks.\n",
              "      quickchartButtonEl.classList.add('colab-df-spinner');\n",
              "      try {\n",
              "        const charts = await google.colab.kernel.invokeFunction(\n",
              "            'suggestCharts', [key], {});\n",
              "      } catch (error) {\n",
              "        console.error('Error during call to suggestCharts:', error);\n",
              "      }\n",
              "      quickchartButtonEl.classList.remove('colab-df-spinner');\n",
              "      quickchartButtonEl.classList.add('colab-df-quickchart-complete');\n",
              "    }\n",
              "    (() => {\n",
              "      let quickchartButtonEl =\n",
              "        document.querySelector('#df-48b3320e-6491-40f7-92d6-44828a2f2ca1 button');\n",
              "      quickchartButtonEl.style.display =\n",
              "        google.colab.kernel.accessAllowed ? 'block' : 'none';\n",
              "    })();\n",
              "  </script>\n",
              "</div>\n",
              "\n",
              "    </div>\n",
              "  </div>\n"
            ],
            "application/vnd.google.colaboratory.intrinsic+json": {
              "type": "dataframe",
              "variable_name": "df"
            }
          },
          "metadata": {},
          "execution_count": 2
        }
      ]
    },
    {
      "cell_type": "code",
      "source": [
        "#using GRlivArea as explanatory variable and Salesprice as the dependent variable\n",
        "X = df[['GrLivArea', 'YearBuilt']]\n",
        "y = df['SalePrice']"
      ],
      "metadata": {
        "id": "AOFby04NcT5H"
      },
      "execution_count": 3,
      "outputs": []
    },
    {
      "cell_type": "code",
      "source": [
        "X.shape, y.shape"
      ],
      "metadata": {
        "colab": {
          "base_uri": "https://localhost:8080/"
        },
        "id": "oOJU3YH6djZm",
        "outputId": "18d8c6c7-36fb-442f-8c4f-0831195e18cd"
      },
      "execution_count": 4,
      "outputs": [
        {
          "output_type": "execute_result",
          "data": {
            "text/plain": [
              "((1460, 2), (1460,))"
            ]
          },
          "metadata": {},
          "execution_count": 4
        }
      ]
    },
    {
      "cell_type": "code",
      "source": [
        "#splitting data into train and test spits\n",
        "X_train, X_test, y_train, y_test = train_test_split(X, y,test_size=0.2, random_state =0, shuffle=True)"
      ],
      "metadata": {
        "id": "vqtMA9gudhox"
      },
      "execution_count": 5,
      "outputs": []
    },
    {
      "cell_type": "code",
      "source": [
        "X_train.shape, X_test.shape, y_train.shape, y_test.shape"
      ],
      "metadata": {
        "colab": {
          "base_uri": "https://localhost:8080/"
        },
        "id": "fyB-TMICd_Xy",
        "outputId": "ccc97c26-a04c-4eb5-8def-7bb34596bd29"
      },
      "execution_count": 6,
      "outputs": [
        {
          "output_type": "execute_result",
          "data": {
            "text/plain": [
              "((1168, 2), (292, 2), (1168,), (292,))"
            ]
          },
          "metadata": {},
          "execution_count": 6
        }
      ]
    },
    {
      "cell_type": "markdown",
      "source": [
        "# [Problem 1] Scratch implementation of blending"
      ],
      "metadata": {
        "id": "cgwzhyuThW27"
      }
    },
    {
      "cell_type": "markdown",
      "source": [
        "# Example 1"
      ],
      "metadata": {
        "id": "XbWw5sn_s9wn"
      }
    },
    {
      "cell_type": "code",
      "source": [
        "#Trying out different models\n",
        "#standardizing the data\n",
        "sc = StandardScaler()\n",
        "X_train = sc.fit_transform(X_train)\n",
        "X_test = sc.transform(X_test)\n",
        "#instantiating the logistic regression model\n",
        "lr = LogisticRegression()\n",
        "lr.fit(X_train, y_train)\n",
        "y_pred_lr = lr.predict(X_test)\n",
        "print('mean squared error of Logistic regression: ', mean_squared_error(y_test, y_pred_lr))\n",
        "\n",
        "#instantiating the SVR model\n",
        "svr = SVR()\n",
        "svr.fit(X_train, y_train)\n",
        "y_pred_svr = svr.predict(X_test)\n",
        "print('mean squared error of SVR: ', mean_squared_error(y_test, y_pred_svr))\n",
        "\n",
        "\n",
        "#instantiating the DecisionTreeRegressor\n",
        "dtr = DecisionTreeRegressor()\n",
        "dtr.fit(X_train, y_train)\n",
        "y_pred_dtr = dtr.predict(X_test)\n",
        "print('mean squared error of DecisionTreeRegressor: ', mean_squared_error(y_test, y_pred_dtr))"
      ],
      "metadata": {
        "colab": {
          "base_uri": "https://localhost:8080/"
        },
        "id": "rVMqyg1MeJJC",
        "outputId": "39736b10-10be-4b8e-d67c-52416226e452"
      },
      "execution_count": 7,
      "outputs": [
        {
          "output_type": "stream",
          "name": "stdout",
          "text": [
            "mean squared error of Logistic regression:  3836195261.0\n",
            "mean squared error of SVR:  7221625115.268777\n",
            "mean squared error of DecisionTreeRegressor:  3170580008.480974\n"
          ]
        }
      ]
    },
    {
      "cell_type": "code",
      "source": [
        "#blending of the models\n",
        "#stacking the models\n",
        "mean_pred = np.vstack((y_pred_lr, y_pred_svr, y_pred_dtr))\n",
        "\n",
        "mean_pred = y_pred_lr*0.2 + y_pred_svr*0.3 + y_pred_dtr*0.5\n",
        "print('mean squared error of blending: ', mean_squared_error(y_test, mean_pred))"
      ],
      "metadata": {
        "colab": {
          "base_uri": "https://localhost:8080/"
        },
        "id": "AbOlmNGYqedI",
        "outputId": "7552ac30-c729-47a2-fd09-500beab35efc"
      },
      "execution_count": 8,
      "outputs": [
        {
          "output_type": "stream",
          "name": "stdout",
          "text": [
            "mean squared error of blending:  2745361518.8375845\n"
          ]
        }
      ]
    },
    {
      "cell_type": "markdown",
      "source": [
        "# Example 2"
      ],
      "metadata": {
        "id": "HctXvto5tBuT"
      }
    },
    {
      "cell_type": "code",
      "source": [
        "#Instantiating Lasso\n",
        "lasso = Lasso(alpha=0.1)\n",
        "lasso.fit(X_train, y_train)\n",
        "y_pred_lasso = lasso.predict(X_test)\n",
        "print('mse of lasso: ', mean_squared_error(y_test, y_pred_lasso))\n",
        "\n",
        "#instantiating the SVR\n",
        "svr_n = SVR()\n",
        "svr_n.fit(X_train, y_train)\n",
        "y_pred_svr_n = svr_n.predict(X_test)\n",
        "print('mse of SVR: ', mean_squared_error(y_test, y_pred_svr_n))\n",
        "\n",
        "#instantiating the Ridge\n",
        "ridge = Ridge(alpha=0.1)\n",
        "ridge.fit(X_train, y_train)\n",
        "y_pred_ridge = ridge.predict(X_test)\n",
        "print('mse of ridge: ', mean_squared_error(y_test, y_pred_ridge))\n",
        "\n",
        "#stacking the model\n",
        "mean_pred_n = np.vstack((y_pred_lasso, y_pred_svr_n, y_pred_ridge))\n",
        "\n",
        "mean_pred = y_pred_lasso*0.4 + y_pred_svr_n*0.2 + y_pred_ridge*0.4\n",
        "print('mean squared error of blending: ', mean_squared_error(y_test, mean_pred))"
      ],
      "metadata": {
        "colab": {
          "base_uri": "https://localhost:8080/"
        },
        "id": "pPY38twgtEzW",
        "outputId": "beeb4799-ebb6-435d-db2d-f52a1cc31461"
      },
      "execution_count": 9,
      "outputs": [
        {
          "output_type": "stream",
          "name": "stdout",
          "text": [
            "mse of lasso:  2942065459.3163877\n",
            "mse of SVR:  7221625115.268777\n",
            "mse of ridge:  2941990621.0942945\n",
            "mean squared error of blending:  2959122142.8199334\n"
          ]
        }
      ]
    },
    {
      "cell_type": "markdown",
      "source": [
        "# Example 3"
      ],
      "metadata": {
        "id": "nThd9bZPxpSY"
      }
    },
    {
      "cell_type": "code",
      "source": [
        "# Instantiating the Decision tree\n",
        "dtr_n = DecisionTreeRegressor()\n",
        "dtr_n.fit(X_train, y_train)\n",
        "y_pred_dtr_n = dtr_n.predict(X_test)\n",
        "print('mse of DecisionTreeRegressor: ', mean_squared_error(y_test, y_pred_dtr_n))\n",
        "\n",
        "#Instantiating the SVR\n",
        "svr_nn = SVR()\n",
        "svr_nn.fit(X_train, y_train)\n",
        "y_pred_svr_nn = svr_nn.predict(X_test)\n",
        "print('mse of SVR: ', mean_squared_error(y_test, y_pred_svr_nn))\n",
        "\n",
        "#Instantiating the Random Forest Model\n",
        "rf = RandomForestRegressor()\n",
        "rf.fit(X_train, y_train)\n",
        "y_pred_rf = rf.predict(X_test)\n",
        "print('mse of RandomForestRegressor: ', mean_squared_error(y_test, y_pred_rf))\n",
        "\n",
        "mean_pred = np.vstack((y_pred_dtr_n, y_pred_svr_nn, y_pred_rf))\n",
        "\n",
        "mean_pred = y_pred_dtr_n*0.2 + y_pred_svr_nn*0.1 + y_pred_rf*0.6\n",
        "print('mean squared error of blending: ', mean_squared_error(y_test, mean_pred))"
      ],
      "metadata": {
        "colab": {
          "base_uri": "https://localhost:8080/"
        },
        "id": "IRFDqd3Fx0ja",
        "outputId": "f758b13f-1a44-485a-84cf-770c83e6b2d7"
      },
      "execution_count": 10,
      "outputs": [
        {
          "output_type": "stream",
          "name": "stdout",
          "text": [
            "mse of DecisionTreeRegressor:  3241093707.1898785\n",
            "mse of SVR:  7221625115.268777\n",
            "mse of RandomForestRegressor:  1801967333.890562\n",
            "mean squared error of blending:  2435781124.263607\n"
          ]
        }
      ]
    },
    {
      "cell_type": "markdown",
      "source": [
        "# [Problem 2] Scratch implementation of bagging"
      ],
      "metadata": {
        "id": "qQKVdNiB1Byl"
      }
    },
    {
      "cell_type": "markdown",
      "source": [
        "# Using the Bagging method alone vs using with other models"
      ],
      "metadata": {
        "id": "Fq0jnZrqHwXq"
      }
    },
    {
      "source": [
        "import numpy as np\n",
        "from sklearn.base import BaseEstimator, RegressorMixin\n",
        "from sklearn.tree import DecisionTreeRegressor\n",
        "\n",
        "class Bagging(BaseEstimator, RegressorMixin):\n",
        "    def __init__(self, n_estimators=10, random_state=None):\n",
        "        self.n_estimators = n_estimators\n",
        "        self.random_state = random_state\n",
        "        self.base_models = [DecisionTreeRegressor(random_state=self.random_state) for _ in range(self.n_estimators)]\n",
        "\n",
        "    def fit(self, X, y):\n",
        "        for model in self.base_models:\n",
        "            # Use iloc to access elements by integer position\n",
        "            indices = np.random.choice(len(X), size=len(X), replace=True)\n",
        "            X_sampled, y_sampled = X[indices], y.iloc[indices]\n",
        "            model.fit(X_sampled, y_sampled)\n",
        "\n",
        "    def predict(self, X):\n",
        "        predictions = np.array([model.predict(X) for model in self.base_models])\n",
        "        return np.mean(predictions, axis=0)\n",
        "\n",
        "bagging_model = Bagging(n_estimators=10, random_state=42)\n",
        "bagging_model.fit(X_train, y_train)\n",
        "y_pred = bagging_model.predict(X_test)\n",
        "\n",
        "print('mean squared error of bagging: ', mean_squared_error(y_test, y_pred))"
      ],
      "cell_type": "code",
      "metadata": {
        "colab": {
          "base_uri": "https://localhost:8080/"
        },
        "id": "HcUAbK6MryAv",
        "outputId": "d82e758f-7302-41ae-faaf-cae93415c47f"
      },
      "execution_count": 21,
      "outputs": [
        {
          "output_type": "stream",
          "name": "stdout",
          "text": [
            "mean squared error of bagging:  1810897775.501013\n"
          ]
        }
      ]
    },
    {
      "cell_type": "code",
      "source": [
        "# Instantiate a base decision tree classifier\n",
        "base_model = DecisionTreeRegressor(max_depth=5)\n",
        "\n",
        "# Instantiate the bagging classifier\n",
        "bagging_model = BaggingRegressor(base_model, n_estimators=100, random_state=42)\n",
        "\n",
        "# Train the bagging model\n",
        "bagging_model.fit(X_train, y_train)\n",
        "\n",
        "# Make predictions on the test set\n",
        "y_pred = bagging_model.predict(X_test)\n",
        "\n",
        "# Evaluate accuracy\n",
        "print('mse of the bagging model: ' , mean_squared_error(y_test, y_pred))"
      ],
      "metadata": {
        "colab": {
          "base_uri": "https://localhost:8080/"
        },
        "id": "KF_da7K2Ln3W",
        "outputId": "5356a939-6cf4-44e2-b7d1-51b8517cbb11"
      },
      "execution_count": 12,
      "outputs": [
        {
          "output_type": "stream",
          "name": "stdout",
          "text": [
            "mse of the bagging model:  1769773666.0348601\n"
          ]
        }
      ]
    },
    {
      "cell_type": "code",
      "source": [
        "from sklearn.ensemble import GradientBoostingRegressor, BaggingRegressor\n",
        "import xgboost as xgb\n",
        "import lightgbm as lgb\n",
        "from sklearn.metrics import mean_squared_error\n",
        "\n",
        "# Instantiate individual models\n",
        "grb = GradientBoostingRegressor(n_estimators=100, max_depth=5)\n",
        "xg = xgb.XGBRegressor(n_estimators=100, max_depth=5)\n",
        "\n",
        "\n",
        "# Train individual models\n",
        "grb.fit(X_train, y_train)\n",
        "xg.fit(X_train, y_train)\n",
        "\n",
        "\n",
        "# Combine predictions from individual models\n",
        "grb_pred = grb.predict(X_test)\n",
        "xg_pred = xg.predict(X_test)\n",
        "combined_predictions = (grb_pred + xg_pred ) / 2.0\n",
        "\n",
        "\n",
        "# Calculate mean squared errors\n",
        "grb_mse = mean_squared_error(y_test, grb_pred)\n",
        "xg_mse = mean_squared_error(y_test, xg_pred)\n",
        "combined_mse = mean_squared_error(y_test, combined_predictions)\n",
        "\n",
        "\n",
        "#print mean squared error\n",
        "print('mse of GradientBoostingRegressor: ', grb_mse)\n",
        "print('mse of XGBRegressor: ', xg_mse)\n",
        "print('mse of the bagging model: ', combined_mse)"
      ],
      "metadata": {
        "id": "s2TU8W2q_INY",
        "colab": {
          "base_uri": "https://localhost:8080/"
        },
        "outputId": "45d2f0d4-d887-42e3-878e-65eb99f9eb72"
      },
      "execution_count": 31,
      "outputs": [
        {
          "output_type": "stream",
          "name": "stdout",
          "text": [
            "mse of GradientBoostingRegressor:  1391672215.8584366\n",
            "mse of XGBRegressor:  1472362583.6215823\n",
            "mse of the bagging model:  1367068146.1896343\n"
          ]
        }
      ]
    },
    {
      "cell_type": "code",
      "source": [
        "bagging = BaggingRegressor()\n",
        "bagging.fit(X_train, y_train)\n",
        "y_pred_bagging = bagging.predict(X_test) # Remove y_test from here\n",
        "print('mean squared error of bagging: ', mean_squared_error(y_test, y_pred_bagging))"
      ],
      "metadata": {
        "id": "rcSQOHJQLoJ5",
        "colab": {
          "base_uri": "https://localhost:8080/"
        },
        "outputId": "c4b62529-172a-4589-c9fd-07b3c859d280"
      },
      "execution_count": 14,
      "outputs": [
        {
          "output_type": "stream",
          "name": "stdout",
          "text": [
            "mean squared error of bagging:  2217460163.742679\n"
          ]
        }
      ]
    },
    {
      "cell_type": "markdown",
      "source": [
        "# this also confirms that combination of two models provides better aacuracy than one model"
      ],
      "metadata": {
        "id": "t2h0kUlMkOGc"
      }
    },
    {
      "cell_type": "markdown",
      "source": [
        "# [Problem 3] Scratch implementation of stacking"
      ],
      "metadata": {
        "id": "_leYk9Xj7kfZ"
      }
    },
    {
      "cell_type": "code",
      "source": [
        "from sklearn.base import BaseEstimator, ClassifierMixin\n",
        "\n",
        "class Stacking(BaseEstimator, ClassifierMixin):\n",
        "    def __init__(self, base_models):\n",
        "        self.base_models = base_models\n",
        "        self.meta_model = LogisticRegression()\n",
        "\n",
        "    def fit(self, X, y):\n",
        "        # Split data into training and validation sets\n",
        "        X_train, X_val, y_train, y_val = train_test_split(X, y, test_size=0.2, random_state=42)\n",
        "\n",
        "        # Train base models\n",
        "        base_predictions = []\n",
        "        for model in self.base_models:\n",
        "            model.fit(X_train, y_train)\n",
        "            base_pred = model.predict(X_val)\n",
        "            base_predictions.append(base_pred)\n",
        "\n",
        "        # Create meta-features (stacked predictions)\n",
        "        meta_features = np.column_stack(base_predictions)\n",
        "\n",
        "        # Train meta-model\n",
        "        self.meta_model.fit(meta_features, y_val)\n",
        "\n",
        "    def predict(self, X):\n",
        "        base_predictions = []\n",
        "        for model in self.base_models:\n",
        "            base_pred = model.predict(X)\n",
        "            base_predictions.append(base_pred)\n",
        "        meta_features = np.column_stack(base_predictions)\n",
        "        return self.meta_model.predict(meta_features)\n",
        "\n",
        "\n",
        "\n",
        "\n",
        "# Initialize base models\n",
        "base_model1 = DecisionTreeRegressor()\n",
        "base_model2 = RandomForestRegressor()\n",
        "\n",
        "# Initialize the stacking model\n",
        "stacking_model = Stacking(base_models=[base_model1, base_model2])\n",
        "\n",
        "# Fit the stacking model\n",
        "stacking_model.fit(X_train, y_train)\n",
        "\n",
        "# Make predictions using the stacked model\n",
        "stacked_pred = stacking_model.predict(X_test)\n",
        "\n",
        "# Evaluate accuracy\n",
        "accuracy = accuracy_score(y_test, stacked_pred)\n",
        "print('mse of the Stacking model:', mean_squared_error(y_test, stacked_pred))\n"
      ],
      "metadata": {
        "colab": {
          "base_uri": "https://localhost:8080/"
        },
        "id": "TOmMJM-9qIph",
        "outputId": "2c03c211-5f74-4402-d074-f67be8772c9e"
      },
      "execution_count": 15,
      "outputs": [
        {
          "output_type": "stream",
          "name": "stdout",
          "text": [
            "mse of the Stacking model: 10888600451.496574\n"
          ]
        },
        {
          "output_type": "stream",
          "name": "stderr",
          "text": [
            "/usr/local/lib/python3.10/dist-packages/sklearn/linear_model/_logistic.py:458: ConvergenceWarning: lbfgs failed to converge (status=1):\n",
            "STOP: TOTAL NO. of ITERATIONS REACHED LIMIT.\n",
            "\n",
            "Increase the number of iterations (max_iter) or scale the data as shown in:\n",
            "    https://scikit-learn.org/stable/modules/preprocessing.html\n",
            "Please also refer to the documentation for alternative solver options:\n",
            "    https://scikit-learn.org/stable/modules/linear_model.html#logistic-regression\n",
            "  n_iter_i = _check_optimize_result(\n"
          ]
        }
      ]
    },
    {
      "cell_type": "markdown",
      "source": [
        "# Combining wiht other models"
      ],
      "metadata": {
        "id": "5a2CDgpPYPZy"
      }
    },
    {
      "cell_type": "code",
      "source": [
        "#combining with other models\n",
        "from sklearn.neighbors import KNeighborsRegressor\n",
        "\n",
        "estimators = [\n",
        "    ('lasso', LassoCV()),\n",
        "    ('ridge', RidgeCV()),\n",
        "    ('knn', KNeighborsRegressor(n_neighbors=7))\n",
        "]\n",
        "\n",
        "final_estimator = GradientBoostingRegressor(n_estimators=25, subsample=0.5,\n",
        "                                           min_samples_leaf=25, max_features=2,\n",
        "                                           random_state=42)\n",
        "\n",
        "# Pass the list of estimators to the StackingRegressor\n",
        "reg = StackingRegressor(estimators=estimators, final_estimator=final_estimator)\n",
        "\n",
        "# Train the StackingRegressor\n",
        "reg.fit(X_train, y_train)\n",
        "\n",
        "print('mse of Stacking model: ', mean_squared_error(y_test, reg.predict(X_test)))"
      ],
      "metadata": {
        "id": "Ui4hSm_Qr_Ys",
        "colab": {
          "base_uri": "https://localhost:8080/"
        },
        "outputId": "7a669d02-59af-4cec-d37f-e890d3dee9f1"
      },
      "execution_count": 19,
      "outputs": [
        {
          "output_type": "stream",
          "name": "stdout",
          "text": [
            "mse of Stacking model:  2221994390.687851\n"
          ]
        }
      ]
    },
    {
      "cell_type": "markdown",
      "source": [
        "from the stacking model, it can be seen that cmmbining with other models has a higher accuracy than using the model alone"
      ],
      "metadata": {
        "id": "oASDa8F7Z5Xf"
      }
    }
  ]
}