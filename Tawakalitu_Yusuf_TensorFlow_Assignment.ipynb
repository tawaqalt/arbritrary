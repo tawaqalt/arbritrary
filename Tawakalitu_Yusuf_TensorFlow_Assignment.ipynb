{
  "nbformat": 4,
  "nbformat_minor": 0,
  "metadata": {
    "colab": {
      "provenance": [],
      "authorship_tag": "ABX9TyPHTLRGT4c1oc65EcnLahOG",
      "include_colab_link": true
    },
    "kernelspec": {
      "name": "python3",
      "display_name": "Python 3"
    },
    "language_info": {
      "name": "python"
    }
  },
  "cells": [
    {
      "cell_type": "markdown",
      "metadata": {
        "id": "view-in-github",
        "colab_type": "text"
      },
      "source": [
        "<a href=\"https://colab.research.google.com/github/tawaqalt/arbritrary/blob/master/Tawakalitu_Yusuf_TensorFlow_Assignment.ipynb\" target=\"_parent\"><img src=\"https://colab.research.google.com/assets/colab-badge.svg\" alt=\"Open In Colab\"/></a>"
      ]
    },
    {
      "cell_type": "markdown",
      "source": [
        "# [Problem 1] Looking back on scratch"
      ],
      "metadata": {
        "id": "M-bU5QuK63nB"
      }
    },
    {
      "cell_type": "markdown",
      "source": [
        "1. I had to initialize my init/created a class\n",
        "2. I need to initilaize weights\n",
        "3. I Implemented an epoch loop allows the model to iterate over the entire\n",
        "  dataset multiple times during training.\n",
        "4. I have to initilaze my forward and backward propagation\n",
        "5. I need to write codes for my activation function, initializer and optimizers\n",
        "\n",
        "\n"
      ],
      "metadata": {
        "id": "kmBdQTvR7FET"
      }
    },
    {
      "cell_type": "code",
      "source": [
        "import pandas as pd\n",
        "import numpy as np\n",
        "import tensorflow as tf\n",
        "from sklearn.model_selection import train_test_split\n",
        "from sklearn.preprocessing import OneHotEncoder\n",
        "from sklearn.preprocessing import StandardScaler"
      ],
      "metadata": {
        "id": "o6sU-4-JL1lm"
      },
      "execution_count": 11,
      "outputs": []
    },
    {
      "cell_type": "markdown",
      "source": [
        "# Preparing the dataset"
      ],
      "metadata": {
        "id": "H3PyO_-v83cj"
      }
    },
    {
      "cell_type": "code",
      "source": [
        "#Loading the data\n",
        "data = pd.read_csv('Iris.csv')\n",
        "data.head()"
      ],
      "metadata": {
        "colab": {
          "base_uri": "https://localhost:8080/",
          "height": 206
        },
        "id": "fQB3QraF-Avb",
        "outputId": "4a0468e6-0f46-452b-b42e-1cd58e2652f9"
      },
      "execution_count": 13,
      "outputs": [
        {
          "output_type": "execute_result",
          "data": {
            "text/plain": [
              "   Id  SepalLengthCm  SepalWidthCm  PetalLengthCm  PetalWidthCm      Species\n",
              "0   1            5.1           3.5            1.4           0.2  Iris-setosa\n",
              "1   2            4.9           3.0            1.4           0.2  Iris-setosa\n",
              "2   3            4.7           3.2            1.3           0.2  Iris-setosa\n",
              "3   4            4.6           3.1            1.5           0.2  Iris-setosa\n",
              "4   5            5.0           3.6            1.4           0.2  Iris-setosa"
            ],
            "text/html": [
              "\n",
              "  <div id=\"df-fa6268b3-a409-4116-8e76-192587866e8a\" class=\"colab-df-container\">\n",
              "    <div>\n",
              "<style scoped>\n",
              "    .dataframe tbody tr th:only-of-type {\n",
              "        vertical-align: middle;\n",
              "    }\n",
              "\n",
              "    .dataframe tbody tr th {\n",
              "        vertical-align: top;\n",
              "    }\n",
              "\n",
              "    .dataframe thead th {\n",
              "        text-align: right;\n",
              "    }\n",
              "</style>\n",
              "<table border=\"1\" class=\"dataframe\">\n",
              "  <thead>\n",
              "    <tr style=\"text-align: right;\">\n",
              "      <th></th>\n",
              "      <th>Id</th>\n",
              "      <th>SepalLengthCm</th>\n",
              "      <th>SepalWidthCm</th>\n",
              "      <th>PetalLengthCm</th>\n",
              "      <th>PetalWidthCm</th>\n",
              "      <th>Species</th>\n",
              "    </tr>\n",
              "  </thead>\n",
              "  <tbody>\n",
              "    <tr>\n",
              "      <th>0</th>\n",
              "      <td>1</td>\n",
              "      <td>5.1</td>\n",
              "      <td>3.5</td>\n",
              "      <td>1.4</td>\n",
              "      <td>0.2</td>\n",
              "      <td>Iris-setosa</td>\n",
              "    </tr>\n",
              "    <tr>\n",
              "      <th>1</th>\n",
              "      <td>2</td>\n",
              "      <td>4.9</td>\n",
              "      <td>3.0</td>\n",
              "      <td>1.4</td>\n",
              "      <td>0.2</td>\n",
              "      <td>Iris-setosa</td>\n",
              "    </tr>\n",
              "    <tr>\n",
              "      <th>2</th>\n",
              "      <td>3</td>\n",
              "      <td>4.7</td>\n",
              "      <td>3.2</td>\n",
              "      <td>1.3</td>\n",
              "      <td>0.2</td>\n",
              "      <td>Iris-setosa</td>\n",
              "    </tr>\n",
              "    <tr>\n",
              "      <th>3</th>\n",
              "      <td>4</td>\n",
              "      <td>4.6</td>\n",
              "      <td>3.1</td>\n",
              "      <td>1.5</td>\n",
              "      <td>0.2</td>\n",
              "      <td>Iris-setosa</td>\n",
              "    </tr>\n",
              "    <tr>\n",
              "      <th>4</th>\n",
              "      <td>5</td>\n",
              "      <td>5.0</td>\n",
              "      <td>3.6</td>\n",
              "      <td>1.4</td>\n",
              "      <td>0.2</td>\n",
              "      <td>Iris-setosa</td>\n",
              "    </tr>\n",
              "  </tbody>\n",
              "</table>\n",
              "</div>\n",
              "    <div class=\"colab-df-buttons\">\n",
              "\n",
              "  <div class=\"colab-df-container\">\n",
              "    <button class=\"colab-df-convert\" onclick=\"convertToInteractive('df-fa6268b3-a409-4116-8e76-192587866e8a')\"\n",
              "            title=\"Convert this dataframe to an interactive table.\"\n",
              "            style=\"display:none;\">\n",
              "\n",
              "  <svg xmlns=\"http://www.w3.org/2000/svg\" height=\"24px\" viewBox=\"0 -960 960 960\">\n",
              "    <path d=\"M120-120v-720h720v720H120Zm60-500h600v-160H180v160Zm220 220h160v-160H400v160Zm0 220h160v-160H400v160ZM180-400h160v-160H180v160Zm440 0h160v-160H620v160ZM180-180h160v-160H180v160Zm440 0h160v-160H620v160Z\"/>\n",
              "  </svg>\n",
              "    </button>\n",
              "\n",
              "  <style>\n",
              "    .colab-df-container {\n",
              "      display:flex;\n",
              "      gap: 12px;\n",
              "    }\n",
              "\n",
              "    .colab-df-convert {\n",
              "      background-color: #E8F0FE;\n",
              "      border: none;\n",
              "      border-radius: 50%;\n",
              "      cursor: pointer;\n",
              "      display: none;\n",
              "      fill: #1967D2;\n",
              "      height: 32px;\n",
              "      padding: 0 0 0 0;\n",
              "      width: 32px;\n",
              "    }\n",
              "\n",
              "    .colab-df-convert:hover {\n",
              "      background-color: #E2EBFA;\n",
              "      box-shadow: 0px 1px 2px rgba(60, 64, 67, 0.3), 0px 1px 3px 1px rgba(60, 64, 67, 0.15);\n",
              "      fill: #174EA6;\n",
              "    }\n",
              "\n",
              "    .colab-df-buttons div {\n",
              "      margin-bottom: 4px;\n",
              "    }\n",
              "\n",
              "    [theme=dark] .colab-df-convert {\n",
              "      background-color: #3B4455;\n",
              "      fill: #D2E3FC;\n",
              "    }\n",
              "\n",
              "    [theme=dark] .colab-df-convert:hover {\n",
              "      background-color: #434B5C;\n",
              "      box-shadow: 0px 1px 3px 1px rgba(0, 0, 0, 0.15);\n",
              "      filter: drop-shadow(0px 1px 2px rgba(0, 0, 0, 0.3));\n",
              "      fill: #FFFFFF;\n",
              "    }\n",
              "  </style>\n",
              "\n",
              "    <script>\n",
              "      const buttonEl =\n",
              "        document.querySelector('#df-fa6268b3-a409-4116-8e76-192587866e8a button.colab-df-convert');\n",
              "      buttonEl.style.display =\n",
              "        google.colab.kernel.accessAllowed ? 'block' : 'none';\n",
              "\n",
              "      async function convertToInteractive(key) {\n",
              "        const element = document.querySelector('#df-fa6268b3-a409-4116-8e76-192587866e8a');\n",
              "        const dataTable =\n",
              "          await google.colab.kernel.invokeFunction('convertToInteractive',\n",
              "                                                    [key], {});\n",
              "        if (!dataTable) return;\n",
              "\n",
              "        const docLinkHtml = 'Like what you see? Visit the ' +\n",
              "          '<a target=\"_blank\" href=https://colab.research.google.com/notebooks/data_table.ipynb>data table notebook</a>'\n",
              "          + ' to learn more about interactive tables.';\n",
              "        element.innerHTML = '';\n",
              "        dataTable['output_type'] = 'display_data';\n",
              "        await google.colab.output.renderOutput(dataTable, element);\n",
              "        const docLink = document.createElement('div');\n",
              "        docLink.innerHTML = docLinkHtml;\n",
              "        element.appendChild(docLink);\n",
              "      }\n",
              "    </script>\n",
              "  </div>\n",
              "\n",
              "\n",
              "<div id=\"df-ecf9e313-dfe8-486e-acc9-b5f45e96870f\">\n",
              "  <button class=\"colab-df-quickchart\" onclick=\"quickchart('df-ecf9e313-dfe8-486e-acc9-b5f45e96870f')\"\n",
              "            title=\"Suggest charts\"\n",
              "            style=\"display:none;\">\n",
              "\n",
              "<svg xmlns=\"http://www.w3.org/2000/svg\" height=\"24px\"viewBox=\"0 0 24 24\"\n",
              "     width=\"24px\">\n",
              "    <g>\n",
              "        <path d=\"M19 3H5c-1.1 0-2 .9-2 2v14c0 1.1.9 2 2 2h14c1.1 0 2-.9 2-2V5c0-1.1-.9-2-2-2zM9 17H7v-7h2v7zm4 0h-2V7h2v10zm4 0h-2v-4h2v4z\"/>\n",
              "    </g>\n",
              "</svg>\n",
              "  </button>\n",
              "\n",
              "<style>\n",
              "  .colab-df-quickchart {\n",
              "      --bg-color: #E8F0FE;\n",
              "      --fill-color: #1967D2;\n",
              "      --hover-bg-color: #E2EBFA;\n",
              "      --hover-fill-color: #174EA6;\n",
              "      --disabled-fill-color: #AAA;\n",
              "      --disabled-bg-color: #DDD;\n",
              "  }\n",
              "\n",
              "  [theme=dark] .colab-df-quickchart {\n",
              "      --bg-color: #3B4455;\n",
              "      --fill-color: #D2E3FC;\n",
              "      --hover-bg-color: #434B5C;\n",
              "      --hover-fill-color: #FFFFFF;\n",
              "      --disabled-bg-color: #3B4455;\n",
              "      --disabled-fill-color: #666;\n",
              "  }\n",
              "\n",
              "  .colab-df-quickchart {\n",
              "    background-color: var(--bg-color);\n",
              "    border: none;\n",
              "    border-radius: 50%;\n",
              "    cursor: pointer;\n",
              "    display: none;\n",
              "    fill: var(--fill-color);\n",
              "    height: 32px;\n",
              "    padding: 0;\n",
              "    width: 32px;\n",
              "  }\n",
              "\n",
              "  .colab-df-quickchart:hover {\n",
              "    background-color: var(--hover-bg-color);\n",
              "    box-shadow: 0 1px 2px rgba(60, 64, 67, 0.3), 0 1px 3px 1px rgba(60, 64, 67, 0.15);\n",
              "    fill: var(--button-hover-fill-color);\n",
              "  }\n",
              "\n",
              "  .colab-df-quickchart-complete:disabled,\n",
              "  .colab-df-quickchart-complete:disabled:hover {\n",
              "    background-color: var(--disabled-bg-color);\n",
              "    fill: var(--disabled-fill-color);\n",
              "    box-shadow: none;\n",
              "  }\n",
              "\n",
              "  .colab-df-spinner {\n",
              "    border: 2px solid var(--fill-color);\n",
              "    border-color: transparent;\n",
              "    border-bottom-color: var(--fill-color);\n",
              "    animation:\n",
              "      spin 1s steps(1) infinite;\n",
              "  }\n",
              "\n",
              "  @keyframes spin {\n",
              "    0% {\n",
              "      border-color: transparent;\n",
              "      border-bottom-color: var(--fill-color);\n",
              "      border-left-color: var(--fill-color);\n",
              "    }\n",
              "    20% {\n",
              "      border-color: transparent;\n",
              "      border-left-color: var(--fill-color);\n",
              "      border-top-color: var(--fill-color);\n",
              "    }\n",
              "    30% {\n",
              "      border-color: transparent;\n",
              "      border-left-color: var(--fill-color);\n",
              "      border-top-color: var(--fill-color);\n",
              "      border-right-color: var(--fill-color);\n",
              "    }\n",
              "    40% {\n",
              "      border-color: transparent;\n",
              "      border-right-color: var(--fill-color);\n",
              "      border-top-color: var(--fill-color);\n",
              "    }\n",
              "    60% {\n",
              "      border-color: transparent;\n",
              "      border-right-color: var(--fill-color);\n",
              "    }\n",
              "    80% {\n",
              "      border-color: transparent;\n",
              "      border-right-color: var(--fill-color);\n",
              "      border-bottom-color: var(--fill-color);\n",
              "    }\n",
              "    90% {\n",
              "      border-color: transparent;\n",
              "      border-bottom-color: var(--fill-color);\n",
              "    }\n",
              "  }\n",
              "</style>\n",
              "\n",
              "  <script>\n",
              "    async function quickchart(key) {\n",
              "      const quickchartButtonEl =\n",
              "        document.querySelector('#' + key + ' button');\n",
              "      quickchartButtonEl.disabled = true;  // To prevent multiple clicks.\n",
              "      quickchartButtonEl.classList.add('colab-df-spinner');\n",
              "      try {\n",
              "        const charts = await google.colab.kernel.invokeFunction(\n",
              "            'suggestCharts', [key], {});\n",
              "      } catch (error) {\n",
              "        console.error('Error during call to suggestCharts:', error);\n",
              "      }\n",
              "      quickchartButtonEl.classList.remove('colab-df-spinner');\n",
              "      quickchartButtonEl.classList.add('colab-df-quickchart-complete');\n",
              "    }\n",
              "    (() => {\n",
              "      let quickchartButtonEl =\n",
              "        document.querySelector('#df-ecf9e313-dfe8-486e-acc9-b5f45e96870f button');\n",
              "      quickchartButtonEl.style.display =\n",
              "        google.colab.kernel.accessAllowed ? 'block' : 'none';\n",
              "    })();\n",
              "  </script>\n",
              "</div>\n",
              "\n",
              "    </div>\n",
              "  </div>\n"
            ],
            "application/vnd.google.colaboratory.intrinsic+json": {
              "type": "dataframe",
              "variable_name": "data",
              "summary": "{\n  \"name\": \"data\",\n  \"rows\": 150,\n  \"fields\": [\n    {\n      \"column\": \"Id\",\n      \"properties\": {\n        \"dtype\": \"number\",\n        \"std\": 43,\n        \"min\": 1,\n        \"max\": 150,\n        \"num_unique_values\": 150,\n        \"samples\": [\n          74,\n          19,\n          119\n        ],\n        \"semantic_type\": \"\",\n        \"description\": \"\"\n      }\n    },\n    {\n      \"column\": \"SepalLengthCm\",\n      \"properties\": {\n        \"dtype\": \"number\",\n        \"std\": 0.828066127977863,\n        \"min\": 4.3,\n        \"max\": 7.9,\n        \"num_unique_values\": 35,\n        \"samples\": [\n          6.2,\n          4.5,\n          5.6\n        ],\n        \"semantic_type\": \"\",\n        \"description\": \"\"\n      }\n    },\n    {\n      \"column\": \"SepalWidthCm\",\n      \"properties\": {\n        \"dtype\": \"number\",\n        \"std\": 0.4335943113621737,\n        \"min\": 2.0,\n        \"max\": 4.4,\n        \"num_unique_values\": 23,\n        \"samples\": [\n          2.3,\n          4.0,\n          3.5\n        ],\n        \"semantic_type\": \"\",\n        \"description\": \"\"\n      }\n    },\n    {\n      \"column\": \"PetalLengthCm\",\n      \"properties\": {\n        \"dtype\": \"number\",\n        \"std\": 1.7644204199522626,\n        \"min\": 1.0,\n        \"max\": 6.9,\n        \"num_unique_values\": 43,\n        \"samples\": [\n          6.7,\n          3.8,\n          3.7\n        ],\n        \"semantic_type\": \"\",\n        \"description\": \"\"\n      }\n    },\n    {\n      \"column\": \"PetalWidthCm\",\n      \"properties\": {\n        \"dtype\": \"number\",\n        \"std\": 0.7631607417008411,\n        \"min\": 0.1,\n        \"max\": 2.5,\n        \"num_unique_values\": 22,\n        \"samples\": [\n          0.2,\n          1.2,\n          1.3\n        ],\n        \"semantic_type\": \"\",\n        \"description\": \"\"\n      }\n    },\n    {\n      \"column\": \"Species\",\n      \"properties\": {\n        \"dtype\": \"category\",\n        \"num_unique_values\": 3,\n        \"samples\": [\n          \"Iris-setosa\",\n          \"Iris-versicolor\",\n          \"Iris-virginica\"\n        ],\n        \"semantic_type\": \"\",\n        \"description\": \"\"\n      }\n    }\n  ]\n}"
            }
          },
          "metadata": {},
          "execution_count": 13
        }
      ]
    },
    {
      "cell_type": "code",
      "source": [
        "data.shape"
      ],
      "metadata": {
        "colab": {
          "base_uri": "https://localhost:8080/"
        },
        "id": "XpF7tGa3-hyH",
        "outputId": "4989fcb6-23ab-4877-f9fd-dc6c94be68ba"
      },
      "execution_count": 14,
      "outputs": [
        {
          "output_type": "execute_result",
          "data": {
            "text/plain": [
              "(150, 6)"
            ]
          },
          "metadata": {},
          "execution_count": 14
        }
      ]
    },
    {
      "cell_type": "code",
      "source": [
        "data.info()"
      ],
      "metadata": {
        "colab": {
          "base_uri": "https://localhost:8080/"
        },
        "id": "LizePB17-hjm",
        "outputId": "89eb8081-a288-46bf-b3bb-e289506dcdd6"
      },
      "execution_count": 15,
      "outputs": [
        {
          "output_type": "stream",
          "name": "stdout",
          "text": [
            "<class 'pandas.core.frame.DataFrame'>\n",
            "RangeIndex: 150 entries, 0 to 149\n",
            "Data columns (total 6 columns):\n",
            " #   Column         Non-Null Count  Dtype  \n",
            "---  ------         --------------  -----  \n",
            " 0   Id             150 non-null    int64  \n",
            " 1   SepalLengthCm  150 non-null    float64\n",
            " 2   SepalWidthCm   150 non-null    float64\n",
            " 3   PetalLengthCm  150 non-null    float64\n",
            " 4   PetalWidthCm   150 non-null    float64\n",
            " 5   Species        150 non-null    object \n",
            "dtypes: float64(4), int64(1), object(1)\n",
            "memory usage: 7.2+ KB\n"
          ]
        }
      ]
    },
    {
      "cell_type": "code",
      "source": [
        "data.isnull().sum()"
      ],
      "metadata": {
        "colab": {
          "base_uri": "https://localhost:8080/"
        },
        "id": "-IuHckHg-mA7",
        "outputId": "c57e47f0-3964-404e-a279-716defc4f9d1"
      },
      "execution_count": 16,
      "outputs": [
        {
          "output_type": "execute_result",
          "data": {
            "text/plain": [
              "Id               0\n",
              "SepalLengthCm    0\n",
              "SepalWidthCm     0\n",
              "PetalLengthCm    0\n",
              "PetalWidthCm     0\n",
              "Species          0\n",
              "dtype: int64"
            ]
          },
          "metadata": {},
          "execution_count": 16
        }
      ]
    },
    {
      "cell_type": "markdown",
      "source": [
        "# [Problem 2] Consider the correspondence between scratch and TensorFlow"
      ],
      "metadata": {
        "id": "zeXKbfYT8nWV"
      }
    },
    {
      "cell_type": "code",
      "source": [
        "\"\"\"\n",
        "Binary classification of Iris dataset using neural network implemented in TensorFlow\n",
        "\"\"\"\n",
        "import numpy as np\n",
        "import pandas as pd\n",
        "from sklearn.model_selection import train_test_split\n",
        "import tensorflow as tf\n",
        "# tf.test.gpu_device_name()\n",
        "\"\"\"\n",
        "Don't forget when you change the version of tensorflow to the 1.x series.\n",
        "Install the GPU with \"!pip install tensorflow-gpu==1.14.0\".\n",
        "tf.test.gpu_device_name()でGPUの設定状態を確認し、認識されるかを確認します。\n",
        "If successful, a log is output; if not recognized, nothing is output。\n",
        "\"\"\"\n",
        "\n",
        "#Load dataset\n",
        "df = pd.read_csv(\"Iris.csv\")\n",
        "\n",
        "#Condition extraction from data frame\n",
        "df = df[(df[\"Species\"] == \"Iris-versicolor\") | (df[\"Species\"] == \"Iris-virginica\")]\n",
        "y = df[\"Species\"]\n",
        "X = df.loc[:, [\"SepalLengthCm\", \"SepalWidthCm\", \"PetalLengthCm\", \"PetalWidthCm\"]]\n",
        "\n",
        "# Convert to NumPy array\n",
        "X = np.array(X)\n",
        "y = np.array(y)\n",
        "#Convert labels to numbers\n",
        "y[y == \"Iris-versicolor\"] = 0\n",
        "y[y == \"Iris-virginica\"] = 1\n",
        "y = y.astype(np.int64)[:, np.newaxis]\n",
        "\n",
        "#Split into train and test\n",
        "X_train, X_test, y_train, y_test = train_test_split(X, y, test_size=0.2, random_state=0)\n",
        "# Further split into train and val\n",
        "X_train, X_val, y_train, y_val = train_test_split(X_train, y_train, test_size=0.2, random_state=0)\n",
        "\n",
        "class GetMiniBatch:\n",
        "    \"\"\"\n",
        "    Iterator to get a mini-batch\n",
        "\n",
        "    Parameters\n",
        "    ----------\n",
        "    X : The following forms of ndarray, shape (n_samples, n_features)\n",
        "      Training data\n",
        "    y : The following form of ndarray, shape (n_samples, 1)\n",
        "      Correct answer value\n",
        "    batch_size : int\n",
        "      Batch size\n",
        "    seed : int\n",
        "      NumPy random seed\n",
        "    \"\"\"\n",
        "    def __init__(self, X, y, batch_size = 10, seed=0):\n",
        "        self.batch_size = batch_size\n",
        "        np.random.seed(seed)\n",
        "        shuffle_index = np.random.permutation(np.arange(X.shape[0]))\n",
        "        self.X = X[shuffle_index]\n",
        "        self.y = y[shuffle_index]\n",
        "        self._stop = np.ceil(X.shape[0]/self.batch_size).astype(int)\n",
        "    def __len__(self):\n",
        "        return self._stop\n",
        "    def __getitem__(self,item):\n",
        "        p0 = item*self.batch_size\n",
        "        p1 = item*self.batch_size + self.batch_size\n",
        "        return self.X[p0:p1], self.y[p0:p1]\n",
        "    def __iter__(self):\n",
        "        self._counter = 0\n",
        "        return self\n",
        "    def __next__(self):\n",
        "        if self._counter >= self._stop:\n",
        "            raise StopIteration()\n",
        "        p0 = self._counter*self.batch_size\n",
        "        p1 = self._counter*self.batch_size + self.batch_size\n",
        "        self._counter += 1\n",
        "        return self.X[p0:p1], self.y[p0:p1]\n",
        "\n",
        "# Hyperparameter settings\n",
        "learning_rate = 0.001\n",
        "batch_size = 10\n",
        "num_epochs = 100\n",
        "\n",
        "n_hidden1 = 50\n",
        "n_hidden2 = 100\n",
        "n_input = X_train.shape[1]\n",
        "n_samples = X_train.shape[0]\n",
        "n_classes = 1\n",
        "\n",
        "#Determine the shape of the argument to be passed to the calculation graph\n",
        "X = tf.keras.Input(shape=(n_input,))\n",
        "Y = tf.keras.Input(shape=(n_input,))"
      ],
      "metadata": {
        "id": "fl1T4QCcVC4w"
      },
      "execution_count": 43,
      "outputs": []
    },
    {
      "cell_type": "markdown",
      "source": [
        "Import Libraries\n",
        "# New Section"
      ],
      "metadata": {
        "id": "Z5SNUtnSNxlU"
      }
    },
    {
      "cell_type": "markdown",
      "source": [
        "# Load and Preprocess the Data"
      ],
      "metadata": {
        "id": "pXxPx58nN2mC"
      }
    },
    {
      "cell_type": "code",
      "source": [
        "# Separate features and target variable\n",
        "X = data.drop('Species', axis=1)\n",
        "y = data['Species']\n",
        "\n",
        "# One-hot encode the target variable\n",
        "encoder = OneHotEncoder(sparse_output=False)\n",
        "y_encoded = encoder.fit_transform(y.values.reshape(-1, 1))\n",
        "\n",
        "# Split the dataset into training and testing sets\n",
        "X_train, X_test, y_train, y_test = train_test_split(X, y_encoded, test_size=0.2, random_state=42)\n",
        "\n",
        "# Standardize the feature values\n",
        "scaler = StandardScaler()\n",
        "X_train = scaler.fit_transform(X_train)\n",
        "X_test = scaler.transform(X_test)"
      ],
      "metadata": {
        "id": "tI4dtxA2L7Vq"
      },
      "execution_count": 18,
      "outputs": []
    },
    {
      "cell_type": "markdown",
      "source": [
        "# Build the TensorFlow Model"
      ],
      "metadata": {
        "id": "2lb2Pn-ON486"
      }
    },
    {
      "cell_type": "code",
      "source": [
        "# Define the model\n",
        "model = tf.keras.Sequential([\n",
        "    tf.keras.layers.Dense(10, activation='relu', input_shape=(X_train.shape[1],)),\n",
        "    tf.keras.layers.Dense(10, activation='relu'),\n",
        "    tf.keras.layers.Dense(3, activation='softmax')  # 3 output classes for the species\n",
        "])\n",
        "\n",
        "# Compile the model\n",
        "model.compile(optimizer='adam',\n",
        "              loss='categorical_crossentropy',  # Use categorical crossentropy for multi-class\n",
        "              metrics=['accuracy'])"
      ],
      "metadata": {
        "id": "K-taKpTSNZRc"
      },
      "execution_count": 19,
      "outputs": []
    },
    {
      "cell_type": "markdown",
      "source": [
        "# Train the Model"
      ],
      "metadata": {
        "id": "u1EFpqY7N9BY"
      }
    },
    {
      "cell_type": "code",
      "source": [
        "# Train the model\n",
        "model.fit(X_train, y_train, epochs=100, batch_size=5, validation_split=0.2)"
      ],
      "metadata": {
        "colab": {
          "base_uri": "https://localhost:8080/"
        },
        "id": "BuBkaImANeX0",
        "outputId": "15906809-1f4d-40e9-8677-c25587d23d08"
      },
      "execution_count": 20,
      "outputs": [
        {
          "output_type": "stream",
          "name": "stdout",
          "text": [
            "Epoch 1/100\n",
            "20/20 [==============================] - 1s 15ms/step - loss: 0.8825 - accuracy: 0.6979 - val_loss: 0.9512 - val_accuracy: 0.5000\n",
            "Epoch 2/100\n",
            "20/20 [==============================] - 0s 3ms/step - loss: 0.8058 - accuracy: 0.7083 - val_loss: 0.9067 - val_accuracy: 0.5000\n",
            "Epoch 3/100\n",
            "20/20 [==============================] - 0s 4ms/step - loss: 0.7504 - accuracy: 0.7083 - val_loss: 0.8680 - val_accuracy: 0.5000\n",
            "Epoch 4/100\n",
            "20/20 [==============================] - 0s 5ms/step - loss: 0.7061 - accuracy: 0.7083 - val_loss: 0.8369 - val_accuracy: 0.5000\n",
            "Epoch 5/100\n",
            "20/20 [==============================] - 0s 6ms/step - loss: 0.6705 - accuracy: 0.7083 - val_loss: 0.8111 - val_accuracy: 0.5000\n",
            "Epoch 6/100\n",
            "20/20 [==============================] - 0s 7ms/step - loss: 0.6407 - accuracy: 0.7188 - val_loss: 0.7823 - val_accuracy: 0.5000\n",
            "Epoch 7/100\n",
            "20/20 [==============================] - 0s 6ms/step - loss: 0.6129 - accuracy: 0.7188 - val_loss: 0.7581 - val_accuracy: 0.5000\n",
            "Epoch 8/100\n",
            "20/20 [==============================] - 0s 5ms/step - loss: 0.5870 - accuracy: 0.7188 - val_loss: 0.7293 - val_accuracy: 0.5000\n",
            "Epoch 9/100\n",
            "20/20 [==============================] - 0s 6ms/step - loss: 0.5610 - accuracy: 0.7188 - val_loss: 0.7015 - val_accuracy: 0.5000\n",
            "Epoch 10/100\n",
            "20/20 [==============================] - 0s 5ms/step - loss: 0.5353 - accuracy: 0.7188 - val_loss: 0.6731 - val_accuracy: 0.5000\n",
            "Epoch 11/100\n",
            "20/20 [==============================] - 0s 7ms/step - loss: 0.5081 - accuracy: 0.7188 - val_loss: 0.6398 - val_accuracy: 0.6250\n",
            "Epoch 12/100\n",
            "20/20 [==============================] - 0s 9ms/step - loss: 0.4745 - accuracy: 0.7917 - val_loss: 0.6033 - val_accuracy: 0.8333\n",
            "Epoch 13/100\n",
            "20/20 [==============================] - 0s 7ms/step - loss: 0.4384 - accuracy: 0.9479 - val_loss: 0.5605 - val_accuracy: 0.9583\n",
            "Epoch 14/100\n",
            "20/20 [==============================] - 0s 6ms/step - loss: 0.4020 - accuracy: 0.9688 - val_loss: 0.5234 - val_accuracy: 0.9583\n",
            "Epoch 15/100\n",
            "20/20 [==============================] - 0s 6ms/step - loss: 0.3654 - accuracy: 0.9688 - val_loss: 0.4828 - val_accuracy: 0.9583\n",
            "Epoch 16/100\n",
            "20/20 [==============================] - 0s 7ms/step - loss: 0.3307 - accuracy: 0.9792 - val_loss: 0.4477 - val_accuracy: 0.9583\n",
            "Epoch 17/100\n",
            "20/20 [==============================] - 0s 6ms/step - loss: 0.2968 - accuracy: 0.9896 - val_loss: 0.4167 - val_accuracy: 0.9583\n",
            "Epoch 18/100\n",
            "20/20 [==============================] - 0s 6ms/step - loss: 0.2628 - accuracy: 0.9896 - val_loss: 0.3856 - val_accuracy: 0.9167\n",
            "Epoch 19/100\n",
            "20/20 [==============================] - 0s 7ms/step - loss: 0.2345 - accuracy: 0.9896 - val_loss: 0.3500 - val_accuracy: 0.9167\n",
            "Epoch 20/100\n",
            "20/20 [==============================] - 0s 6ms/step - loss: 0.2064 - accuracy: 0.9896 - val_loss: 0.3186 - val_accuracy: 0.9583\n",
            "Epoch 21/100\n",
            "20/20 [==============================] - 0s 6ms/step - loss: 0.1830 - accuracy: 0.9896 - val_loss: 0.2943 - val_accuracy: 0.9583\n",
            "Epoch 22/100\n",
            "20/20 [==============================] - 0s 5ms/step - loss: 0.1629 - accuracy: 1.0000 - val_loss: 0.2640 - val_accuracy: 0.9583\n",
            "Epoch 23/100\n",
            "20/20 [==============================] - 0s 6ms/step - loss: 0.1463 - accuracy: 1.0000 - val_loss: 0.2457 - val_accuracy: 0.9583\n",
            "Epoch 24/100\n",
            "20/20 [==============================] - 0s 6ms/step - loss: 0.1314 - accuracy: 1.0000 - val_loss: 0.2257 - val_accuracy: 0.9583\n",
            "Epoch 25/100\n",
            "20/20 [==============================] - 0s 7ms/step - loss: 0.1175 - accuracy: 1.0000 - val_loss: 0.2160 - val_accuracy: 0.9583\n",
            "Epoch 26/100\n",
            "20/20 [==============================] - 0s 9ms/step - loss: 0.1064 - accuracy: 1.0000 - val_loss: 0.2007 - val_accuracy: 0.9583\n",
            "Epoch 27/100\n",
            "20/20 [==============================] - 0s 6ms/step - loss: 0.0955 - accuracy: 1.0000 - val_loss: 0.1896 - val_accuracy: 0.9583\n",
            "Epoch 28/100\n",
            "20/20 [==============================] - 0s 5ms/step - loss: 0.0861 - accuracy: 1.0000 - val_loss: 0.1790 - val_accuracy: 0.9583\n",
            "Epoch 29/100\n",
            "20/20 [==============================] - 0s 3ms/step - loss: 0.0787 - accuracy: 1.0000 - val_loss: 0.1788 - val_accuracy: 0.9583\n",
            "Epoch 30/100\n",
            "20/20 [==============================] - 0s 4ms/step - loss: 0.0721 - accuracy: 1.0000 - val_loss: 0.1675 - val_accuracy: 0.9583\n",
            "Epoch 31/100\n",
            "20/20 [==============================] - 0s 4ms/step - loss: 0.0660 - accuracy: 1.0000 - val_loss: 0.1608 - val_accuracy: 0.9583\n",
            "Epoch 32/100\n",
            "20/20 [==============================] - 0s 4ms/step - loss: 0.0619 - accuracy: 1.0000 - val_loss: 0.1445 - val_accuracy: 0.9583\n",
            "Epoch 33/100\n",
            "20/20 [==============================] - 0s 4ms/step - loss: 0.0553 - accuracy: 1.0000 - val_loss: 0.1443 - val_accuracy: 0.9583\n",
            "Epoch 34/100\n",
            "20/20 [==============================] - 0s 4ms/step - loss: 0.0492 - accuracy: 1.0000 - val_loss: 0.1357 - val_accuracy: 0.9583\n",
            "Epoch 35/100\n",
            "20/20 [==============================] - 0s 5ms/step - loss: 0.0449 - accuracy: 1.0000 - val_loss: 0.1310 - val_accuracy: 0.9583\n",
            "Epoch 36/100\n",
            "20/20 [==============================] - 0s 5ms/step - loss: 0.0416 - accuracy: 1.0000 - val_loss: 0.1232 - val_accuracy: 0.9583\n",
            "Epoch 37/100\n",
            "20/20 [==============================] - 0s 5ms/step - loss: 0.0385 - accuracy: 1.0000 - val_loss: 0.1216 - val_accuracy: 0.9583\n",
            "Epoch 38/100\n",
            "20/20 [==============================] - 0s 4ms/step - loss: 0.0359 - accuracy: 1.0000 - val_loss: 0.1225 - val_accuracy: 0.9583\n",
            "Epoch 39/100\n",
            "20/20 [==============================] - 0s 3ms/step - loss: 0.0332 - accuracy: 1.0000 - val_loss: 0.1138 - val_accuracy: 0.9583\n",
            "Epoch 40/100\n",
            "20/20 [==============================] - 0s 4ms/step - loss: 0.0318 - accuracy: 1.0000 - val_loss: 0.1138 - val_accuracy: 0.9583\n",
            "Epoch 41/100\n",
            "20/20 [==============================] - 0s 4ms/step - loss: 0.0291 - accuracy: 1.0000 - val_loss: 0.1022 - val_accuracy: 0.9583\n",
            "Epoch 42/100\n",
            "20/20 [==============================] - 0s 4ms/step - loss: 0.0272 - accuracy: 1.0000 - val_loss: 0.0979 - val_accuracy: 0.9583\n",
            "Epoch 43/100\n",
            "20/20 [==============================] - 0s 4ms/step - loss: 0.0256 - accuracy: 1.0000 - val_loss: 0.0975 - val_accuracy: 0.9583\n",
            "Epoch 44/100\n",
            "20/20 [==============================] - 0s 3ms/step - loss: 0.0243 - accuracy: 1.0000 - val_loss: 0.1023 - val_accuracy: 0.9583\n",
            "Epoch 45/100\n",
            "20/20 [==============================] - 0s 4ms/step - loss: 0.0234 - accuracy: 1.0000 - val_loss: 0.0922 - val_accuracy: 0.9583\n",
            "Epoch 46/100\n",
            "20/20 [==============================] - 0s 4ms/step - loss: 0.0211 - accuracy: 1.0000 - val_loss: 0.0923 - val_accuracy: 0.9583\n",
            "Epoch 47/100\n",
            "20/20 [==============================] - 0s 4ms/step - loss: 0.0200 - accuracy: 1.0000 - val_loss: 0.0893 - val_accuracy: 0.9583\n",
            "Epoch 48/100\n",
            "20/20 [==============================] - 0s 4ms/step - loss: 0.0190 - accuracy: 1.0000 - val_loss: 0.0841 - val_accuracy: 0.9583\n",
            "Epoch 49/100\n",
            "20/20 [==============================] - 0s 4ms/step - loss: 0.0178 - accuracy: 1.0000 - val_loss: 0.0803 - val_accuracy: 0.9583\n",
            "Epoch 50/100\n",
            "20/20 [==============================] - 0s 3ms/step - loss: 0.0169 - accuracy: 1.0000 - val_loss: 0.0783 - val_accuracy: 0.9583\n",
            "Epoch 51/100\n",
            "20/20 [==============================] - 0s 3ms/step - loss: 0.0162 - accuracy: 1.0000 - val_loss: 0.0792 - val_accuracy: 0.9583\n",
            "Epoch 52/100\n",
            "20/20 [==============================] - 0s 4ms/step - loss: 0.0151 - accuracy: 1.0000 - val_loss: 0.0760 - val_accuracy: 0.9583\n",
            "Epoch 53/100\n",
            "20/20 [==============================] - 0s 4ms/step - loss: 0.0145 - accuracy: 1.0000 - val_loss: 0.0699 - val_accuracy: 0.9583\n",
            "Epoch 54/100\n",
            "20/20 [==============================] - 0s 4ms/step - loss: 0.0136 - accuracy: 1.0000 - val_loss: 0.0696 - val_accuracy: 0.9583\n",
            "Epoch 55/100\n",
            "20/20 [==============================] - 0s 4ms/step - loss: 0.0130 - accuracy: 1.0000 - val_loss: 0.0654 - val_accuracy: 0.9583\n",
            "Epoch 56/100\n",
            "20/20 [==============================] - 0s 4ms/step - loss: 0.0123 - accuracy: 1.0000 - val_loss: 0.0629 - val_accuracy: 0.9583\n",
            "Epoch 57/100\n",
            "20/20 [==============================] - 0s 4ms/step - loss: 0.0118 - accuracy: 1.0000 - val_loss: 0.0611 - val_accuracy: 0.9583\n",
            "Epoch 58/100\n",
            "20/20 [==============================] - 0s 4ms/step - loss: 0.0112 - accuracy: 1.0000 - val_loss: 0.0592 - val_accuracy: 0.9583\n",
            "Epoch 59/100\n",
            "20/20 [==============================] - 0s 5ms/step - loss: 0.0107 - accuracy: 1.0000 - val_loss: 0.0582 - val_accuracy: 0.9583\n",
            "Epoch 60/100\n",
            "20/20 [==============================] - 0s 4ms/step - loss: 0.0103 - accuracy: 1.0000 - val_loss: 0.0553 - val_accuracy: 0.9583\n",
            "Epoch 61/100\n",
            "20/20 [==============================] - 0s 4ms/step - loss: 0.0097 - accuracy: 1.0000 - val_loss: 0.0538 - val_accuracy: 0.9583\n",
            "Epoch 62/100\n",
            "20/20 [==============================] - 0s 4ms/step - loss: 0.0094 - accuracy: 1.0000 - val_loss: 0.0529 - val_accuracy: 0.9583\n",
            "Epoch 63/100\n",
            "20/20 [==============================] - 0s 4ms/step - loss: 0.0090 - accuracy: 1.0000 - val_loss: 0.0499 - val_accuracy: 0.9583\n",
            "Epoch 64/100\n",
            "20/20 [==============================] - 0s 3ms/step - loss: 0.0087 - accuracy: 1.0000 - val_loss: 0.0491 - val_accuracy: 0.9583\n",
            "Epoch 65/100\n",
            "20/20 [==============================] - 0s 4ms/step - loss: 0.0083 - accuracy: 1.0000 - val_loss: 0.0485 - val_accuracy: 0.9583\n",
            "Epoch 66/100\n",
            "20/20 [==============================] - 0s 3ms/step - loss: 0.0082 - accuracy: 1.0000 - val_loss: 0.0505 - val_accuracy: 0.9583\n",
            "Epoch 67/100\n",
            "20/20 [==============================] - 0s 4ms/step - loss: 0.0076 - accuracy: 1.0000 - val_loss: 0.0469 - val_accuracy: 0.9583\n",
            "Epoch 68/100\n",
            "20/20 [==============================] - 0s 4ms/step - loss: 0.0073 - accuracy: 1.0000 - val_loss: 0.0446 - val_accuracy: 0.9583\n",
            "Epoch 69/100\n",
            "20/20 [==============================] - 0s 4ms/step - loss: 0.0071 - accuracy: 1.0000 - val_loss: 0.0414 - val_accuracy: 0.9583\n",
            "Epoch 70/100\n",
            "20/20 [==============================] - 0s 4ms/step - loss: 0.0068 - accuracy: 1.0000 - val_loss: 0.0418 - val_accuracy: 0.9583\n",
            "Epoch 71/100\n",
            "20/20 [==============================] - 0s 5ms/step - loss: 0.0066 - accuracy: 1.0000 - val_loss: 0.0441 - val_accuracy: 0.9583\n",
            "Epoch 72/100\n",
            "20/20 [==============================] - 0s 5ms/step - loss: 0.0063 - accuracy: 1.0000 - val_loss: 0.0409 - val_accuracy: 0.9583\n",
            "Epoch 73/100\n",
            "20/20 [==============================] - 0s 4ms/step - loss: 0.0061 - accuracy: 1.0000 - val_loss: 0.0430 - val_accuracy: 0.9583\n",
            "Epoch 74/100\n",
            "20/20 [==============================] - 0s 4ms/step - loss: 0.0058 - accuracy: 1.0000 - val_loss: 0.0407 - val_accuracy: 0.9583\n",
            "Epoch 75/100\n",
            "20/20 [==============================] - 0s 4ms/step - loss: 0.0056 - accuracy: 1.0000 - val_loss: 0.0422 - val_accuracy: 0.9583\n",
            "Epoch 76/100\n",
            "20/20 [==============================] - 0s 5ms/step - loss: 0.0054 - accuracy: 1.0000 - val_loss: 0.0395 - val_accuracy: 0.9583\n",
            "Epoch 77/100\n",
            "20/20 [==============================] - 0s 4ms/step - loss: 0.0052 - accuracy: 1.0000 - val_loss: 0.0373 - val_accuracy: 0.9583\n",
            "Epoch 78/100\n",
            "20/20 [==============================] - 0s 4ms/step - loss: 0.0050 - accuracy: 1.0000 - val_loss: 0.0364 - val_accuracy: 1.0000\n",
            "Epoch 79/100\n",
            "20/20 [==============================] - 0s 4ms/step - loss: 0.0048 - accuracy: 1.0000 - val_loss: 0.0343 - val_accuracy: 1.0000\n",
            "Epoch 80/100\n",
            "20/20 [==============================] - 0s 4ms/step - loss: 0.0047 - accuracy: 1.0000 - val_loss: 0.0341 - val_accuracy: 1.0000\n",
            "Epoch 81/100\n",
            "20/20 [==============================] - 0s 4ms/step - loss: 0.0045 - accuracy: 1.0000 - val_loss: 0.0320 - val_accuracy: 1.0000\n",
            "Epoch 82/100\n",
            "20/20 [==============================] - 0s 5ms/step - loss: 0.0044 - accuracy: 1.0000 - val_loss: 0.0320 - val_accuracy: 1.0000\n",
            "Epoch 83/100\n",
            "20/20 [==============================] - 0s 6ms/step - loss: 0.0043 - accuracy: 1.0000 - val_loss: 0.0316 - val_accuracy: 1.0000\n",
            "Epoch 84/100\n",
            "20/20 [==============================] - 0s 4ms/step - loss: 0.0041 - accuracy: 1.0000 - val_loss: 0.0304 - val_accuracy: 1.0000\n",
            "Epoch 85/100\n",
            "20/20 [==============================] - 0s 4ms/step - loss: 0.0040 - accuracy: 1.0000 - val_loss: 0.0311 - val_accuracy: 1.0000\n",
            "Epoch 86/100\n",
            "20/20 [==============================] - 0s 4ms/step - loss: 0.0039 - accuracy: 1.0000 - val_loss: 0.0294 - val_accuracy: 1.0000\n",
            "Epoch 87/100\n",
            "20/20 [==============================] - 0s 4ms/step - loss: 0.0037 - accuracy: 1.0000 - val_loss: 0.0323 - val_accuracy: 1.0000\n",
            "Epoch 88/100\n",
            "20/20 [==============================] - 0s 4ms/step - loss: 0.0036 - accuracy: 1.0000 - val_loss: 0.0312 - val_accuracy: 1.0000\n",
            "Epoch 89/100\n",
            "20/20 [==============================] - 0s 4ms/step - loss: 0.0036 - accuracy: 1.0000 - val_loss: 0.0289 - val_accuracy: 1.0000\n",
            "Epoch 90/100\n",
            "20/20 [==============================] - 0s 4ms/step - loss: 0.0034 - accuracy: 1.0000 - val_loss: 0.0280 - val_accuracy: 1.0000\n",
            "Epoch 91/100\n",
            "20/20 [==============================] - 0s 4ms/step - loss: 0.0033 - accuracy: 1.0000 - val_loss: 0.0283 - val_accuracy: 1.0000\n",
            "Epoch 92/100\n",
            "20/20 [==============================] - 0s 4ms/step - loss: 0.0033 - accuracy: 1.0000 - val_loss: 0.0309 - val_accuracy: 1.0000\n",
            "Epoch 93/100\n",
            "20/20 [==============================] - 0s 5ms/step - loss: 0.0031 - accuracy: 1.0000 - val_loss: 0.0274 - val_accuracy: 1.0000\n",
            "Epoch 94/100\n",
            "20/20 [==============================] - 0s 5ms/step - loss: 0.0030 - accuracy: 1.0000 - val_loss: 0.0263 - val_accuracy: 1.0000\n",
            "Epoch 95/100\n",
            "20/20 [==============================] - 0s 4ms/step - loss: 0.0029 - accuracy: 1.0000 - val_loss: 0.0248 - val_accuracy: 1.0000\n",
            "Epoch 96/100\n",
            "20/20 [==============================] - 0s 4ms/step - loss: 0.0029 - accuracy: 1.0000 - val_loss: 0.0239 - val_accuracy: 1.0000\n",
            "Epoch 97/100\n",
            "20/20 [==============================] - 0s 4ms/step - loss: 0.0028 - accuracy: 1.0000 - val_loss: 0.0238 - val_accuracy: 1.0000\n",
            "Epoch 98/100\n",
            "20/20 [==============================] - 0s 3ms/step - loss: 0.0027 - accuracy: 1.0000 - val_loss: 0.0231 - val_accuracy: 1.0000\n",
            "Epoch 99/100\n",
            "20/20 [==============================] - 0s 4ms/step - loss: 0.0027 - accuracy: 1.0000 - val_loss: 0.0230 - val_accuracy: 1.0000\n",
            "Epoch 100/100\n",
            "20/20 [==============================] - 0s 4ms/step - loss: 0.0026 - accuracy: 1.0000 - val_loss: 0.0230 - val_accuracy: 1.0000\n"
          ]
        },
        {
          "output_type": "execute_result",
          "data": {
            "text/plain": [
              "<keras.src.callbacks.History at 0x7837037a5930>"
            ]
          },
          "metadata": {},
          "execution_count": 20
        }
      ]
    },
    {
      "cell_type": "markdown",
      "source": [
        "# Evaluate the Model"
      ],
      "metadata": {
        "id": "GqlAlzVYOFtA"
      }
    },
    {
      "cell_type": "code",
      "source": [
        "# Evaluate the model\n",
        "loss, accuracy = model.evaluate(X_test, y_test)\n",
        "print(f'Test Loss: {loss:.4f}, Test Accuracy: {accuracy:.4f}')"
      ],
      "metadata": {
        "colab": {
          "base_uri": "https://localhost:8080/"
        },
        "id": "QgeCcx3BNrPS",
        "outputId": "1880a58a-a860-46c0-dffb-990237b70653"
      },
      "execution_count": 21,
      "outputs": [
        {
          "output_type": "stream",
          "name": "stdout",
          "text": [
            "1/1 [==============================] - 0s 90ms/step - loss: 0.0014 - accuracy: 1.0000\n",
            "Test Loss: 0.0014, Test Accuracy: 1.0000\n"
          ]
        }
      ]
    },
    {
      "cell_type": "markdown",
      "source": [
        "Summary of Changes for Multi-Class Classification\n",
        "\n",
        "In the provided TensorFlow code, the key changes made to adapt the model for multi-class classification are:\n",
        "\n",
        "Loss Function: Instead of using sigmoid_cross_entropy_with_logits, we use categorical_crossentropy, which is suitable for multi-class problems.\n",
        "Output Layer Activation: The output layer uses the softmax activation function, which is appropriate for multi-class classification as it outputs probabilities for each class.\n",
        "\n",
        "Correct Prediction Calculation: The method for calculating correct predictions is simplified, as TensorFlow handles this internally when using categorical_crossentropy."
      ],
      "metadata": {
        "id": "MaoZP5iLRWYq"
      }
    },
    {
      "cell_type": "markdown",
      "source": [
        "# Problem 4] Create a model of House Price"
      ],
      "metadata": {
        "id": "Z_h0r8gqPIaz"
      }
    },
    {
      "cell_type": "code",
      "source": [
        "df = pd.read_csv('train.csv')\n",
        "df.head()"
      ],
      "metadata": {
        "colab": {
          "base_uri": "https://localhost:8080/",
          "height": 255
        },
        "id": "HJuk-TKwPLnQ",
        "outputId": "bf9473cf-294c-4360-fcce-4d532c1a13ae"
      },
      "execution_count": 24,
      "outputs": [
        {
          "output_type": "execute_result",
          "data": {
            "text/plain": [
              "   Id  MSSubClass MSZoning  LotFrontage  LotArea Street Alley LotShape  \\\n",
              "0   1          60       RL         65.0     8450   Pave   NaN      Reg   \n",
              "1   2          20       RL         80.0     9600   Pave   NaN      Reg   \n",
              "2   3          60       RL         68.0    11250   Pave   NaN      IR1   \n",
              "3   4          70       RL         60.0     9550   Pave   NaN      IR1   \n",
              "4   5          60       RL         84.0    14260   Pave   NaN      IR1   \n",
              "\n",
              "  LandContour Utilities  ... PoolArea PoolQC Fence MiscFeature MiscVal MoSold  \\\n",
              "0         Lvl    AllPub  ...        0    NaN   NaN         NaN       0      2   \n",
              "1         Lvl    AllPub  ...        0    NaN   NaN         NaN       0      5   \n",
              "2         Lvl    AllPub  ...        0    NaN   NaN         NaN       0      9   \n",
              "3         Lvl    AllPub  ...        0    NaN   NaN         NaN       0      2   \n",
              "4         Lvl    AllPub  ...        0    NaN   NaN         NaN       0     12   \n",
              "\n",
              "  YrSold  SaleType  SaleCondition  SalePrice  \n",
              "0   2008        WD         Normal     208500  \n",
              "1   2007        WD         Normal     181500  \n",
              "2   2008        WD         Normal     223500  \n",
              "3   2006        WD        Abnorml     140000  \n",
              "4   2008        WD         Normal     250000  \n",
              "\n",
              "[5 rows x 81 columns]"
            ],
            "text/html": [
              "\n",
              "  <div id=\"df-b8ffc7ca-84a6-47b7-8c0e-809b71c96bc8\" class=\"colab-df-container\">\n",
              "    <div>\n",
              "<style scoped>\n",
              "    .dataframe tbody tr th:only-of-type {\n",
              "        vertical-align: middle;\n",
              "    }\n",
              "\n",
              "    .dataframe tbody tr th {\n",
              "        vertical-align: top;\n",
              "    }\n",
              "\n",
              "    .dataframe thead th {\n",
              "        text-align: right;\n",
              "    }\n",
              "</style>\n",
              "<table border=\"1\" class=\"dataframe\">\n",
              "  <thead>\n",
              "    <tr style=\"text-align: right;\">\n",
              "      <th></th>\n",
              "      <th>Id</th>\n",
              "      <th>MSSubClass</th>\n",
              "      <th>MSZoning</th>\n",
              "      <th>LotFrontage</th>\n",
              "      <th>LotArea</th>\n",
              "      <th>Street</th>\n",
              "      <th>Alley</th>\n",
              "      <th>LotShape</th>\n",
              "      <th>LandContour</th>\n",
              "      <th>Utilities</th>\n",
              "      <th>...</th>\n",
              "      <th>PoolArea</th>\n",
              "      <th>PoolQC</th>\n",
              "      <th>Fence</th>\n",
              "      <th>MiscFeature</th>\n",
              "      <th>MiscVal</th>\n",
              "      <th>MoSold</th>\n",
              "      <th>YrSold</th>\n",
              "      <th>SaleType</th>\n",
              "      <th>SaleCondition</th>\n",
              "      <th>SalePrice</th>\n",
              "    </tr>\n",
              "  </thead>\n",
              "  <tbody>\n",
              "    <tr>\n",
              "      <th>0</th>\n",
              "      <td>1</td>\n",
              "      <td>60</td>\n",
              "      <td>RL</td>\n",
              "      <td>65.0</td>\n",
              "      <td>8450</td>\n",
              "      <td>Pave</td>\n",
              "      <td>NaN</td>\n",
              "      <td>Reg</td>\n",
              "      <td>Lvl</td>\n",
              "      <td>AllPub</td>\n",
              "      <td>...</td>\n",
              "      <td>0</td>\n",
              "      <td>NaN</td>\n",
              "      <td>NaN</td>\n",
              "      <td>NaN</td>\n",
              "      <td>0</td>\n",
              "      <td>2</td>\n",
              "      <td>2008</td>\n",
              "      <td>WD</td>\n",
              "      <td>Normal</td>\n",
              "      <td>208500</td>\n",
              "    </tr>\n",
              "    <tr>\n",
              "      <th>1</th>\n",
              "      <td>2</td>\n",
              "      <td>20</td>\n",
              "      <td>RL</td>\n",
              "      <td>80.0</td>\n",
              "      <td>9600</td>\n",
              "      <td>Pave</td>\n",
              "      <td>NaN</td>\n",
              "      <td>Reg</td>\n",
              "      <td>Lvl</td>\n",
              "      <td>AllPub</td>\n",
              "      <td>...</td>\n",
              "      <td>0</td>\n",
              "      <td>NaN</td>\n",
              "      <td>NaN</td>\n",
              "      <td>NaN</td>\n",
              "      <td>0</td>\n",
              "      <td>5</td>\n",
              "      <td>2007</td>\n",
              "      <td>WD</td>\n",
              "      <td>Normal</td>\n",
              "      <td>181500</td>\n",
              "    </tr>\n",
              "    <tr>\n",
              "      <th>2</th>\n",
              "      <td>3</td>\n",
              "      <td>60</td>\n",
              "      <td>RL</td>\n",
              "      <td>68.0</td>\n",
              "      <td>11250</td>\n",
              "      <td>Pave</td>\n",
              "      <td>NaN</td>\n",
              "      <td>IR1</td>\n",
              "      <td>Lvl</td>\n",
              "      <td>AllPub</td>\n",
              "      <td>...</td>\n",
              "      <td>0</td>\n",
              "      <td>NaN</td>\n",
              "      <td>NaN</td>\n",
              "      <td>NaN</td>\n",
              "      <td>0</td>\n",
              "      <td>9</td>\n",
              "      <td>2008</td>\n",
              "      <td>WD</td>\n",
              "      <td>Normal</td>\n",
              "      <td>223500</td>\n",
              "    </tr>\n",
              "    <tr>\n",
              "      <th>3</th>\n",
              "      <td>4</td>\n",
              "      <td>70</td>\n",
              "      <td>RL</td>\n",
              "      <td>60.0</td>\n",
              "      <td>9550</td>\n",
              "      <td>Pave</td>\n",
              "      <td>NaN</td>\n",
              "      <td>IR1</td>\n",
              "      <td>Lvl</td>\n",
              "      <td>AllPub</td>\n",
              "      <td>...</td>\n",
              "      <td>0</td>\n",
              "      <td>NaN</td>\n",
              "      <td>NaN</td>\n",
              "      <td>NaN</td>\n",
              "      <td>0</td>\n",
              "      <td>2</td>\n",
              "      <td>2006</td>\n",
              "      <td>WD</td>\n",
              "      <td>Abnorml</td>\n",
              "      <td>140000</td>\n",
              "    </tr>\n",
              "    <tr>\n",
              "      <th>4</th>\n",
              "      <td>5</td>\n",
              "      <td>60</td>\n",
              "      <td>RL</td>\n",
              "      <td>84.0</td>\n",
              "      <td>14260</td>\n",
              "      <td>Pave</td>\n",
              "      <td>NaN</td>\n",
              "      <td>IR1</td>\n",
              "      <td>Lvl</td>\n",
              "      <td>AllPub</td>\n",
              "      <td>...</td>\n",
              "      <td>0</td>\n",
              "      <td>NaN</td>\n",
              "      <td>NaN</td>\n",
              "      <td>NaN</td>\n",
              "      <td>0</td>\n",
              "      <td>12</td>\n",
              "      <td>2008</td>\n",
              "      <td>WD</td>\n",
              "      <td>Normal</td>\n",
              "      <td>250000</td>\n",
              "    </tr>\n",
              "  </tbody>\n",
              "</table>\n",
              "<p>5 rows × 81 columns</p>\n",
              "</div>\n",
              "    <div class=\"colab-df-buttons\">\n",
              "\n",
              "  <div class=\"colab-df-container\">\n",
              "    <button class=\"colab-df-convert\" onclick=\"convertToInteractive('df-b8ffc7ca-84a6-47b7-8c0e-809b71c96bc8')\"\n",
              "            title=\"Convert this dataframe to an interactive table.\"\n",
              "            style=\"display:none;\">\n",
              "\n",
              "  <svg xmlns=\"http://www.w3.org/2000/svg\" height=\"24px\" viewBox=\"0 -960 960 960\">\n",
              "    <path d=\"M120-120v-720h720v720H120Zm60-500h600v-160H180v160Zm220 220h160v-160H400v160Zm0 220h160v-160H400v160ZM180-400h160v-160H180v160Zm440 0h160v-160H620v160ZM180-180h160v-160H180v160Zm440 0h160v-160H620v160Z\"/>\n",
              "  </svg>\n",
              "    </button>\n",
              "\n",
              "  <style>\n",
              "    .colab-df-container {\n",
              "      display:flex;\n",
              "      gap: 12px;\n",
              "    }\n",
              "\n",
              "    .colab-df-convert {\n",
              "      background-color: #E8F0FE;\n",
              "      border: none;\n",
              "      border-radius: 50%;\n",
              "      cursor: pointer;\n",
              "      display: none;\n",
              "      fill: #1967D2;\n",
              "      height: 32px;\n",
              "      padding: 0 0 0 0;\n",
              "      width: 32px;\n",
              "    }\n",
              "\n",
              "    .colab-df-convert:hover {\n",
              "      background-color: #E2EBFA;\n",
              "      box-shadow: 0px 1px 2px rgba(60, 64, 67, 0.3), 0px 1px 3px 1px rgba(60, 64, 67, 0.15);\n",
              "      fill: #174EA6;\n",
              "    }\n",
              "\n",
              "    .colab-df-buttons div {\n",
              "      margin-bottom: 4px;\n",
              "    }\n",
              "\n",
              "    [theme=dark] .colab-df-convert {\n",
              "      background-color: #3B4455;\n",
              "      fill: #D2E3FC;\n",
              "    }\n",
              "\n",
              "    [theme=dark] .colab-df-convert:hover {\n",
              "      background-color: #434B5C;\n",
              "      box-shadow: 0px 1px 3px 1px rgba(0, 0, 0, 0.15);\n",
              "      filter: drop-shadow(0px 1px 2px rgba(0, 0, 0, 0.3));\n",
              "      fill: #FFFFFF;\n",
              "    }\n",
              "  </style>\n",
              "\n",
              "    <script>\n",
              "      const buttonEl =\n",
              "        document.querySelector('#df-b8ffc7ca-84a6-47b7-8c0e-809b71c96bc8 button.colab-df-convert');\n",
              "      buttonEl.style.display =\n",
              "        google.colab.kernel.accessAllowed ? 'block' : 'none';\n",
              "\n",
              "      async function convertToInteractive(key) {\n",
              "        const element = document.querySelector('#df-b8ffc7ca-84a6-47b7-8c0e-809b71c96bc8');\n",
              "        const dataTable =\n",
              "          await google.colab.kernel.invokeFunction('convertToInteractive',\n",
              "                                                    [key], {});\n",
              "        if (!dataTable) return;\n",
              "\n",
              "        const docLinkHtml = 'Like what you see? Visit the ' +\n",
              "          '<a target=\"_blank\" href=https://colab.research.google.com/notebooks/data_table.ipynb>data table notebook</a>'\n",
              "          + ' to learn more about interactive tables.';\n",
              "        element.innerHTML = '';\n",
              "        dataTable['output_type'] = 'display_data';\n",
              "        await google.colab.output.renderOutput(dataTable, element);\n",
              "        const docLink = document.createElement('div');\n",
              "        docLink.innerHTML = docLinkHtml;\n",
              "        element.appendChild(docLink);\n",
              "      }\n",
              "    </script>\n",
              "  </div>\n",
              "\n",
              "\n",
              "<div id=\"df-1bb3e47e-5260-4093-afb3-2de1c6359dfc\">\n",
              "  <button class=\"colab-df-quickchart\" onclick=\"quickchart('df-1bb3e47e-5260-4093-afb3-2de1c6359dfc')\"\n",
              "            title=\"Suggest charts\"\n",
              "            style=\"display:none;\">\n",
              "\n",
              "<svg xmlns=\"http://www.w3.org/2000/svg\" height=\"24px\"viewBox=\"0 0 24 24\"\n",
              "     width=\"24px\">\n",
              "    <g>\n",
              "        <path d=\"M19 3H5c-1.1 0-2 .9-2 2v14c0 1.1.9 2 2 2h14c1.1 0 2-.9 2-2V5c0-1.1-.9-2-2-2zM9 17H7v-7h2v7zm4 0h-2V7h2v10zm4 0h-2v-4h2v4z\"/>\n",
              "    </g>\n",
              "</svg>\n",
              "  </button>\n",
              "\n",
              "<style>\n",
              "  .colab-df-quickchart {\n",
              "      --bg-color: #E8F0FE;\n",
              "      --fill-color: #1967D2;\n",
              "      --hover-bg-color: #E2EBFA;\n",
              "      --hover-fill-color: #174EA6;\n",
              "      --disabled-fill-color: #AAA;\n",
              "      --disabled-bg-color: #DDD;\n",
              "  }\n",
              "\n",
              "  [theme=dark] .colab-df-quickchart {\n",
              "      --bg-color: #3B4455;\n",
              "      --fill-color: #D2E3FC;\n",
              "      --hover-bg-color: #434B5C;\n",
              "      --hover-fill-color: #FFFFFF;\n",
              "      --disabled-bg-color: #3B4455;\n",
              "      --disabled-fill-color: #666;\n",
              "  }\n",
              "\n",
              "  .colab-df-quickchart {\n",
              "    background-color: var(--bg-color);\n",
              "    border: none;\n",
              "    border-radius: 50%;\n",
              "    cursor: pointer;\n",
              "    display: none;\n",
              "    fill: var(--fill-color);\n",
              "    height: 32px;\n",
              "    padding: 0;\n",
              "    width: 32px;\n",
              "  }\n",
              "\n",
              "  .colab-df-quickchart:hover {\n",
              "    background-color: var(--hover-bg-color);\n",
              "    box-shadow: 0 1px 2px rgba(60, 64, 67, 0.3), 0 1px 3px 1px rgba(60, 64, 67, 0.15);\n",
              "    fill: var(--button-hover-fill-color);\n",
              "  }\n",
              "\n",
              "  .colab-df-quickchart-complete:disabled,\n",
              "  .colab-df-quickchart-complete:disabled:hover {\n",
              "    background-color: var(--disabled-bg-color);\n",
              "    fill: var(--disabled-fill-color);\n",
              "    box-shadow: none;\n",
              "  }\n",
              "\n",
              "  .colab-df-spinner {\n",
              "    border: 2px solid var(--fill-color);\n",
              "    border-color: transparent;\n",
              "    border-bottom-color: var(--fill-color);\n",
              "    animation:\n",
              "      spin 1s steps(1) infinite;\n",
              "  }\n",
              "\n",
              "  @keyframes spin {\n",
              "    0% {\n",
              "      border-color: transparent;\n",
              "      border-bottom-color: var(--fill-color);\n",
              "      border-left-color: var(--fill-color);\n",
              "    }\n",
              "    20% {\n",
              "      border-color: transparent;\n",
              "      border-left-color: var(--fill-color);\n",
              "      border-top-color: var(--fill-color);\n",
              "    }\n",
              "    30% {\n",
              "      border-color: transparent;\n",
              "      border-left-color: var(--fill-color);\n",
              "      border-top-color: var(--fill-color);\n",
              "      border-right-color: var(--fill-color);\n",
              "    }\n",
              "    40% {\n",
              "      border-color: transparent;\n",
              "      border-right-color: var(--fill-color);\n",
              "      border-top-color: var(--fill-color);\n",
              "    }\n",
              "    60% {\n",
              "      border-color: transparent;\n",
              "      border-right-color: var(--fill-color);\n",
              "    }\n",
              "    80% {\n",
              "      border-color: transparent;\n",
              "      border-right-color: var(--fill-color);\n",
              "      border-bottom-color: var(--fill-color);\n",
              "    }\n",
              "    90% {\n",
              "      border-color: transparent;\n",
              "      border-bottom-color: var(--fill-color);\n",
              "    }\n",
              "  }\n",
              "</style>\n",
              "\n",
              "  <script>\n",
              "    async function quickchart(key) {\n",
              "      const quickchartButtonEl =\n",
              "        document.querySelector('#' + key + ' button');\n",
              "      quickchartButtonEl.disabled = true;  // To prevent multiple clicks.\n",
              "      quickchartButtonEl.classList.add('colab-df-spinner');\n",
              "      try {\n",
              "        const charts = await google.colab.kernel.invokeFunction(\n",
              "            'suggestCharts', [key], {});\n",
              "      } catch (error) {\n",
              "        console.error('Error during call to suggestCharts:', error);\n",
              "      }\n",
              "      quickchartButtonEl.classList.remove('colab-df-spinner');\n",
              "      quickchartButtonEl.classList.add('colab-df-quickchart-complete');\n",
              "    }\n",
              "    (() => {\n",
              "      let quickchartButtonEl =\n",
              "        document.querySelector('#df-1bb3e47e-5260-4093-afb3-2de1c6359dfc button');\n",
              "      quickchartButtonEl.style.display =\n",
              "        google.colab.kernel.accessAllowed ? 'block' : 'none';\n",
              "    })();\n",
              "  </script>\n",
              "</div>\n",
              "\n",
              "    </div>\n",
              "  </div>\n"
            ],
            "application/vnd.google.colaboratory.intrinsic+json": {
              "type": "dataframe",
              "variable_name": "df"
            }
          },
          "metadata": {},
          "execution_count": 24
        }
      ]
    },
    {
      "cell_type": "code",
      "source": [
        "# Select the relevant features\n",
        "X = df[['GrLivArea', 'YearBuilt']]\n",
        "y = df['SalePrice']\n",
        "\n",
        "# Split the dataset into training and testing sets\n",
        "X_train, X_test, y_train, y_test = train_test_split(X, y, test_size=0.2, random_state=42)\n",
        "\n",
        "# Standardize the feature values\n",
        "scaler = StandardScaler()\n",
        "X_train = scaler.fit_transform(X_train)\n",
        "X_test = scaler.transform(X_test)"
      ],
      "metadata": {
        "id": "hS-ECwopPmlJ"
      },
      "execution_count": 25,
      "outputs": []
    },
    {
      "cell_type": "code",
      "source": [
        "# Define the model\n",
        "model = tf.keras.Sequential([\n",
        "    tf.keras.layers.Dense(64, activation='relu', input_shape=(X_train.shape[1],)),\n",
        "    tf.keras.layers.Dense(32, activation='relu'),\n",
        "    tf.keras.layers.Dense(1)  # Single output for regression\n",
        "])\n",
        "\n",
        "# Compile the model\n",
        "model.compile(optimizer='adam',\n",
        "              loss='mse',  # Use mean squared error for regression\n",
        "              metrics=['mae'])"
      ],
      "metadata": {
        "id": "h80PcqSEQy8p"
      },
      "execution_count": 26,
      "outputs": []
    },
    {
      "cell_type": "code",
      "source": [
        "# Train the model\n",
        "model.fit(X_train, y_train, epochs=100, batch_size=32, validation_split=0.2)"
      ],
      "metadata": {
        "colab": {
          "base_uri": "https://localhost:8080/"
        },
        "id": "HDHkeWzHQ2yQ",
        "outputId": "2d0a8462-23b8-4b3b-b88a-513e0ee4b870"
      },
      "execution_count": 27,
      "outputs": [
        {
          "output_type": "stream",
          "name": "stdout",
          "text": [
            "Epoch 1/100\n",
            "30/30 [==============================] - 1s 12ms/step - loss: 39146704896.0000 - mae: 181525.8750 - val_loss: 37841690624.0000 - val_mae: 181101.0312\n",
            "Epoch 2/100\n",
            "30/30 [==============================] - 0s 3ms/step - loss: 39146098688.0000 - mae: 181524.3906 - val_loss: 37840846848.0000 - val_mae: 181098.9531\n",
            "Epoch 3/100\n",
            "30/30 [==============================] - 0s 4ms/step - loss: 39144816640.0000 - mae: 181521.2188 - val_loss: 37839060992.0000 - val_mae: 181094.5625\n",
            "Epoch 4/100\n",
            "30/30 [==============================] - 0s 4ms/step - loss: 39142232064.0000 - mae: 181514.9531 - val_loss: 37835681792.0000 - val_mae: 181086.3125\n",
            "Epoch 5/100\n",
            "30/30 [==============================] - 0s 3ms/step - loss: 39137697792.0000 - mae: 181503.8750 - val_loss: 37830057984.0000 - val_mae: 181072.6094\n",
            "Epoch 6/100\n",
            "30/30 [==============================] - 0s 3ms/step - loss: 39130390528.0000 - mae: 181486.4531 - val_loss: 37821472768.0000 - val_mae: 181051.8281\n",
            "Epoch 7/100\n",
            "30/30 [==============================] - 0s 3ms/step - loss: 39119581184.0000 - mae: 181460.5469 - val_loss: 37808832512.0000 - val_mae: 181021.5312\n",
            "Epoch 8/100\n",
            "30/30 [==============================] - 0s 4ms/step - loss: 39104204800.0000 - mae: 181424.4844 - val_loss: 37791698944.0000 - val_mae: 180980.6094\n",
            "Epoch 9/100\n",
            "30/30 [==============================] - 0s 4ms/step - loss: 39083683840.0000 - mae: 181376.0625 - val_loss: 37769035776.0000 - val_mae: 180926.7656\n",
            "Epoch 10/100\n",
            "30/30 [==============================] - 0s 3ms/step - loss: 39056928768.0000 - mae: 181313.5781 - val_loss: 37739843584.0000 - val_mae: 180857.9219\n",
            "Epoch 11/100\n",
            "30/30 [==============================] - 0s 4ms/step - loss: 39023054848.0000 - mae: 181234.6562 - val_loss: 37703475200.0000 - val_mae: 180772.5312\n",
            "Epoch 12/100\n",
            "30/30 [==============================] - 0s 5ms/step - loss: 38981050368.0000 - mae: 181137.7188 - val_loss: 37659144192.0000 - val_mae: 180668.9688\n",
            "Epoch 13/100\n",
            "30/30 [==============================] - 0s 4ms/step - loss: 38931722240.0000 - mae: 181023.9375 - val_loss: 37607419904.0000 - val_mae: 180547.7500\n",
            "Epoch 14/100\n",
            "30/30 [==============================] - 0s 4ms/step - loss: 38873661440.0000 - mae: 180890.2969 - val_loss: 37547778048.0000 - val_mae: 180407.9531\n",
            "Epoch 15/100\n",
            "30/30 [==============================] - 0s 4ms/step - loss: 38805405696.0000 - mae: 180732.9531 - val_loss: 37476110336.0000 - val_mae: 180241.1250\n",
            "Epoch 16/100\n",
            "30/30 [==============================] - 0s 4ms/step - loss: 38726402048.0000 - mae: 180552.8750 - val_loss: 37395939328.0000 - val_mae: 180054.1094\n",
            "Epoch 17/100\n",
            "30/30 [==============================] - 0s 3ms/step - loss: 38638342144.0000 - mae: 180347.1875 - val_loss: 37304905728.0000 - val_mae: 179841.5000\n",
            "Epoch 18/100\n",
            "30/30 [==============================] - 0s 3ms/step - loss: 38537711616.0000 - mae: 180117.4531 - val_loss: 37202145280.0000 - val_mae: 179601.9219\n",
            "Epoch 19/100\n",
            "30/30 [==============================] - 0s 3ms/step - loss: 38424145920.0000 - mae: 179857.5625 - val_loss: 37087551488.0000 - val_mae: 179334.5938\n",
            "Epoch 20/100\n",
            "30/30 [==============================] - 0s 4ms/step - loss: 38299987968.0000 - mae: 179569.0000 - val_loss: 36961017856.0000 - val_mae: 179038.9062\n",
            "Epoch 21/100\n",
            "30/30 [==============================] - 0s 4ms/step - loss: 38162374656.0000 - mae: 179252.0625 - val_loss: 36820627456.0000 - val_mae: 178711.1719\n",
            "Epoch 22/100\n",
            "30/30 [==============================] - 0s 3ms/step - loss: 38010351616.0000 - mae: 178903.6562 - val_loss: 36670681088.0000 - val_mae: 178359.0938\n",
            "Epoch 23/100\n",
            "30/30 [==============================] - 0s 3ms/step - loss: 37846286336.0000 - mae: 178528.7344 - val_loss: 36509646848.0000 - val_mae: 177979.5312\n",
            "Epoch 24/100\n",
            "30/30 [==============================] - 0s 3ms/step - loss: 37671297024.0000 - mae: 178116.1875 - val_loss: 36327841792.0000 - val_mae: 177553.3281\n",
            "Epoch 25/100\n",
            "30/30 [==============================] - 0s 3ms/step - loss: 37476921344.0000 - mae: 177669.4531 - val_loss: 36139343872.0000 - val_mae: 177107.7031\n",
            "Epoch 26/100\n",
            "30/30 [==============================] - 0s 4ms/step - loss: 37271105536.0000 - mae: 177188.8594 - val_loss: 35929423872.0000 - val_mae: 176613.4375\n",
            "Epoch 27/100\n",
            "30/30 [==============================] - 0s 3ms/step - loss: 37049774080.0000 - mae: 176670.7031 - val_loss: 35708817408.0000 - val_mae: 176090.5156\n",
            "Epoch 28/100\n",
            "30/30 [==============================] - 0s 3ms/step - loss: 36811329536.0000 - mae: 176118.0156 - val_loss: 35472658432.0000 - val_mae: 175530.2188\n",
            "Epoch 29/100\n",
            "30/30 [==============================] - 0s 4ms/step - loss: 36560035840.0000 - mae: 175528.1406 - val_loss: 35222765568.0000 - val_mae: 174934.4219\n",
            "Epoch 30/100\n",
            "30/30 [==============================] - 0s 5ms/step - loss: 36294324224.0000 - mae: 174906.7656 - val_loss: 34964238336.0000 - val_mae: 174314.5312\n",
            "Epoch 31/100\n",
            "30/30 [==============================] - 0s 4ms/step - loss: 36015878144.0000 - mae: 174246.8594 - val_loss: 34692341760.0000 - val_mae: 173659.2656\n",
            "Epoch 32/100\n",
            "30/30 [==============================] - 0s 4ms/step - loss: 35717414912.0000 - mae: 173537.1250 - val_loss: 34388910080.0000 - val_mae: 172930.8438\n",
            "Epoch 33/100\n",
            "30/30 [==============================] - 0s 3ms/step - loss: 35403137024.0000 - mae: 172793.9219 - val_loss: 34081933312.0000 - val_mae: 172187.9531\n",
            "Epoch 34/100\n",
            "30/30 [==============================] - 0s 4ms/step - loss: 35079491584.0000 - mae: 172023.7188 - val_loss: 33767987200.0000 - val_mae: 171421.4688\n",
            "Epoch 35/100\n",
            "30/30 [==============================] - 0s 3ms/step - loss: 34742018048.0000 - mae: 171214.2031 - val_loss: 33438795776.0000 - val_mae: 170614.9062\n",
            "Epoch 36/100\n",
            "30/30 [==============================] - 0s 3ms/step - loss: 34385911808.0000 - mae: 170351.5469 - val_loss: 33084571648.0000 - val_mae: 169744.6250\n",
            "Epoch 37/100\n",
            "30/30 [==============================] - 0s 4ms/step - loss: 34023718912.0000 - mae: 169460.0156 - val_loss: 32725030912.0000 - val_mae: 168854.2188\n",
            "Epoch 38/100\n",
            "30/30 [==============================] - 0s 4ms/step - loss: 33636528128.0000 - mae: 168517.8281 - val_loss: 32345571328.0000 - val_mae: 167910.2812\n",
            "Epoch 39/100\n",
            "30/30 [==============================] - 0s 4ms/step - loss: 33237145600.0000 - mae: 167536.0000 - val_loss: 31955908608.0000 - val_mae: 166935.4062\n",
            "Epoch 40/100\n",
            "30/30 [==============================] - 0s 4ms/step - loss: 32826355712.0000 - mae: 166511.1719 - val_loss: 31549984768.0000 - val_mae: 165912.5000\n",
            "Epoch 41/100\n",
            "30/30 [==============================] - 0s 6ms/step - loss: 32404047872.0000 - mae: 165467.2188 - val_loss: 31144112128.0000 - val_mae: 164878.2188\n",
            "Epoch 42/100\n",
            "30/30 [==============================] - 0s 4ms/step - loss: 31977762816.0000 - mae: 164388.2031 - val_loss: 30720290816.0000 - val_mae: 163792.7500\n",
            "Epoch 43/100\n",
            "30/30 [==============================] - 0s 4ms/step - loss: 31534213120.0000 - mae: 163250.7188 - val_loss: 30285125632.0000 - val_mae: 162668.5312\n",
            "Epoch 44/100\n",
            "30/30 [==============================] - 0s 4ms/step - loss: 31075481600.0000 - mae: 162095.0000 - val_loss: 29849040896.0000 - val_mae: 161528.7812\n",
            "Epoch 45/100\n",
            "30/30 [==============================] - 0s 5ms/step - loss: 30613741568.0000 - mae: 160894.3750 - val_loss: 29380558848.0000 - val_mae: 160305.4062\n",
            "Epoch 46/100\n",
            "30/30 [==============================] - 0s 4ms/step - loss: 30127480832.0000 - mae: 159634.5625 - val_loss: 28908158976.0000 - val_mae: 159055.1250\n",
            "Epoch 47/100\n",
            "30/30 [==============================] - 0s 4ms/step - loss: 29639487488.0000 - mae: 158343.2188 - val_loss: 28434696192.0000 - val_mae: 157787.1406\n",
            "Epoch 48/100\n",
            "30/30 [==============================] - 0s 3ms/step - loss: 29145409536.0000 - mae: 157020.4844 - val_loss: 27931271168.0000 - val_mae: 156436.3750\n",
            "Epoch 49/100\n",
            "30/30 [==============================] - 0s 4ms/step - loss: 28626763776.0000 - mae: 155631.8750 - val_loss: 27448623104.0000 - val_mae: 155116.8281\n",
            "Epoch 50/100\n",
            "30/30 [==============================] - 0s 4ms/step - loss: 28114434048.0000 - mae: 154257.2969 - val_loss: 26935613440.0000 - val_mae: 153706.2500\n",
            "Epoch 51/100\n",
            "30/30 [==============================] - 0s 8ms/step - loss: 27585767424.0000 - mae: 152818.7969 - val_loss: 26418688000.0000 - val_mae: 152267.6875\n",
            "Epoch 52/100\n",
            "30/30 [==============================] - 0s 16ms/step - loss: 27052613632.0000 - mae: 151345.5312 - val_loss: 25891291136.0000 - val_mae: 150784.7031\n",
            "Epoch 53/100\n",
            "30/30 [==============================] - 0s 11ms/step - loss: 26513631232.0000 - mae: 149856.0156 - val_loss: 25368475648.0000 - val_mae: 149292.0156\n",
            "Epoch 54/100\n",
            "30/30 [==============================] - 0s 14ms/step - loss: 25968162816.0000 - mae: 148332.6562 - val_loss: 24843155456.0000 - val_mae: 147771.9375\n",
            "Epoch 55/100\n",
            "30/30 [==============================] - 0s 10ms/step - loss: 25420783616.0000 - mae: 146774.1875 - val_loss: 24311083008.0000 - val_mae: 146215.2344\n",
            "Epoch 56/100\n",
            "30/30 [==============================] - 0s 9ms/step - loss: 24864526336.0000 - mae: 145153.9844 - val_loss: 23748526080.0000 - val_mae: 144556.1250\n",
            "Epoch 57/100\n",
            "30/30 [==============================] - 0s 13ms/step - loss: 24301139968.0000 - mae: 143525.8906 - val_loss: 23206707200.0000 - val_mae: 142928.3281\n",
            "Epoch 58/100\n",
            "30/30 [==============================] - 0s 9ms/step - loss: 23737708544.0000 - mae: 141862.9062 - val_loss: 22657740800.0000 - val_mae: 141257.0938\n",
            "Epoch 59/100\n",
            "30/30 [==============================] - 0s 10ms/step - loss: 23178285056.0000 - mae: 140183.8438 - val_loss: 22106335232.0000 - val_mae: 139554.0781\n",
            "Epoch 60/100\n",
            "30/30 [==============================] - 0s 8ms/step - loss: 22611855360.0000 - mae: 138473.7031 - val_loss: 21553518592.0000 - val_mae: 137822.7656\n",
            "Epoch 61/100\n",
            "30/30 [==============================] - 0s 9ms/step - loss: 22044565504.0000 - mae: 136726.5625 - val_loss: 21004421120.0000 - val_mae: 136072.0938\n",
            "Epoch 62/100\n",
            "30/30 [==============================] - 0s 16ms/step - loss: 21481281536.0000 - mae: 134969.4219 - val_loss: 20456548352.0000 - val_mae: 134297.0000\n",
            "Epoch 63/100\n",
            "30/30 [==============================] - 0s 12ms/step - loss: 20911611904.0000 - mae: 133151.6719 - val_loss: 19890087936.0000 - val_mae: 132439.7500\n",
            "Epoch 64/100\n",
            "30/30 [==============================] - 0s 13ms/step - loss: 20338077696.0000 - mae: 131308.0156 - val_loss: 19339044864.0000 - val_mae: 130596.8125\n",
            "Epoch 65/100\n",
            "30/30 [==============================] - 0s 10ms/step - loss: 19780368384.0000 - mae: 129445.5234 - val_loss: 18779873280.0000 - val_mae: 128700.1641\n",
            "Epoch 66/100\n",
            "30/30 [==============================] - 0s 8ms/step - loss: 19215763456.0000 - mae: 127540.9844 - val_loss: 18227302400.0000 - val_mae: 126785.3672\n",
            "Epoch 67/100\n",
            "30/30 [==============================] - 0s 6ms/step - loss: 18654703616.0000 - mae: 125610.1016 - val_loss: 17673555968.0000 - val_mae: 124834.0938\n",
            "Epoch 68/100\n",
            "30/30 [==============================] - 0s 6ms/step - loss: 18104907776.0000 - mae: 123674.9844 - val_loss: 17136492544.0000 - val_mae: 122901.4297\n",
            "Epoch 69/100\n",
            "30/30 [==============================] - 0s 5ms/step - loss: 17562644480.0000 - mae: 121749.8828 - val_loss: 16603222016.0000 - val_mae: 120945.2422\n",
            "Epoch 70/100\n",
            "30/30 [==============================] - 0s 7ms/step - loss: 17021631488.0000 - mae: 119765.2812 - val_loss: 16071954432.0000 - val_mae: 118956.9844\n",
            "Epoch 71/100\n",
            "30/30 [==============================] - 0s 7ms/step - loss: 16493521920.0000 - mae: 117781.9453 - val_loss: 15544864768.0000 - val_mae: 116942.3359\n",
            "Epoch 72/100\n",
            "30/30 [==============================] - 0s 5ms/step - loss: 15970651136.0000 - mae: 115795.9453 - val_loss: 15039614976.0000 - val_mae: 114967.3594\n",
            "Epoch 73/100\n",
            "30/30 [==============================] - 0s 6ms/step - loss: 15461517312.0000 - mae: 113782.8516 - val_loss: 14522825728.0000 - val_mae: 112908.0156\n",
            "Epoch 74/100\n",
            "30/30 [==============================] - 0s 6ms/step - loss: 14952893440.0000 - mae: 111747.6484 - val_loss: 14024237056.0000 - val_mae: 110876.2188\n",
            "Epoch 75/100\n",
            "30/30 [==============================] - 0s 7ms/step - loss: 14447536128.0000 - mae: 109659.2891 - val_loss: 13517554688.0000 - val_mae: 108760.7969\n",
            "Epoch 76/100\n",
            "30/30 [==============================] - 0s 5ms/step - loss: 13959809024.0000 - mae: 107636.3516 - val_loss: 13042081792.0000 - val_mae: 106727.0234\n",
            "Epoch 77/100\n",
            "30/30 [==============================] - 0s 7ms/step - loss: 13484873728.0000 - mae: 105586.7734 - val_loss: 12570905600.0000 - val_mae: 104657.4609\n",
            "Epoch 78/100\n",
            "30/30 [==============================] - 0s 5ms/step - loss: 13021307904.0000 - mae: 103524.2109 - val_loss: 12112891904.0000 - val_mae: 102598.2031\n",
            "Epoch 79/100\n",
            "30/30 [==============================] - 0s 5ms/step - loss: 12566624256.0000 - mae: 101479.1016 - val_loss: 11667524608.0000 - val_mae: 100543.4219\n",
            "Epoch 80/100\n",
            "30/30 [==============================] - 0s 6ms/step - loss: 12127818752.0000 - mae: 99450.7031 - val_loss: 11229998080.0000 - val_mae: 98472.0312\n",
            "Epoch 81/100\n",
            "30/30 [==============================] - 0s 6ms/step - loss: 11699885056.0000 - mae: 97410.5938 - val_loss: 10800686080.0000 - val_mae: 96387.8359\n",
            "Epoch 82/100\n",
            "30/30 [==============================] - 0s 6ms/step - loss: 11281942528.0000 - mae: 95397.8125 - val_loss: 10384830464.0000 - val_mae: 94339.5625\n",
            "Epoch 83/100\n",
            "30/30 [==============================] - 0s 5ms/step - loss: 10881594368.0000 - mae: 93367.9219 - val_loss: 9973191680.0000 - val_mae: 92261.6641\n",
            "Epoch 84/100\n",
            "30/30 [==============================] - 0s 4ms/step - loss: 10489534464.0000 - mae: 91336.8203 - val_loss: 9578930176.0000 - val_mae: 90208.4766\n",
            "Epoch 85/100\n",
            "30/30 [==============================] - 0s 3ms/step - loss: 10105939968.0000 - mae: 89348.2578 - val_loss: 9201380352.0000 - val_mae: 88192.1641\n",
            "Epoch 86/100\n",
            "30/30 [==============================] - 0s 4ms/step - loss: 9744968704.0000 - mae: 87365.2422 - val_loss: 8835261440.0000 - val_mae: 86189.1875\n",
            "Epoch 87/100\n",
            "30/30 [==============================] - 0s 4ms/step - loss: 9397567488.0000 - mae: 85380.9844 - val_loss: 8475589632.0000 - val_mae: 84166.1719\n",
            "Epoch 88/100\n",
            "30/30 [==============================] - 0s 4ms/step - loss: 9052834816.0000 - mae: 83431.3672 - val_loss: 8134359552.0000 - val_mae: 82179.3828\n",
            "Epoch 89/100\n",
            "30/30 [==============================] - 0s 4ms/step - loss: 8728658944.0000 - mae: 81471.1641 - val_loss: 7801934848.0000 - val_mae: 80188.1250\n",
            "Epoch 90/100\n",
            "30/30 [==============================] - 0s 4ms/step - loss: 8418336256.0000 - mae: 79497.0312 - val_loss: 7477933568.0000 - val_mae: 78191.9062\n",
            "Epoch 91/100\n",
            "30/30 [==============================] - 0s 4ms/step - loss: 8112923136.0000 - mae: 77622.7891 - val_loss: 7180219904.0000 - val_mae: 76290.1875\n",
            "Epoch 92/100\n",
            "30/30 [==============================] - 0s 3ms/step - loss: 7825537536.0000 - mae: 75746.1719 - val_loss: 6888063488.0000 - val_mae: 74374.6641\n",
            "Epoch 93/100\n",
            "30/30 [==============================] - 0s 4ms/step - loss: 7554168320.0000 - mae: 73873.6250 - val_loss: 6601207296.0000 - val_mae: 72430.5547\n",
            "Epoch 94/100\n",
            "30/30 [==============================] - 0s 3ms/step - loss: 7289480704.0000 - mae: 72084.8281 - val_loss: 6339607552.0000 - val_mae: 70612.4453\n",
            "Epoch 95/100\n",
            "30/30 [==============================] - 0s 4ms/step - loss: 7040418304.0000 - mae: 70329.1641 - val_loss: 6077702656.0000 - val_mae: 68784.7891\n",
            "Epoch 96/100\n",
            "30/30 [==============================] - 0s 4ms/step - loss: 6804919808.0000 - mae: 68570.3047 - val_loss: 5837254656.0000 - val_mae: 67082.1484\n",
            "Epoch 97/100\n",
            "30/30 [==============================] - 0s 3ms/step - loss: 6582589952.0000 - mae: 66947.2422 - val_loss: 5607129088.0000 - val_mae: 65423.5117\n",
            "Epoch 98/100\n",
            "30/30 [==============================] - 0s 4ms/step - loss: 6372530176.0000 - mae: 65256.9219 - val_loss: 5379770880.0000 - val_mae: 63788.1992\n",
            "Epoch 99/100\n",
            "30/30 [==============================] - 0s 4ms/step - loss: 6167647232.0000 - mae: 63664.0703 - val_loss: 5170430464.0000 - val_mae: 62261.2539\n",
            "Epoch 100/100\n",
            "30/30 [==============================] - 0s 3ms/step - loss: 5980060160.0000 - mae: 62164.9219 - val_loss: 4964518400.0000 - val_mae: 60714.0625\n"
          ]
        },
        {
          "output_type": "execute_result",
          "data": {
            "text/plain": [
              "<keras.src.callbacks.History at 0x7836a01ffe50>"
            ]
          },
          "metadata": {},
          "execution_count": 27
        }
      ]
    },
    {
      "cell_type": "code",
      "source": [
        "# Evaluate the model\n",
        "loss, mae = model.evaluate(X_test, y_test)\n",
        "print(f'Test Mean Absolute Error: ${mae:.2f}')"
      ],
      "metadata": {
        "colab": {
          "base_uri": "https://localhost:8080/"
        },
        "id": "H-at43ZlRE1T",
        "outputId": "8b5c9824-62a9-45e0-df25-8d8c9c2e4ce7"
      },
      "execution_count": 28,
      "outputs": [
        {
          "output_type": "stream",
          "name": "stdout",
          "text": [
            "10/10 [==============================] - 0s 4ms/step - loss: 5418407424.0000 - mae: 59104.1016\n",
            "Test Mean Absolute Error: $59104.10\n"
          ]
        }
      ]
    },
    {
      "cell_type": "markdown",
      "source": [
        "# Key Differences Between Classification and Regression"
      ],
      "metadata": {
        "id": "AeiPDxlyRQAH"
      }
    },
    {
      "cell_type": "markdown",
      "source": [
        "Target Variable: In classification, the target variable is categorical (e.g., species of iris), while in regression, the target variable is continuous (e.g., house price).\n",
        "\n",
        "Output Layer: For classification, the output layer uses a softmax activation to produce probabilities for each class. For regression, the output layer has no activation or uses a linear activation to produce a continuous value.\n",
        "Loss Function: Classification models typically use categorical cross-entropy loss, while regression models use mean squared error (MSE) or mean absolute error (MAE).\n",
        "\n",
        "Evaluation Metrics: Classification models are evaluated using accuracy, precision, recall, and F1-score. Regression models are evaluated using metrics like MSE, MAE, or R-squared."
      ],
      "metadata": {
        "id": "dKTF9pkYRI7s"
      }
    },
    {
      "cell_type": "markdown",
      "source": [
        "# Problem 5"
      ],
      "metadata": {
        "id": "MvI6x4t5R1SZ"
      }
    },
    {
      "cell_type": "code",
      "source": [
        "from tensorflow.keras import layers, models\n",
        "import matplotlib.pyplot as plt"
      ],
      "metadata": {
        "id": "EZCN5HeZR1rr"
      },
      "execution_count": 36,
      "outputs": []
    },
    {
      "cell_type": "code",
      "source": [
        "# Load the MNIST dataset\n",
        "mnist = tf.keras.datasets.mnist\n",
        "(train_images, train_labels), (test_images, test_labels) = mnist.load_data()\n",
        "\n",
        "# Normalize the images to the range [0, 1]\n",
        "train_images = train_images.astype('float32') / 255.0\n",
        "test_images = test_images.astype('float32') / 255.0\n",
        "\n",
        "# Reshape the images to add a channel dimension (28, 28, 1)\n",
        "train_images = train_images.reshape((train_images.shape[0], 28, 28, 1))\n",
        "test_images = test_images.reshape((test_images.shape[0], 28, 28, 1))"
      ],
      "metadata": {
        "colab": {
          "base_uri": "https://localhost:8080/"
        },
        "id": "t8lNPm6lSEi_",
        "outputId": "673bd8dd-3aa1-4a6f-c0a1-e4d3bed840bf"
      },
      "execution_count": 31,
      "outputs": [
        {
          "output_type": "stream",
          "name": "stdout",
          "text": [
            "Downloading data from https://storage.googleapis.com/tensorflow/tf-keras-datasets/mnist.npz\n",
            "11490434/11490434 [==============================] - 1s 0us/step\n"
          ]
        }
      ]
    },
    {
      "cell_type": "code",
      "source": [
        "# Define the model\n",
        "model = models.Sequential([\n",
        "    layers.Flatten(input_shape=(28, 28, 1)),  # Flatten the input\n",
        "    layers.Dense(128, activation='relu'),     # Hidden layer with ReLU activation\n",
        "    layers.Dense(10, activation='softmax')    # Output layer with softmax activation for 10 classes\n",
        "])\n",
        "\n",
        "# Compile the model\n",
        "model.compile(optimizer='adam',\n",
        "              loss='sparse_categorical_crossentropy',  # Loss function for multi-class classification\n",
        "              metrics=['accuracy'])"
      ],
      "metadata": {
        "id": "Kr3yWe1qSIoA"
      },
      "execution_count": 32,
      "outputs": []
    },
    {
      "cell_type": "code",
      "source": [
        "# Train the model\n",
        "model.fit(train_images, train_labels, epochs=5, batch_size=32, validation_split=0.2)"
      ],
      "metadata": {
        "colab": {
          "base_uri": "https://localhost:8080/"
        },
        "id": "mFnPBMpCSL1v",
        "outputId": "7579badc-e1c6-4f0a-b438-9ce35f734b3d"
      },
      "execution_count": 33,
      "outputs": [
        {
          "output_type": "stream",
          "name": "stdout",
          "text": [
            "Epoch 1/5\n",
            "1500/1500 [==============================] - 9s 6ms/step - loss: 0.2878 - accuracy: 0.9184 - val_loss: 0.1606 - val_accuracy: 0.9562\n",
            "Epoch 2/5\n",
            "1500/1500 [==============================] - 6s 4ms/step - loss: 0.1280 - accuracy: 0.9619 - val_loss: 0.1121 - val_accuracy: 0.9678\n",
            "Epoch 3/5\n",
            "1500/1500 [==============================] - 8s 6ms/step - loss: 0.0857 - accuracy: 0.9752 - val_loss: 0.0992 - val_accuracy: 0.9698\n",
            "Epoch 4/5\n",
            "1500/1500 [==============================] - 6s 4ms/step - loss: 0.0645 - accuracy: 0.9810 - val_loss: 0.0955 - val_accuracy: 0.9728\n",
            "Epoch 5/5\n",
            "1500/1500 [==============================] - 10s 7ms/step - loss: 0.0488 - accuracy: 0.9853 - val_loss: 0.0880 - val_accuracy: 0.9746\n"
          ]
        },
        {
          "output_type": "execute_result",
          "data": {
            "text/plain": [
              "<keras.src.callbacks.History at 0x783691f7e440>"
            ]
          },
          "metadata": {},
          "execution_count": 33
        }
      ]
    },
    {
      "cell_type": "code",
      "source": [
        "# Evaluate the model\n",
        "test_loss, test_accuracy = model.evaluate(test_images, test_labels)\n",
        "print(f'Test accuracy: {test_accuracy:.4f}')"
      ],
      "metadata": {
        "colab": {
          "base_uri": "https://localhost:8080/"
        },
        "id": "4UL1haS0SU6z",
        "outputId": "a15241a6-df5d-4b60-ea76-eb5914602328"
      },
      "execution_count": 34,
      "outputs": [
        {
          "output_type": "stream",
          "name": "stdout",
          "text": [
            "313/313 [==============================] - 2s 5ms/step - loss: 0.0761 - accuracy: 0.9756\n",
            "Test accuracy: 0.9756\n"
          ]
        }
      ]
    },
    {
      "cell_type": "code",
      "source": [
        "# Make predictions\n",
        "predictions = model.predict(test_images)\n",
        "\n",
        "# Display the first 5 test images and their predicted labels\n",
        "for i in range(5):\n",
        "    plt.imshow(test_images[i].reshape(28, 28), cmap='gray')\n",
        "    plt.title(f'Predicted: {np.argmax(predictions[i])}, Actual: {test_labels[i]}')\n",
        "    plt.axis('off')\n",
        "    plt.show()"
      ],
      "metadata": {
        "colab": {
          "base_uri": "https://localhost:8080/",
          "height": 1000
        },
        "id": "gvuZ797sSadX",
        "outputId": "b90419aa-19d6-42d9-b096-61bcc4eee322"
      },
      "execution_count": 37,
      "outputs": [
        {
          "output_type": "stream",
          "name": "stdout",
          "text": [
            "313/313 [==============================] - 1s 4ms/step\n"
          ]
        },
        {
          "output_type": "display_data",
          "data": {
            "text/plain": [
              "<Figure size 640x480 with 1 Axes>"
            ],
            "image/png": "[encoded data removed]"
          },
          "metadata": {}
        },
        {
          "output_type": "display_data",
          "data": {
            "text/plain": [
              "<Figure size 640x480 with 1 Axes>"
            ],
            "image/png": "[encoded data removed]"
          },
          "metadata": {}
        },
        {
          "output_type": "display_data",
          "data": {
            "text/plain": [
              "<Figure size 640x480 with 1 Axes>"
            ],
            "image/png": "[encoded data removed]"
          },
          "metadata": {}
        },
        {
          "output_type": "display_data",
          "data": {
            "text/plain": [
              "<Figure size 640x480 with 1 Axes>"
            ],
            "image/png": "[encoded data removed]"
          },
          "metadata": {}
        },
        {
          "output_type": "display_data",
          "data": {
            "text/plain": [
              "<Figure size 640x480 with 1 Axes>"
            ],
            "image/png": "[encoded data removed]"
          },
          "metadata": {}
        }
      ]
    }
  ]
}