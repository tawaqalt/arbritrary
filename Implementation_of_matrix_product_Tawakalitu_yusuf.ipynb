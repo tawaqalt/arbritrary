{
  "nbformat": 4,
  "nbformat_minor": 0,
  "metadata": {
    "colab": {
      "provenance": [],
      "authorship_tag": "ABX9TyNY1gPozZY+xKh2FDHrHyiK",
      "include_colab_link": true
    },
    "kernelspec": {
      "name": "python3",
      "display_name": "Python 3"
    },
    "language_info": {
      "name": "python"
    }
  },
  "cells": [
    {
      "cell_type": "markdown",
      "metadata": {
        "id": "view-in-github",
        "colab_type": "text"
      },
      "source": [
        "<a href=\"https://colab.research.google.com/github/tawaqalt/arbritrary/blob/master/Implementation_of_matrix_product_Tawakalitu_yusuf.ipynb\" target=\"_parent\"><img src=\"https://colab.research.google.com/assets/colab-badge.svg\" alt=\"Open In Colab\"/></a>"
      ]
    },
    {
      "cell_type": "markdown",
      "source": [
        "## **Problem 1** is done manually by hand"
      ],
      "metadata": {
        "id": "2PdCPyOecPeu"
      }
    },
    {
      "cell_type": "markdown",
      "source": [
        "$$A = \\begin{bmatrix} -1 & 2 & 3 \\\\ 4 & -5 & 6 \\\\ 7 & 8 & -9 \\end{bmatrix}$$, $$B = \\begin{bmatrix} 0 & 2 & 1 \\\\ 0 & 2 & -8 \\\\ 2 & 9 & 8 \\end{bmatrix}$$,\n",
        "$$AB =\\begin{bmatrix} 0+0+6 & -2+4+27 & -1-16-3 \\\\ 0+0+12 & 8-10+54 & 4+40-6 \\\\ 0+0-18 & 14+16-81 & 7-64+9 \\end{bmatrix}$$,\n",
        "$$BA = \\begin{bmatrix} 6 & 29 & -20 \\\\ 12 & 52 & 38 \\\\ -18 & -51 & -48\\end{bmatrix}$$\n"
      ],
      "metadata": {
        "id": "_tKK25v5dQtf"
      }
    },
    {
      "cell_type": "markdown",
      "source": [
        "## **Problem 2**"
      ],
      "metadata": {
        "id": "nQH3lVlLcZvU"
      }
    },
    {
      "cell_type": "code",
      "source": [
        "import numpy as np\n",
        "a_ndarray = np.array([[-1, 2, 3], [4, -5, 6], [7, 8, -9]])\n",
        "b_ndarray = np.array([[0, 2, 1], [0, 2, -8], [2, 9, -1]])\n",
        "new_array = np.matmul(a_ndarray, b_ndarray)\n",
        "print(new_array)"
      ],
      "metadata": {
        "colab": {
          "base_uri": "https://localhost:8080/"
        },
        "id": "BMETEKGf2IU5",
        "outputId": "34bc87c7-dcf4-445c-c7d5-d82bc5f49330"
      },
      "execution_count": null,
      "outputs": [
        {
          "output_type": "stream",
          "name": "stdout",
          "text": [
            "[[  6  29 -20]\n",
            " [ 12  52  38]\n",
            " [-18 -51 -48]]\n"
          ]
        }
      ]
    },
    {
      "cell_type": "markdown",
      "source": [
        "## **Problem 3**"
      ],
      "metadata": {
        "id": "ygVIXoYxcjb8"
      }
    },
    {
      "cell_type": "code",
      "source": [
        "import numpy as np\n",
        "#Using matmul operator\n",
        "D = [a_ndarray[0,:] * b_ndarray[:,0], a_ndarray[0,:] * b_ndarray[:,1], a_ndarray[0,:] * b_ndarray[:,2]]\n",
        "E = [a_ndarray[1,:] * b_ndarray[:,0], a_ndarray[1,:] * b_ndarray[:,1], a_ndarray[1,:] * b_ndarray[:,2]]\n",
        "F = [a_ndarray[2,:] * b_ndarray[:,0], a_ndarray[2,:] * b_ndarray[:,1], a_ndarray[2,:] * b_ndarray[:,2]]\n",
        "D = np.sum(D,axis=1)\n",
        "E = np.sum(E,axis=1)\n",
        "F = np.sum(F,axis=1)\n",
        "new_array = np.array([D, E, F])\n",
        "print(\"\\nUsing matmul function:\")\n",
        "print(new_array)\n",
        "\n",
        "#using the dot operator\n",
        "a_ndarray = np.array([[-1, 2, 3], [4, -5, 6], [7, 8, -9]])\n",
        "b_ndarray = np.array([[0, 2, 1], [0, 2, -8], [2, 9, -1]])\n",
        "new_array1 = np.dot(a_ndarray, b_ndarray)\n",
        "print(\"\\nUsing dot function:\")\n",
        "print(new_array1)\n",
        "\n",
        "#using the @ operator\n",
        "a_ndarray = np.array([[-1, 2, 3], [4, -5, 6], [7, 8, -9]])\n",
        "b_ndarray = np.array([[0, 2, 1], [0, 2, -8], [2, 9, -1]])\n",
        "new_array2 = a_ndarray @ b_ndarray\n",
        "print(\"\\nUsing @ operator:\")\n",
        "print(new_array2)\n"
      ],
      "metadata": {
        "id": "XxcAeIjGSHRI",
        "colab": {
          "base_uri": "https://localhost:8080/"
        },
        "outputId": "5ff0953d-fd69-46ef-9de5-87a8a48aea2e"
      },
      "execution_count": null,
      "outputs": [
        {
          "output_type": "stream",
          "name": "stdout",
          "text": [
            "\n",
            "Using matmul function:\n",
            "[[  6  29 -20]\n",
            " [ 12  52  38]\n",
            " [-18 -51 -48]]\n",
            "\n",
            "Using dot function:\n",
            "[[  6  29 -20]\n",
            " [ 12  52  38]\n",
            " [-18 -51 -48]]\n",
            "\n",
            "Using @ operator:\n",
            "[[  6  29 -20]\n",
            " [ 12  52  38]\n",
            " [-18 -51 -48]]\n"
          ]
        }
      ]
    },
    {
      "cell_type": "code",
      "source": [
        "def product_of_matrix(a,b):\n",
        "  matrix_ab = np.empty([3,3])\n",
        "  for row1 in range(a.shape[0]):\n",
        "    for col1 in range(b.shape[1]):\n",
        "        matrix_ab[row1, col1] = sum(a[row1,:] * b[:, col1])\n",
        "  return matrix_ab\n",
        "print(product_of_matrix(a_ndarray,b_ndarray))"
      ],
      "metadata": {
        "colab": {
          "base_uri": "https://localhost:8080/"
        },
        "id": "jC4OsNANlAw_",
        "outputId": "8d61ba41-a507-4b95-a0e4-508987b0a5a9"
      },
      "execution_count": null,
      "outputs": [
        {
          "output_type": "stream",
          "name": "stdout",
          "text": [
            "[[  6.  29. -20.]\n",
            " [ 12.  52.  38.]\n",
            " [-18. -51. -48.]]\n"
          ]
        }
      ]
    },
    {
      "cell_type": "code",
      "source": [
        "#Using the if statement to compare two arrays\n",
        "import numpy as np\n",
        "d_ndarray = np.array([[-1, 2, 3], [4, -5, 6]])\n",
        "e_ndarray = np.array([[-9, 8, 7], [6, -5, 4]])\n",
        "if np.array_equal(d_ndarray, e_ndarray):\n",
        "  print(\"The two arrays are equal\")\n",
        "else:\n",
        "  print(\"The two arrays are not equal\")"
      ],
      "metadata": {
        "colab": {
          "base_uri": "https://localhost:8080/"
        },
        "id": "gPddtG9poKsd",
        "outputId": "2608e625-76b1-41be-b3a3-aae5805ea46b"
      },
      "execution_count": null,
      "outputs": [
        {
          "output_type": "stream",
          "name": "stdout",
          "text": [
            "The two arrays are not equal\n"
          ]
        }
      ]
    },
    {
      "cell_type": "code",
      "source": [
        "#the transpose of the matrix\n",
        "tr_array = np.transpose(d_ndarray)\n",
        "print(product_of_matrix(tr_array,e_ndarray))"
      ],
      "metadata": {
        "colab": {
          "base_uri": "https://localhost:8080/"
        },
        "id": "3LhlNEBvMTcU",
        "outputId": "b74c8975-47a7-4f1f-b1da-2bd08d95643d"
      },
      "execution_count": 79,
      "outputs": [
        {
          "output_type": "stream",
          "name": "stdout",
          "text": [
            "[[ 33. -28.   9.]\n",
            " [-48.  41.  -6.]\n",
            " [  9.  -6.  45.]]\n"
          ]
        }
      ]
    }
  ]
}