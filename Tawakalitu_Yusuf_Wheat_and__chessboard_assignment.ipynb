{
  "nbformat": 4,
  "nbformat_minor": 0,
  "metadata": {
    "colab": {
      "provenance": [],
      "authorship_tag": "ABX9TyNGVMKDhfmAOcbNxfmUfHgY",
      "include_colab_link": true
    },
    "kernelspec": {
      "name": "python3",
      "display_name": "Python 3"
    },
    "language_info": {
      "name": "python"
    }
  },
  "cells": [
    {
      "cell_type": "markdown",
      "metadata": {
        "id": "view-in-github",
        "colab_type": "text"
      },
      "source": [
        "<a href=\"https://colab.research.google.com/github/tawaqalt/arbritrary/blob/master/Tawakalitu_Yusuf_Wheat_and__chessboard_assignment.ipynb\" target=\"_parent\"><img src=\"https://colab.research.google.com/assets/colab-badge.svg\" alt=\"Open In Colab\"/></a>"
      ]
    },
    {
      "cell_type": "markdown",
      "source": [
        "# **Problem 1**"
      ],
      "metadata": {
        "id": "B6_cfQUS-7FY"
      }
    },
    {
      "cell_type": "code",
      "source": [
        "import numpy as np\n",
        "#create a 2*2 square chess board\n",
        "chessboard = np.array([[1,2],[4,8]])\n",
        "\n",
        "#Display the chessboard\n",
        "print(\"OriginalChessboard: {} \".format(chessboard))\n",
        "\n",
        "#Number of wheat in each square\n",
        "number_of_wheat = np.sum(chessboard, axis=1)\n",
        "print(\"Number of wheat in each square:{} \".format(number_of_wheat))\n",
        "\n"
      ],
      "metadata": {
        "colab": {
          "base_uri": "https://localhost:8080/"
        },
        "id": "r4px9GSSCTLX",
        "outputId": "8ac4df06-32d2-40e7-c1bb-b35a92d8c830"
      },
      "execution_count": 7,
      "outputs": [
        {
          "output_type": "stream",
          "name": "stdout",
          "text": [
            "OriginalChessboard: [[1 2]\n",
            " [4 8]] \n",
            "Number of wheat in each square:[ 3 12] \n"
          ]
        }
      ]
    },
    {
      "cell_type": "markdown",
      "source": [
        "## **Problem 2**"
      ],
      "metadata": {
        "id": "BkrEoTKWvTkw"
      }
    },
    {
      "cell_type": "code",
      "source": [
        "import numpy as np\n",
        "\n",
        "def wheat_on_chessboard(n, m):\n",
        "    chessboard = n * m\n",
        "    indices = np.arange(chessboard)\n",
        "    chessboard_list = 2 ** indices\n",
        "    return chessboard_list.reshape(n, m).astype(np.uint64)\n",
        "\n",
        "print(\"Number of Wheat on an 8x8 chessboard:\")\n",
        "print(wheat_on_chessboard(8, 8))"
      ],
      "metadata": {
        "colab": {
          "base_uri": "https://localhost:8080/"
        },
        "id": "vJlzvZ0DHlxD",
        "outputId": "bb2a4aff-61af-4828-e3d0-86696dc75070"
      },
      "execution_count": 32,
      "outputs": [
        {
          "output_type": "stream",
          "name": "stdout",
          "text": [
            "Number of Wheat on an 8x8 chessboard:\n",
            "[[                  1                   2                   4\n",
            "                    8                  16                  32\n",
            "                   64                 128]\n",
            " [                256                 512                1024\n",
            "                 2048                4096                8192\n",
            "                16384               32768]\n",
            " [              65536              131072              262144\n",
            "               524288             1048576             2097152\n",
            "              4194304             8388608]\n",
            " [           16777216            33554432            67108864\n",
            "            134217728           268435456           536870912\n",
            "           1073741824          2147483648]\n",
            " [         4294967296          8589934592         17179869184\n",
            "          34359738368         68719476736        137438953472\n",
            "         274877906944        549755813888]\n",
            " [      1099511627776       2199023255552       4398046511104\n",
            "        8796093022208      17592186044416      35184372088832\n",
            "       70368744177664     140737488355328]\n",
            " [    281474976710656     562949953421312    1125899906842624\n",
            "     2251799813685248    4503599627370496    9007199254740992\n",
            "    18014398509481984   36028797018963968]\n",
            " [  72057594037927936  144115188075855872  288230376151711744\n",
            "   576460752303423488 1152921504606846976 2305843009213693952\n",
            "  4611686018427387904 9223372036854775808]]\n"
          ]
        }
      ]
    },
    {
      "cell_type": "markdown",
      "source": [
        "### **Problem 3**"
      ],
      "metadata": {
        "id": "AQzryRFBvdSf"
      }
    },
    {
      "cell_type": "code",
      "source": [
        "import numpy as np\n",
        "#Total Number of Wheat on an 8x8 chessboard\n",
        "print(\"\\nTotal Number of Wheat on an 8x8 chessboard:\")\n",
        "print(np.sum(wheat_on_chessboard(8, 8)))\n",
        "\n",
        "#Average of each column in an 8x8 chessboard\n",
        "print(\"\\nAverage of each column in an 8x8 Chessboard:\")\n",
        "total_wheat_8x8 = np.array(wheat_on_chessboard(8, 8))\n",
        "print(np.average(total_wheat_8x8, axis=0))\n",
        "\n",
        "import matplotlib.pyplot as plt\n",
        "%matplotlib inline\n",
        "\n",
        "\n",
        "plt.xlabel(\"Row\")\n",
        "plt.ylabel(\"Column\")\n",
        "plt.title(\"Average of each column in an 8x8 Chessboard\")\n",
        "plt.bar(range(8), np.average(total_wheat_8x8, axis=0))\n",
        "plt.show()"
      ],
      "metadata": {
        "colab": {
          "base_uri": "https://localhost:8080/",
          "height": 594
        },
        "id": "c0eqJVJ0plhK",
        "outputId": "e01e86ba-104c-4845-f9c4-6397f5112b9b"
      },
      "execution_count": 34,
      "outputs": [
        {
          "output_type": "stream",
          "name": "stdout",
          "text": [
            "\n",
            "Total Number of Wheat on an 8x8 chessboard:\n",
            "18446744073709551615\n",
            "\n",
            "Average of each column in an 8x8 Chessboard:\n",
            "[9.04252160e+15 1.80850432e+16 3.61700864e+16 7.23401728e+16\n",
            " 1.44680346e+17 2.89360691e+17 5.78721383e+17 1.15744277e+18]\n"
          ]
        },
        {
          "output_type": "display_data",
          "data": {
            "text/plain": [
              "<Figure size 640x480 with 1 Axes>"
            ],
            "image/png": "[encoded data removed]"
          },
          "metadata": {}
        }
      ]
    },
    {
      "cell_type": "markdown",
      "source": [
        "### **Problem 4**"
      ],
      "metadata": {
        "id": "CQ5zihSmvm0H"
      }
    },
    {
      "cell_type": "code",
      "source": [
        "plt.xlabel(\"Row\")\n",
        "plt.ylabel(\"Column\")\n",
        "plt.title(\"Heatmap of an 8x8 Chessboard\")\n",
        "plt.pcolor(np.array(wheat_on_chessboard(8, 8)).reshape(n, m))\n",
        "plt.show()"
      ],
      "metadata": {
        "colab": {
          "base_uri": "https://localhost:8080/",
          "height": 472
        },
        "id": "CxZqwyMosdQC",
        "outputId": "70f95748-f996-44c7-8a78-c2fe41346a56"
      },
      "execution_count": 35,
      "outputs": [
        {
          "output_type": "display_data",
          "data": {
            "text/plain": [
              "<Figure size 640x480 with 1 Axes>"
            ],
            "image/png": "[encoded data removed]"
          },
          "metadata": {}
        }
      ]
    },
    {
      "cell_type": "markdown",
      "source": [
        "### **Problem 5**"
      ],
      "metadata": {
        "id": "QREk6gaoyILF"
      }
    },
    {
      "cell_type": "code",
      "source": [
        "#Number of wheat in the first half and second half of the chessboard\n",
        "print(\"Number of wheat in the second half of the chessboard:\")\n",
        "first_half = wheat_on_chessboard(8, 8)[0:4, :]\n",
        "second_half = wheat_on_chessboard(8, 8)[4:, :]\n",
        "\n",
        "print(\"\\nNumber of wheat in the First half of the chessboard:\")\n",
        "print(first_half)\n",
        "\n",
        "print(\"\\nNumber of wheat in the Second half of the chessboard:\")\n",
        "print(second_half)\n",
        "\n",
        "sum_first_half = np.sum(first_half)\n",
        "sum_second_half = np.sum(second_half)\n",
        "\n",
        "print(\"\\nTotal Number of Wheat in the First half of the chessboard:\")\n",
        "print(sum_first_half)\n",
        "\n",
        "print(\"\\nTotal Number of Wheat in the Second half of the chessboard:\")\n",
        "print(sum_second_half)\n",
        "\n",
        "print(\"\\nThe second is greater than the first half by:\")\n",
        "print(sum_second_half - sum_first_half)"
      ],
      "metadata": {
        "colab": {
          "base_uri": "https://localhost:8080/"
        },
        "id": "W40JmmY4trcq",
        "outputId": "03d79d3e-0fca-4f69-e08f-defba1e97405"
      },
      "execution_count": 38,
      "outputs": [
        {
          "output_type": "stream",
          "name": "stdout",
          "text": [
            "Number of wheat in the second half of the chessboard:\n",
            "\n",
            "Number of wheat in the First half of the chessboard:\n",
            "[[         1          2          4          8         16         32\n",
            "          64        128]\n",
            " [       256        512       1024       2048       4096       8192\n",
            "       16384      32768]\n",
            " [     65536     131072     262144     524288    1048576    2097152\n",
            "     4194304    8388608]\n",
            " [  16777216   33554432   67108864  134217728  268435456  536870912\n",
            "  1073741824 2147483648]]\n",
            "\n",
            "Number of wheat in the Second half of the chessboard:\n",
            "[[         4294967296          8589934592         17179869184\n",
            "          34359738368         68719476736        137438953472\n",
            "         274877906944        549755813888]\n",
            " [      1099511627776       2199023255552       4398046511104\n",
            "        8796093022208      17592186044416      35184372088832\n",
            "       70368744177664     140737488355328]\n",
            " [    281474976710656     562949953421312    1125899906842624\n",
            "     2251799813685248    4503599627370496    9007199254740992\n",
            "    18014398509481984   36028797018963968]\n",
            " [  72057594037927936  144115188075855872  288230376151711744\n",
            "   576460752303423488 1152921504606846976 2305843009213693952\n",
            "  4611686018427387904 9223372036854775808]]\n",
            "\n",
            "Total Number of Wheat in the First half of the chessboard:\n",
            "4294967295\n",
            "\n",
            "Total Number of Wheat in the Second half of the chessboard:\n",
            "18446744069414584320\n",
            "\n",
            "The second is greater than the first half by:\n",
            "18446744065119617025\n"
          ]
        }
      ]
    },
    {
      "cell_type": "markdown",
      "source": [
        "# **Problem 6**"
      ],
      "metadata": {
        "id": "DWL1H0tEBh7a"
      }
    },
    {
      "cell_type": "markdown",
      "source": [
        "##Using np.append()"
      ],
      "metadata": {
        "id": "69OCM5SRB1Cw"
      }
    },
    {
      "cell_type": "code",
      "source": [
        "import numpy as np\n",
        "\n",
        "def wheat_on_chessboard_append(n, m):\n",
        "    chessboard = np.array([1], dtype=np.uint64)  # Start with the first wheat grain\n",
        "\n",
        "    for _ in range(1, n * m):\n",
        "        chessboard = np.append(chessboard, 2 * chessboard[-1])\n",
        "\n",
        "    chessboard = chessboard.reshape((n, m))\n",
        "    total_wheat_per_row = np.sum(chessboard, axis=1)\n",
        "\n",
        "    return chessboard, total_wheat_per_row\n",
        "\n",
        "#Finding the number of wheat on an 8x8 chessboard using np.append()\n",
        "n, m = 8, 8\n",
        "chessboard_append_8x8, total_wheat_append_8x8 = wheat_on_chessboard_append(n, m)\n",
        "\n",
        "# Display the chessboard and total wheat in each row for the 8x8 chessboard using np.append()\n",
        "print(f\"{n}x{m} Chessboard (using np.append()):\")\n",
        "print(chessboard_append_8x8)\n",
        "\n",
        "print(\"\\nTotal Wheat in Each Row:\")\n",
        "print(total_wheat_append_8x8)\n",
        "\n",
        "print(\"\\nTotal Number of Wheat on an 8x8 chessboard:\")\n",
        "print(np.sum(total_wheat_append_8x8))"
      ],
      "metadata": {
        "id": "5dMCHSz7xZgL",
        "colab": {
          "base_uri": "https://localhost:8080/"
        },
        "outputId": "6a5a91e1-6174-4a96-a5cf-34b492864cab"
      },
      "execution_count": 41,
      "outputs": [
        {
          "output_type": "stream",
          "name": "stdout",
          "text": [
            "8x8 Chessboard (using np.append()):\n",
            "[[1.00000000e+00 2.00000000e+00 4.00000000e+00 8.00000000e+00\n",
            "  1.60000000e+01 3.20000000e+01 6.40000000e+01 1.28000000e+02]\n",
            " [2.56000000e+02 5.12000000e+02 1.02400000e+03 2.04800000e+03\n",
            "  4.09600000e+03 8.19200000e+03 1.63840000e+04 3.27680000e+04]\n",
            " [6.55360000e+04 1.31072000e+05 2.62144000e+05 5.24288000e+05\n",
            "  1.04857600e+06 2.09715200e+06 4.19430400e+06 8.38860800e+06]\n",
            " [1.67772160e+07 3.35544320e+07 6.71088640e+07 1.34217728e+08\n",
            "  2.68435456e+08 5.36870912e+08 1.07374182e+09 2.14748365e+09]\n",
            " [4.29496730e+09 8.58993459e+09 1.71798692e+10 3.43597384e+10\n",
            "  6.87194767e+10 1.37438953e+11 2.74877907e+11 5.49755814e+11]\n",
            " [1.09951163e+12 2.19902326e+12 4.39804651e+12 8.79609302e+12\n",
            "  1.75921860e+13 3.51843721e+13 7.03687442e+13 1.40737488e+14]\n",
            " [2.81474977e+14 5.62949953e+14 1.12589991e+15 2.25179981e+15\n",
            "  4.50359963e+15 9.00719925e+15 1.80143985e+16 3.60287970e+16]\n",
            " [7.20575940e+16 1.44115188e+17 2.88230376e+17 5.76460752e+17\n",
            "  1.15292150e+18 2.30584301e+18 4.61168602e+18 9.22337204e+18]]\n",
            "\n",
            "Total Wheat in Each Row:\n",
            "[2.55000000e+02 6.52800000e+04 1.67116800e+07 4.27819008e+09\n",
            " 1.09521666e+12 2.80375465e+14 7.17761191e+16 1.83746865e+19]\n",
            "\n",
            "Total Number of Wheat on an 8x8 chessboard:\n",
            "1.8446744073709552e+19\n"
          ]
        }
      ]
    },
    {
      "cell_type": "markdown",
      "source": [
        "Uising Broadcasting"
      ],
      "metadata": {
        "id": "-BV2sRQ_rln4"
      }
    },
    {
      "cell_type": "code",
      "source": [
        "import numpy as np\n",
        "\n",
        "def wheat_on_chessboard_broadcast(n, m):\n",
        "    indices = np.arange(n * m)\n",
        "    powers_of_2 = 2 ** indices\n",
        "\n",
        "    chessboard = powers_of_2.reshape((n, m))\n",
        "    total_wheat_per_row = np.sum(chessboard, axis=1)\n",
        "\n",
        "    return chessboard, total_wheat_per_row\n",
        "\n",
        "#Find the number of wheat on an 8x8 chessboard using broadcasting\n",
        "n, m = 8, 8\n",
        "chessboard_broadcast_8x8, total_wheat_broadcast_8x8 = wheat_on_chessboard_broadcast(n, m)\n",
        "\n",
        "# Display the chessboard and total wheat in each row for the 8x8 chessboard using broadcasting\n",
        "print(f\"{n}x{m} Chessboard (using broadcasting):\")\n",
        "print(chessboard_broadcast_8x8)\n",
        "\n",
        "print(\"\\nTotal Wheat in Each Row:\")\n",
        "print(total_wheat_broadcast_8x8)\n",
        "\n",
        "print(\"\\nTotal Number of Wheat on an 8x8 chessboard: {}\".format((total_wheat_broadcast_8x8).sum()))"
      ],
      "metadata": {
        "colab": {
          "base_uri": "https://localhost:8080/"
        },
        "id": "dxyrjhd9COXu",
        "outputId": "5b290688-1889-4543-966d-a895a3e2e549"
      },
      "execution_count": 45,
      "outputs": [
        {
          "output_type": "stream",
          "name": "stdout",
          "text": [
            "8x8 Chessboard (using broadcasting):\n",
            "[[                   1                    2                    4\n",
            "                     8                   16                   32\n",
            "                    64                  128]\n",
            " [                 256                  512                 1024\n",
            "                  2048                 4096                 8192\n",
            "                 16384                32768]\n",
            " [               65536               131072               262144\n",
            "                524288              1048576              2097152\n",
            "               4194304              8388608]\n",
            " [            16777216             33554432             67108864\n",
            "             134217728            268435456            536870912\n",
            "            1073741824           2147483648]\n",
            " [          4294967296           8589934592          17179869184\n",
            "           34359738368          68719476736         137438953472\n",
            "          274877906944         549755813888]\n",
            " [       1099511627776        2199023255552        4398046511104\n",
            "         8796093022208       17592186044416       35184372088832\n",
            "        70368744177664      140737488355328]\n",
            " [     281474976710656      562949953421312     1125899906842624\n",
            "      2251799813685248     4503599627370496     9007199254740992\n",
            "     18014398509481984    36028797018963968]\n",
            " [   72057594037927936   144115188075855872   288230376151711744\n",
            "    576460752303423488  1152921504606846976  2305843009213693952\n",
            "   4611686018427387904 -9223372036854775808]]\n",
            "\n",
            "Total Wheat in Each Row:\n",
            "[               255              65280           16711680\n",
            "         4278190080      1095216660480    280375465082880\n",
            "  71776119061217280 -72057594037927936]\n",
            "\n",
            "Total Number of Wheat on an 8x8 chessboard: -1\n"
          ]
        }
      ]
    },
    {
      "cell_type": "markdown",
      "source": [
        "Using Normal Codes"
      ],
      "metadata": {
        "id": "FvDPJWbBG1r4"
      }
    },
    {
      "cell_type": "code",
      "source": [
        "%%timeit\n",
        "n, m = 8, 8\n",
        "wheat_on_chessboard(n, m)"
      ],
      "metadata": {
        "colab": {
          "base_uri": "https://localhost:8080/"
        },
        "id": "8Ah2peGGDL4-",
        "outputId": "c1d6de12-7ff6-4e18-cf6a-acb04a6d1273"
      },
      "execution_count": 39,
      "outputs": [
        {
          "output_type": "stream",
          "name": "stdout",
          "text": [
            "4.49 µs ± 219 ns per loop (mean ± std. dev. of 7 runs, 100000 loops each)\n"
          ]
        }
      ]
    },
    {
      "cell_type": "markdown",
      "source": [
        "Using append"
      ],
      "metadata": {
        "id": "9ZSddV5rHH6-"
      }
    },
    {
      "cell_type": "code",
      "source": [
        "%%timeit\n",
        "n, m = 8, 8\n",
        "wheat_on_chessboard_append(n, m)\n"
      ],
      "metadata": {
        "colab": {
          "base_uri": "https://localhost:8080/"
        },
        "id": "rwY7S5K3HLE1",
        "outputId": "fdccfd8c-819f-42b5-babc-983eaec15951"
      },
      "execution_count": 43,
      "outputs": [
        {
          "output_type": "stream",
          "name": "stdout",
          "text": [
            "386 µs ± 23.9 µs per loop (mean ± std. dev. of 7 runs, 1000 loops each)\n"
          ]
        }
      ]
    },
    {
      "cell_type": "markdown",
      "source": [
        "Using Broadcasting"
      ],
      "metadata": {
        "id": "bQbb_qL0HQ6G"
      }
    },
    {
      "cell_type": "code",
      "source": [
        "%%timeit\n",
        "n, m = 8, 8\n",
        "wheat_on_chessboard_broadcast(n, m)"
      ],
      "metadata": {
        "colab": {
          "base_uri": "https://localhost:8080/"
        },
        "id": "fPNHqlMtHUoy",
        "outputId": "3a0a816b-5aec-4092-dae2-014e67e4801a"
      },
      "execution_count": null,
      "outputs": [
        {
          "output_type": "stream",
          "name": "stdout",
          "text": [
            "13.2 µs ± 2.53 µs per loop (mean ± std. dev. of 7 runs, 100000 loops each)\n"
          ]
        }
      ]
    }
  ]
}