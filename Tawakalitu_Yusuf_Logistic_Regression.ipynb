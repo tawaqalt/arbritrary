{
  "nbformat": 4,
  "nbformat_minor": 0,
  "metadata": {
    "colab": {
      "provenance": [],
      "authorship_tag": "ABX9TyPnbGQBI1S7tds9YuqlQ7PF",
      "include_colab_link": true
    },
    "kernelspec": {
      "name": "python3",
      "display_name": "Python 3"
    },
    "language_info": {
      "name": "python"
    }
  },
  "cells": [
    {
      "cell_type": "markdown",
      "metadata": {
        "id": "view-in-github",
        "colab_type": "text"
      },
      "source": [
        "<a href=\"https://colab.research.google.com/github/tawaqalt/arbritrary/blob/master/Tawakalitu_Yusuf_Logistic_Regression.ipynb\" target=\"_parent\"><img src=\"https://colab.research.google.com/assets/colab-badge.svg\" alt=\"Open In Colab\"/></a>"
      ]
    },
    {
      "cell_type": "markdown",
      "source": [
        "Importing Libraries"
      ],
      "metadata": {
        "id": "oGLcjsZboviB"
      }
    },
    {
      "cell_type": "code",
      "execution_count": 1,
      "metadata": {
        "id": "HgZ8a2p7oq3Z"
      },
      "outputs": [],
      "source": [
        "import numpy as np\n",
        "import pandas as pd\n",
        "import matplotlib.pyplot as plt\n",
        "import seaborn as sns"
      ]
    },
    {
      "cell_type": "markdown",
      "source": [
        "# Implememtation of the Scratch Logistic Regression"
      ],
      "metadata": {
        "id": "sYH1DoWNqJjn"
      }
    },
    {
      "cell_type": "code",
      "source": [
        "import numpy as np\n",
        "\n",
        "class ScratchLogisticRegression():\n",
        "    def __init__(self, num_iter, lr, bias=True, verbose=False, lambda_val=0):\n",
        "        self.iter = num_iter\n",
        "        self.lr = lr\n",
        "        self.bias = bias\n",
        "        self.verbose = verbose\n",
        "        self.lambda_val = lambda_val\n",
        "        self.coef_ = None\n",
        "        self.loss = []\n",
        "        self.val_loss = []  # Add initialization for val_loss\n",
        "\n",
        "    def _sigmoid(self, z):\n",
        "        return 1 / (1 + np.exp(-z))\n",
        "\n",
        "    def _hypothesis(self, X):\n",
        "        z = np.dot(X, self.coef_)\n",
        "        return self._sigmoid(z)\n",
        "\n",
        "    def _gradient_descent(self, X, y):\n",
        "        m = len(y)\n",
        "        h = self._hypothesis(X)\n",
        "        gradient = np.dot(X.T, (h - y)) / m\n",
        "\n",
        "        # Regularization term\n",
        "        regularization_term = (self.lambda_val / m) * self.coef_\n",
        "        regularization_term[0] = 0  # Exclude bias term from regularization\n",
        "        gradient += regularization_term\n",
        "\n",
        "        self.coef_ -= self.lr * gradient\n",
        "\n",
        "    def fit(self, X, y):\n",
        "        if self.bias:\n",
        "            X = np.hstack((np.ones((X.shape[0], 1)), X))\n",
        "        n_features = X.shape[1]\n",
        "        self.coef_ = np.zeros(n_features)\n",
        "\n",
        "        for _ in range(self.iter):\n",
        "            self._gradient_descent(X, y)\n",
        "            loss = self._compute_loss(X, y)\n",
        "            self.loss.append(loss)\n",
        "            if self.verbose:\n",
        "                print(f\"Loss: {loss}\")\n",
        "\n",
        "    def _compute_loss(self, X, y):\n",
        "        h = self._hypothesis(X)\n",
        "        loss = -np.mean(y * np.log(h) + (1 - y) * np.log(1 - h))\n",
        "        regularization_term = (self.lambda_val / (2 * len(y))) * np.sum(self.coef_[1:] ** 2)  # Exclude bias term\n",
        "        return loss + regularization_term\n",
        "\n",
        "    def predict(self, X):\n",
        "        if self.bias:\n",
        "            X = np.hstack((np.ones((X.shape[0], 1)), X))\n",
        "        h = self._hypothesis(X)\n",
        "        return (h >= 0.5).astype(int)\n",
        "\n",
        "    def predict_proba(self, X):\n",
        "        if self.bias:\n",
        "            X = np.hstack((np.ones((X.shape[0], 1)), X))\n",
        "        return self._hypothesis(X)\n"
      ],
      "metadata": {
        "id": "lqcXL9jI6UPH"
      },
      "execution_count": 2,
      "outputs": []
    },
    {
      "cell_type": "markdown",
      "source": [
        "# Excercise 1: Hypothetical function"
      ],
      "metadata": {
        "id": "wiVw22nAypUc"
      }
    },
    {
      "cell_type": "code",
      "source": [
        "# Create an instance of the ScratchLogisticRegression class\n",
        "model = ScratchLogisticRegression(num_iter=50, lr=0.01, bias=False, verbose=False)\n",
        "\n",
        "# Set the theta parameter (for demonstration purposes)\n",
        "model.coef_ = np.array([-2, 1])\n",
        "\n",
        "# Sample input data\n",
        "X = np.array([[1, 2], [3, 4], [5, 6]])\n",
        "\n",
        "# Obtain the estimated probabilities using the hypothesis function\n",
        "probabilities = model._hypothesis(X)\n",
        "print(\"Estimated Probabilities:\")\n",
        "print(probabilities)"
      ],
      "metadata": {
        "colab": {
          "base_uri": "https://localhost:8080/"
        },
        "id": "D2WHckbwvlQ0",
        "outputId": "cacebec0-96b0-4c3b-e72b-8e497ac75870"
      },
      "execution_count": 3,
      "outputs": [
        {
          "output_type": "stream",
          "name": "stdout",
          "text": [
            "Estimated Probabilities:\n",
            "[0.5        0.11920292 0.01798621]\n"
          ]
        }
      ]
    },
    {
      "cell_type": "markdown",
      "source": [
        "# 【Excercise 2】Steepest descent"
      ],
      "metadata": {
        "id": "TlnkS0Xey4_U"
      }
    },
    {
      "cell_type": "code",
      "source": [
        "X = np.array([[1], [2], [3]])\n",
        "y = np.array([0, 1, 0])\n",
        "\n",
        "# Create an instance of the ScratchLogisticRegression class\n",
        "model = ScratchLogisticRegression(num_iter=50, lr=0.01,bias=True, verbose=True, lambda_val=0.1)\n",
        "\n",
        "# Fit the model\n",
        "model.fit(X, y)\n",
        "\n",
        "# Print the learned coefficients\n",
        "print(\"Learned Coefficients:\", model.coef_)"
      ],
      "metadata": {
        "colab": {
          "base_uri": "https://localhost:8080/"
        },
        "id": "YTWQ8g4MzBnB",
        "outputId": "a1740156-c023-45d8-815f-e8b6a4d3fb02"
      },
      "execution_count": 4,
      "outputs": [
        {
          "output_type": "stream",
          "name": "stdout",
          "text": [
            "Loss: 0.6917680832961024\n",
            "Loss: 0.6904275999047583\n",
            "Loss: 0.6891246433883703\n",
            "Loss: 0.6878581556801535\n",
            "Loss: 0.6866271070458464\n",
            "Loss: 0.6854304954838748\n",
            "Loss: 0.6842673461252174\n",
            "Loss: 0.6831367106341742\n",
            "Loss: 0.6820376666111398\n",
            "Loss: 0.6809693169983838\n",
            "Loss: 0.6799307894897542\n",
            "Loss: 0.6789212359451353\n",
            "Loss: 0.6779398318104064\n",
            "Loss: 0.676985775543579\n",
            "Loss: 0.6760582880477141\n",
            "Loss: 0.6751566121111598\n",
            "Loss: 0.674280011855582\n",
            "Loss: 0.6734277721922071\n",
            "Loss: 0.6725991982866403\n",
            "Loss: 0.6717936150325768\n",
            "Loss: 0.6710103665346641\n",
            "Loss: 0.6702488156007498\n",
            "Loss: 0.6695083432436923\n",
            "Loss: 0.6687883481928846\n",
            "Loss: 0.6680882464156016\n",
            "Loss: 0.6674074706482568\n",
            "Loss: 0.6667454699376192\n",
            "Loss: 0.6661017091920185\n",
            "Loss: 0.6654756687425414\n",
            "Loss: 0.6648668439142024\n",
            "Loss: 0.6642747446070484\n",
            "Loss: 0.6636988948871434\n",
            "Loss: 0.6631388325873604\n",
            "Loss: 0.6625941089178922\n",
            "Loss: 0.6620642880863865\n",
            "Loss: 0.6615489469275874\n",
            "Loss: 0.661047674542369\n",
            "Loss: 0.6605600719460258\n",
            "Loss: 0.6600857517256847\n",
            "Loss: 0.6596243377066914\n",
            "Loss: 0.6591754646278252\n",
            "Loss: 0.6587387778251789\n",
            "Loss: 0.6583139329245524\n",
            "Loss: 0.6579005955421916\n",
            "Loss: 0.6574984409937075\n",
            "Loss: 0.657107154011009\n",
            "Loss: 0.6567264284670807\n",
            "Loss: 0.656355967108431\n",
            "Loss: 0.6559954812950477\n",
            "Loss: 0.6556446907476807\n",
            "Learned Coefficients: [-0.06281861 -0.119151  ]\n"
          ]
        }
      ]
    },
    {
      "cell_type": "markdown",
      "source": [
        "Excercise 3: Estimation"
      ],
      "metadata": {
        "id": "xOeZ8EFQ9qNP"
      }
    },
    {
      "cell_type": "code",
      "source": [
        "# estimating the predicted values\n",
        "X = np.random.randn(30, 1)\n",
        "y = np.random.randn(30,)\n",
        "\n",
        "X_test = np.random.randn(5, 1)"
      ],
      "metadata": {
        "id": "313Ymi1w9wUG"
      },
      "execution_count": 5,
      "outputs": []
    },
    {
      "cell_type": "code",
      "source": [
        "#calling the class\n",
        "instance = ScratchLogisticRegression(num_iter=50, lr=0.001, bias=True, verbose=False)"
      ],
      "metadata": {
        "id": "5mrh1P5rHcFL"
      },
      "execution_count": 6,
      "outputs": []
    },
    {
      "cell_type": "code",
      "source": [
        "X.shape, y.shape"
      ],
      "metadata": {
        "colab": {
          "base_uri": "https://localhost:8080/"
        },
        "id": "Iq2MD_QVJR4m",
        "outputId": "f9066b27-3774-4b6a-9598-a009c455a122"
      },
      "execution_count": 7,
      "outputs": [
        {
          "output_type": "execute_result",
          "data": {
            "text/plain": [
              "((30, 1), (30,))"
            ]
          },
          "metadata": {},
          "execution_count": 7
        }
      ]
    },
    {
      "cell_type": "code",
      "source": [
        "#fitting the data\n",
        "instance.fit(X, y)"
      ],
      "metadata": {
        "id": "A2NVQAOrHnrA"
      },
      "execution_count": 8,
      "outputs": []
    },
    {
      "cell_type": "code",
      "source": [
        "# predicting using the fitted model\n",
        "y_predict = instance.predict(X_test)\n",
        "y_predict.shape"
      ],
      "metadata": {
        "colab": {
          "base_uri": "https://localhost:8080/"
        },
        "id": "1B6xJx03Hy7b",
        "outputId": "47147ea6-8ec8-4275-d226-c0419ad60c54"
      },
      "execution_count": 9,
      "outputs": [
        {
          "output_type": "execute_result",
          "data": {
            "text/plain": [
              "(5,)"
            ]
          },
          "metadata": {},
          "execution_count": 9
        }
      ]
    },
    {
      "cell_type": "code",
      "source": [
        "#visualizing the plot\n",
        "plt.scatter(X, y)\n",
        "plt.scatter(X_test, y_predict, color='red')\n",
        "plt.show()"
      ],
      "metadata": {
        "id": "9GV_U8LMobkk",
        "colab": {
          "base_uri": "https://localhost:8080/",
          "height": 433
        },
        "outputId": "17eb94ca-8305-4170-b54a-cf67d1500bb6"
      },
      "execution_count": 10,
      "outputs": [
        {
          "output_type": "display_data",
          "data": {
            "text/plain": [
              "<Figure size 640x480 with 1 Axes>"
            ],
            "image/png": "[encoded data removed]"
          },
          "metadata": {}
        }
      ]
    },
    {
      "cell_type": "markdown",
      "source": [
        "# [Excercise 5] Learning and estimation"
      ],
      "metadata": {
        "id": "1N9y9WrI-_1z"
      }
    },
    {
      "cell_type": "code",
      "source": [
        "#learning and estimation using the Iris dataset(Scratch Implementation)\n",
        "from sklearn.datasets import load_iris\n",
        "from sklearn.model_selection import train_test_split\n",
        "iris = load_iris()\n",
        "X = iris.data[:100, :]\n",
        "y = iris.target[:100]\n",
        "X_train, X_test, y_train, y_test = train_test_split(X, y, test_size=0.2, random_state=42)"
      ],
      "metadata": {
        "id": "PfmBEOe41nVh"
      },
      "execution_count": 11,
      "outputs": []
    },
    {
      "cell_type": "code",
      "source": [
        "#scaling the data\n",
        "from sklearn.preprocessing import StandardScaler\n",
        "scaler = StandardScaler()\n",
        "X_train = scaler.fit_transform(X_train)\n",
        "X_test = scaler.transform(X_test)"
      ],
      "metadata": {
        "id": "R_BZAm8aDm0v"
      },
      "execution_count": 12,
      "outputs": []
    },
    {
      "cell_type": "code",
      "source": [
        "#calling the scratch class\n",
        "class_stch = ScratchLogisticRegression(num_iter=50, lr=0.01, bias = True, verbose=True, lambda_val=0)\n",
        "#fitting the model\n",
        "class_stch.fit(X_train, y_train)\n",
        "y_pred = class_stch.predict(X_test)\n",
        "y_pred"
      ],
      "metadata": {
        "colab": {
          "base_uri": "https://localhost:8080/"
        },
        "id": "8PfsVjxjDQjt",
        "outputId": "64f6774e-2585-4e5b-89db-a4580fb45574"
      },
      "execution_count": 26,
      "outputs": [
        {
          "output_type": "stream",
          "name": "stdout",
          "text": [
            "Loss: 0.6860776985679993\n",
            "Loss: 0.6791140881261637\n",
            "Loss: 0.6722547426562665\n",
            "Loss: 0.6654980674820965\n",
            "Loss: 0.6588424805161559\n",
            "Loss: 0.652286412901306\n",
            "Loss: 0.6458283096083912\n",
            "Loss: 0.639466629990978\n",
            "Loss: 0.6331998482983954\n",
            "Loss: 0.6270264541483075\n",
            "Loss: 0.6209449529600788\n",
            "Loss: 0.6149538663502234\n",
            "Loss: 0.609051732491245\n",
            "Loss: 0.6032371064351948\n",
            "Loss: 0.5975085604032768\n",
            "Loss: 0.5918646840428379\n",
            "Loss: 0.5863040846530743\n",
            "Loss: 0.5808253873807848\n",
            "Loss: 0.5754272353874867\n",
            "Loss: 0.570108289989196\n",
            "Loss: 0.5648672307701614\n",
            "Loss: 0.5597027556718158\n",
            "Loss: 0.5546135810581895\n",
            "Loss: 0.5495984417590005\n",
            "Loss: 0.5446560910916153\n",
            "Loss: 0.5397853008630398\n",
            "Loss: 0.5349848613530702\n",
            "Loss: 0.5302535812797069\n",
            "Loss: 0.5255902877478918\n",
            "Loss: 0.5209938261826077\n",
            "Loss: 0.5164630602473341\n",
            "Loss: 0.511996871748827\n",
            "Loss: 0.507594160529149\n",
            "Loss: 0.5032538443458462\n",
            "Loss: 0.4989748587411321\n",
            "Loss: 0.49475615690090147\n",
            "Loss: 0.4905967095043683\n",
            "Loss: 0.4864955045650815\n",
            "Loss: 0.48245154726404593\n",
            "Loss: 0.4784638597756349\n",
            "Loss: 0.4745314810869582\n",
            "Loss: 0.47065346681130793\n",
            "Loss: 0.4668288889962818\n",
            "Loss: 0.46305683592714936\n",
            "Loss: 0.459336411925998\n",
            "Loss: 0.45566673714716843\n",
            "Loss: 0.45204694736946216\n",
            "Loss: 0.44847619378557296\n",
            "Loss: 0.4449536427891764\n",
            "Loss: 0.44147847576007815\n"
          ]
        },
        {
          "output_type": "execute_result",
          "data": {
            "text/plain": [
              "array([1, 1, 1, 0, 0, 0, 0, 1, 0, 0, 0, 0, 1, 0, 1, 0, 1, 1, 0, 0])"
            ]
          },
          "metadata": {},
          "execution_count": 26
        }
      ]
    },
    {
      "cell_type": "code",
      "source": [
        "from sklearn.metrics import classification_report\n",
        "print(classification_report(y_test, y_pred))"
      ],
      "metadata": {
        "colab": {
          "base_uri": "https://localhost:8080/"
        },
        "id": "iH9zEVsWE1BO",
        "outputId": "d3c200f3-b595-4092-9ba8-ee2ba1fe6d7f"
      },
      "execution_count": 14,
      "outputs": [
        {
          "output_type": "stream",
          "name": "stdout",
          "text": [
            "              precision    recall  f1-score   support\n",
            "\n",
            "           0       1.00      1.00      1.00        12\n",
            "           1       1.00      1.00      1.00         8\n",
            "\n",
            "    accuracy                           1.00        20\n",
            "   macro avg       1.00      1.00      1.00        20\n",
            "weighted avg       1.00      1.00      1.00        20\n",
            "\n"
          ]
        }
      ]
    },
    {
      "cell_type": "markdown",
      "source": [
        "Using Scikit Learn Framework"
      ],
      "metadata": {
        "id": "-0fj8TDhFVTQ"
      }
    },
    {
      "cell_type": "code",
      "source": [
        "from sklearn.linear_model import LogisticRegression\n",
        "log_reg = LogisticRegression()\n",
        "log_reg.fit(X_train, y_train)\n",
        "y_pred_lr = log_reg.predict(X_test)\n",
        "y_pred_lr"
      ],
      "metadata": {
        "colab": {
          "base_uri": "https://localhost:8080/"
        },
        "id": "MKa7Jti9FZCt",
        "outputId": "74ce44ea-c76f-40e7-a25b-abe1fed838b2"
      },
      "execution_count": 15,
      "outputs": [
        {
          "output_type": "execute_result",
          "data": {
            "text/plain": [
              "array([1, 1, 1, 0, 0, 0, 0, 1, 0, 0, 0, 0, 1, 0, 1, 0, 1, 1, 0, 0])"
            ]
          },
          "metadata": {},
          "execution_count": 15
        }
      ]
    },
    {
      "cell_type": "code",
      "source": [
        "#checking the accuracy metrics\n",
        "print(classification_report(y_test, y_pred_lr))"
      ],
      "metadata": {
        "colab": {
          "base_uri": "https://localhost:8080/"
        },
        "id": "yOE3Ce-WFnmF",
        "outputId": "96f05082-7468-4cc3-bb25-ebc551ece562"
      },
      "execution_count": 16,
      "outputs": [
        {
          "output_type": "stream",
          "name": "stdout",
          "text": [
            "              precision    recall  f1-score   support\n",
            "\n",
            "           0       1.00      1.00      1.00        12\n",
            "           1       1.00      1.00      1.00         8\n",
            "\n",
            "    accuracy                           1.00        20\n",
            "   macro avg       1.00      1.00      1.00        20\n",
            "weighted avg       1.00      1.00      1.00        20\n",
            "\n"
          ]
        }
      ]
    },
    {
      "cell_type": "markdown",
      "source": [
        "the classification report for the scratch implementation and the logistic Regression modle performed excelllently in handling the data."
      ],
      "metadata": {
        "id": "w0PWLacXF4-y"
      }
    },
    {
      "cell_type": "markdown",
      "source": [
        "# [Excercise 6] Plot of learning curve"
      ],
      "metadata": {
        "id": "fmyX3S0VJrh7"
      }
    },
    {
      "cell_type": "code",
      "source": [
        "%matplotlib inline\n",
        "plt.plot(class_stch.loss)\n",
        "plt.plot(class_stch.val_loss)"
      ],
      "metadata": {
        "colab": {
          "base_uri": "https://localhost:8080/",
          "height": 448
        },
        "id": "WL_df1YLJkI8",
        "outputId": "d3c5d379-b1ab-4c93-c820-cbced268643b"
      },
      "execution_count": 27,
      "outputs": [
        {
          "output_type": "execute_result",
          "data": {
            "text/plain": [
              "[<matplotlib.lines.Line2D at 0x7a31a6b8a500>]"
            ]
          },
          "metadata": {},
          "execution_count": 27
        },
        {
          "output_type": "display_data",
          "data": {
            "text/plain": [
              "<Figure size 640x480 with 1 Axes>"
            ],
            "image/png": "[encoded data removed]"
          },
          "metadata": {}
        }
      ]
    },
    {
      "cell_type": "code",
      "source": [
        "class_stch1 = ScratchLogisticRegression(num_iter=10000, lr=0.001, bias = True, verbose=False, lambda_val=0.2)\n",
        "class_stch1.fit(X_train, y_train)\n",
        "y_pred1 = class_stch1.predict(X_test)\n",
        "\n",
        "#plotting the learning curve\n",
        "plt.plot(class_stch1.loss)\n",
        "plt.plot(class_stch1.val_loss)"
      ],
      "metadata": {
        "id": "9OPDXxP6Nhks",
        "colab": {
          "base_uri": "https://localhost:8080/",
          "height": 448
        },
        "outputId": "bef1e4cb-86a0-4c31-956c-a582ba1dcdea"
      },
      "execution_count": 18,
      "outputs": [
        {
          "output_type": "execute_result",
          "data": {
            "text/plain": [
              "[<matplotlib.lines.Line2D at 0x7a31a6d1da50>]"
            ]
          },
          "metadata": {},
          "execution_count": 18
        },
        {
          "output_type": "display_data",
          "data": {
            "text/plain": [
              "<Figure size 640x480 with 1 Axes>"
            ],
            "image/png": "[encoded data removed]"
          },
          "metadata": {}
        }
      ]
    },
    {
      "cell_type": "markdown",
      "source": [
        "I observed that increasing the value of lamda leads to better learning results."
      ],
      "metadata": {
        "id": "efJKV7kfOlE6"
      }
    },
    {
      "cell_type": "code",
      "source": [
        "#setting verbose to true\n",
        "X1 = iris.data[:100, :2]\n",
        "y1 = iris.target[:100]\n",
        "X_train1, X_test1, y_train1, y_test1 = train_test_split(X1, y1, test_size=0.2)\n",
        "slr = ScratchLogisticRegression(num_iter=50, lr=0.001, bias=True, verbose=True, lambda_val=0.2)\n",
        "slr.fit(X_train1, y_train1)\n",
        "\n",
        "# Predict labels on the test set\n",
        "y_pred2 = slr.predict(X_test1)"
      ],
      "metadata": {
        "colab": {
          "base_uri": "https://localhost:8080/"
        },
        "id": "_g5j4k5rQkS6",
        "outputId": "7e3b9909-a064-4b84-d231-6847e95e4dc7"
      },
      "execution_count": 25,
      "outputs": [
        {
          "output_type": "stream",
          "name": "stdout",
          "text": [
            "Loss: 0.6929092341506472\n",
            "Loss: 0.692674755105721\n",
            "Loss: 0.6924436722254582\n",
            "Loss: 0.6922159157659384\n",
            "Loss: 0.6919914174100781\n",
            "Loss: 0.6917701102392125\n",
            "Loss: 0.6915519287051995\n",
            "Loss: 0.6913368086030394\n",
            "Loss: 0.691124687044005\n",
            "Loss: 0.6909155024292707\n",
            "Loss: 0.6907091944240353\n",
            "Loss: 0.690505703932132\n",
            "Loss: 0.6903049730711159\n",
            "Loss: 0.6901069451478232\n",
            "Loss: 0.689911564634394\n",
            "Loss: 0.689718777144751\n",
            "Loss: 0.6895285294115286\n",
            "Loss: 0.6893407692634432\n",
            "Loss: 0.6891554456030976\n",
            "Loss: 0.6889725083852137\n",
            "Loss: 0.6887919085952854\n",
            "Loss: 0.6886135982286458\n",
            "Loss: 0.6884375302699379\n",
            "Loss: 0.6882636586729897\n",
            "Loss: 0.6880919383410767\n",
            "Loss: 0.6879223251075745\n",
            "Loss: 0.6877547757169882\n",
            "Loss: 0.6875892478063548\n",
            "Loss: 0.6874256998870135\n",
            "Loss: 0.6872640913267324\n",
            "Loss: 0.6871043823321912\n",
            "Loss: 0.6869465339318093\n",
            "Loss: 0.6867905079589146\n",
            "Loss: 0.6866362670352478\n",
            "Loss: 0.6864837745547936\n",
            "Loss: 0.6863329946679357\n",
            "Loss: 0.6861838922659269\n",
            "Loss: 0.6860364329656713\n",
            "Loss: 0.6858905830948103\n",
            "Loss: 0.6857463096771087\n",
            "Loss: 0.6856035804181329\n",
            "Loss: 0.6854623636912197\n",
            "Loss: 0.6853226285237256\n",
            "Loss: 0.6851843445835544\n",
            "Loss: 0.6850474821659568\n",
            "Loss: 0.6849120121805978\n",
            "Loss: 0.6847779061388845\n",
            "Loss: 0.6846451361415512\n",
            "Loss: 0.6845136748664976\n",
            "Loss: 0.6843834955568722\n"
          ]
        }
      ]
    },
    {
      "cell_type": "markdown",
      "source": [
        "# [Problem 7] Visualization of decision area"
      ],
      "metadata": {
        "id": "CbsES6rOUd84"
      }
    },
    {
      "cell_type": "code",
      "source": [
        "#plotting the decision boundary\n",
        "from matplotlib.colors import ListedColormap\n",
        "\n",
        "def decision_region(X, y, class_stch):\n",
        "    # Create a mesh grid of points\n",
        "    h = 0.01\n",
        "    x_min, x_max = X[:, 0].min() - 0.1, X[:, 0].max() + 0.1\n",
        "    y_min, y_max = X[:, 1].min() - 0.1, X[:, 1].max() + 0.1\n",
        "    xx, yy = np.meshgrid(np.arange(x_min, x_max, h), np.arange(y_min, y_max, h))\n",
        "\n",
        "    # Predict the class labels for the mesh grid points\n",
        "    mesh_points = np.c_[xx.ravel(), yy.ravel()]\n",
        "    Z = class_stch.predict(mesh_points)\n",
        "    Z = Z.reshape(xx.shape)\n",
        "\n",
        "    # Plot the decision region\n",
        "    plt.figure(figsize=(8, 6))\n",
        "    cmap_light = ListedColormap(['#FFAAAA', '#AAFFAA', '#AAAAFF'])\n",
        "    cmap_bold = ListedColormap(['#FF0000', '#00FF00', '#0000FF'])\n",
        "    plt.contourf(xx, yy, Z, cmap=cmap_light, alpha=0.8)\n",
        "    plt.scatter(X[:, 0], X[:, 1], c=y, cmap=cmap_bold, edgecolors='k', s=20)\n",
        "    plt.xlim(xx.min(), xx.max())\n",
        "    plt.ylim(yy.min(), yy.max())\n",
        "    plt.xlabel('Feature 0')\n",
        "    plt.ylabel('Feature 1')\n",
        "    plt.title('Decision Region')\n",
        "    plt.show()\n",
        "\n",
        "decision_region(X_train, y_train, slr)"
      ],
      "metadata": {
        "colab": {
          "base_uri": "https://localhost:8080/",
          "height": 564
        },
        "id": "gg9e5W2pUlWf",
        "outputId": "dae93a52-829d-4315-c866-4de460530d2b"
      },
      "execution_count": 24,
      "outputs": [
        {
          "output_type": "display_data",
          "data": {
            "text/plain": [
              "<Figure size 800x600 with 1 Axes>"
            ],
            "image/png": "[encoded data removed]"
          },
          "metadata": {}
        }
      ]
    }
  ]
}