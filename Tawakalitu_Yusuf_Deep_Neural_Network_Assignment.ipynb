{
  "cells": [
    {
      "cell_type": "markdown",
      "metadata": {
        "id": "view-in-github",
        "colab_type": "text"
      },
      "source": [
        "<a href=\"https://colab.research.google.com/github/tawaqalt/arbritrary/blob/master/Tawakalitu_Yusuf_Deep_Neural_Network_Assignment.ipynb\" target=\"_parent\"><img src=\"https://colab.research.google.com/assets/colab-badge.svg\" alt=\"Open In Colab\"/></a>"
      ]
    },
    {
      "cell_type": "markdown",
      "metadata": {
        "id": "D9hURIxcIXeS"
      },
      "source": [
        "# Importation of Libraries"
      ]
    },
    {
      "cell_type": "code",
      "execution_count": null,
      "metadata": {
        "id": "z0VapdP0IdSC"
      },
      "outputs": [],
      "source": [
        "#importing relevant libraries\n",
        "import numpy as np\n",
        "import pandas as pd\n",
        "from keras.datasets import mnist\n",
        "from sklearn.model_selection import train_test_split\n",
        "from sklearn.preprocessing import OneHotEncoder\n",
        "import matplotlib.pyplot as plt"
      ]
    },
    {
      "cell_type": "code",
      "execution_count": null,
      "metadata": {
        "id": "Ka6aINoUIs_9"
      },
      "outputs": [],
      "source": [
        "# Load data\n",
        "(X_train, y_train), (X_test, y_test) = mnist.load_data()"
      ]
    },
    {
      "cell_type": "markdown",
      "metadata": {
        "id": "3mOU3NffIRki"
      },
      "source": [
        "# [Problem 1] Classifying fully connected layers"
      ]
    },
    {
      "cell_type": "code",
      "execution_count": null,
      "metadata": {
        "id": "8qgprTb9KzQt"
      },
      "outputs": [],
      "source": [
        "# SGD Class\n",
        "class SGD:\n",
        "    def __init__(self, lr):\n",
        "        self.lr = lr\n",
        "\n",
        "    def update(self, W, B, dW, dB):\n",
        "        W -= self.lr * dW / len(dW)\n",
        "        B -= self.lr * dB / len(dB)\n",
        "        return W, B"
      ]
    },
    {
      "cell_type": "code",
      "execution_count": null,
      "metadata": {
        "id": "bZk26DXcIQc7"
      },
      "outputs": [],
      "source": [
        "class FullyConnectedLayer:\n",
        "    def __init__(self, n_nodes1, n_nodes2, initializer, optimizer):\n",
        "        self.n_nodes1 = n_nodes1\n",
        "        self.n_nodes2 = n_nodes2\n",
        "        self.W = initializer.W(self.n_nodes1, self.n_nodes2)\n",
        "        self.B = initializer.B(self.n_nodes2)\n",
        "        self.optimizer = optimizer\n",
        "        self.HW = 0\n",
        "        self.HB = 0\n",
        "\n",
        "    def forward(self, X):\n",
        "        self.Z = X\n",
        "        self.A = X @ self.W + self.B\n",
        "        return self.A\n",
        "\n",
        "    def backward(self, dA):\n",
        "        self.dB = np.sum(dA, axis=0)\n",
        "        self.dW = self.Z.T @ dA\n",
        "        dX = dA @ self.W.T\n",
        "        self.W, self.B = self.optimizer.update(self.W, self.B, self.dW, self.dB)\n",
        "        return dX"
      ]
    },
    {
      "cell_type": "markdown",
      "metadata": {
        "id": "a82NQgBjIzS7"
      },
      "source": [
        "# [Problem 2] Classifying the initialization method"
      ]
    },
    {
      "cell_type": "code",
      "execution_count": null,
      "metadata": {
        "id": "q_hj_CjgJBXz"
      },
      "outputs": [],
      "source": [
        "class SimpleInitializer:\n",
        "    def __init__(self, sigma):\n",
        "        self.sigma = sigma\n",
        "\n",
        "    def W(self, n_nodes1, n_nodes2):\n",
        "        W = np.random.randn(n_nodes1, n_nodes2) * self.sigma\n",
        "        return W\n",
        "\n",
        "    def B(self, n_nodes2):\n",
        "        B = self.sigma * np.random.randn(1, n_nodes2)\n",
        "        return B"
      ]
    },
    {
      "cell_type": "markdown",
      "metadata": {
        "id": "VSGK826aI-S4"
      },
      "source": [
        "# [Problem 3] Classifying optimization methods"
      ]
    },
    {
      "cell_type": "code",
      "execution_count": null,
      "metadata": {
        "id": "MfRgSaFCJJAV"
      },
      "outputs": [],
      "source": [
        "class SGD:\n",
        "    def __init__(self, lr):\n",
        "        self.lr = lr\n",
        "\n",
        "    def update(self, W, B, dW, dB):\n",
        "        W -= self.lr * dW / len(dW)\n",
        "        B -= self.lr * dB / len(dB)\n",
        "        return W, B"
      ]
    },
    {
      "cell_type": "markdown",
      "metadata": {
        "id": "cSdDZ_z3JpMa"
      },
      "source": [
        "# [Problem 4] Classifying activation functions"
      ]
    },
    {
      "cell_type": "code",
      "execution_count": null,
      "metadata": {
        "id": "FpPOAM0UJ4PI"
      },
      "outputs": [],
      "source": [
        "class Sigmoid:\n",
        "    def forward(self, A):\n",
        "        self.A = A\n",
        "        Z = 1 / (1 + np.exp(-self.A))\n",
        "        return Z\n",
        "\n",
        "    def backward(self, dout):\n",
        "        dA = dout * (1 - dout)\n",
        "        return dA\n",
        "\n",
        "class Tanh:\n",
        "    def forward(self, A):\n",
        "        self.A = A\n",
        "        Z = np.tanh(self.A)\n",
        "        return Z\n",
        "\n",
        "    def backward(self, dZ):\n",
        "        dA = dZ * (1 - np.tanh(self.A) ** 2)\n",
        "        return dA\n",
        "\n",
        "class Softmax:\n",
        "    def forward(self, A):\n",
        "        self.A = A\n",
        "        exp_A = np.exp(A - np.max(A, axis=1, keepdims=True))\n",
        "        Z = exp_A / np.sum(exp_A, axis=1, keepdims=True)\n",
        "        return Z\n",
        "\n",
        "    def backward(self, Z, y):\n",
        "        m = len(y)\n",
        "        dA = Z - y\n",
        "        loss = -np.sum(y * np.log(Z + 1e-10)) / m\n",
        "        return dA, loss"
      ]
    },
    {
      "cell_type": "markdown",
      "metadata": {
        "id": "Pl3BHg0XJwYC"
      },
      "source": [
        "# [Problem 5] ReLU class creation"
      ]
    },
    {
      "cell_type": "code",
      "execution_count": null,
      "metadata": {
        "id": "9K58e1-xKBQi"
      },
      "outputs": [],
      "source": [
        "class ReLU:\n",
        "    def forward(self, A):\n",
        "        self.A = A\n",
        "        Z = np.maximum(0, self.A)\n",
        "        return Z\n",
        "\n",
        "    def backward(self, dZ):\n",
        "        dA = dZ * (self.A > 0)\n",
        "        return dA"
      ]
    },
    {
      "cell_type": "markdown",
      "metadata": {
        "id": "VdXLkiS1KGxv"
      },
      "source": [
        "# [Problem 6] Initial value of weight"
      ]
    },
    {
      "cell_type": "code",
      "execution_count": null,
      "metadata": {
        "id": "bcqlxtwVKN0B"
      },
      "outputs": [],
      "source": [
        "class XavierInitializer:\n",
        "    def __init__(self, sigma):\n",
        "        self.sigma = sigma\n",
        "\n",
        "    def W(self, n_nodes1, n_nodes2):\n",
        "        W = np.random.randn(n_nodes1, n_nodes2) * self.sigma * np.sqrt(1 / n_nodes1)\n",
        "        return W\n",
        "\n",
        "    def B(self, n_nodes2):\n",
        "        B = self.sigma * np.random.randn(1, n_nodes2)\n",
        "        return B\n",
        "\n",
        "class HeInitializer:\n",
        "    def __init__(self, sigma):\n",
        "        self.sigma = sigma\n",
        "\n",
        "    def W(self, n_nodes1, n_nodes2):\n",
        "        W = np.random.randn(n_nodes1, n_nodes2) * self.sigma * np.sqrt(2 / n_nodes1)\n",
        "        return W\n",
        "\n",
        "    def B(self, n_nodes2):\n",
        "        B = self.sigma * np.random.randn(1, n_nodes2)\n",
        "        return B"
      ]
    },
    {
      "cell_type": "markdown",
      "metadata": {
        "id": "1O-4rnxXKVAA"
      },
      "source": [
        "# [Problem 7] Optimization method"
      ]
    },
    {
      "cell_type": "code",
      "execution_count": null,
      "metadata": {
        "id": "gvAWGW2wKX_i"
      },
      "outputs": [],
      "source": [
        "class Adagrad:\n",
        "    def __init__(self, lr):\n",
        "        self.lr = lr\n",
        "        self.HW = 0\n",
        "        self.HB = 0\n",
        "\n",
        "    def update(self, W, B, dW, dB):\n",
        "        self.HW += dW ** 2\n",
        "        self.HB += dB ** 2\n",
        "        delta = 1e-7\n",
        "        W -= self.lr * dW / (np.sqrt(self.HW) + delta) / len(dW)\n",
        "        B -= self.lr * dB / (np.sqrt(self.HB) + delta) / len(dB)\n",
        "        return W, B"
      ]
    },
    {
      "cell_type": "markdown",
      "metadata": {
        "id": "EcxdP8NWKdvb"
      },
      "source": [
        "# [Problem 8] Class completion"
      ]
    },
    {
      "cell_type": "code",
      "execution_count": null,
      "metadata": {
        "id": "cHgGN3ZBELsW"
      },
      "outputs": [],
      "source": [
        "class GetMiniBatch:\n",
        "    def __init__(self, X, y, batch_size=20, seed=0):\n",
        "        self.batch_size = batch_size\n",
        "        np.random.seed(seed)\n",
        "        shuffle_index = np.random.permutation(X.shape[0])\n",
        "        self._X = X[shuffle_index]\n",
        "        self._y = y[shuffle_index]\n",
        "        self._stop = np.ceil(X.shape[0] / self.batch_size).astype(int)\n",
        "\n",
        "    def __len__(self):\n",
        "        return self._stop\n",
        "\n",
        "    def __getitem__(self, item):\n",
        "        p0 = item * self.batch_size\n",
        "        p1 = item * self.batch_size + self.batch_size\n",
        "        return self._X[p0:p1], self._y[p0:p1]\n",
        "\n",
        "    def __iter__(self):\n",
        "        self._counter = 0\n",
        "        return self\n",
        "\n",
        "    def __next__(self):\n",
        "        if self._counter >= self._stop:\n",
        "            raise StopIteration()\n",
        "        p0 = self._counter * self.batch_size\n",
        "        p1 = self._counter * self.batch_size + self.batch_size\n",
        "        self._counter += 1\n",
        "        return self._X[p0:p1], self._y[p0:p1]"
      ]
    },
    {
      "cell_type": "code",
      "execution_count": null,
      "metadata": {
        "id": "unEOEe9AEZe-"
      },
      "outputs": [],
      "source": [
        "# Deep Neural Network Classifier\n",
        "class ScratchDeepNeuralNetworkClassifier:\n",
        "    def __init__(self, verbose=False, epoch=1, optimizer=SGD, initialize=SimpleInitializer, activation=ReLU):\n",
        "        self.verbose = verbose\n",
        "        self.epoch = epoch\n",
        "        self.optimizer = optimizer\n",
        "        self.initialize = initialize\n",
        "        self.activation = activation\n",
        "        self.batch_size = 20\n",
        "        self.features = 784\n",
        "        self.n_nodes1 = 400\n",
        "        self.n_nodes2 = 200\n",
        "        self.output = 10\n",
        "        self.sigma = 0.02\n",
        "        self.lr = 0.5\n",
        "\n",
        "    def fit(self, X, y, X_val, y_val):\n",
        "        self.loss_train = []\n",
        "        self.loss_val = []\n",
        "        optimizer = self.optimizer(self.lr)\n",
        "        self.FullyConnectedLayer1 = FullyConnectedLayer(self.features, self.n_nodes1, SimpleInitializer(self.sigma), optimizer)\n",
        "        self.activation1 = self.activation()\n",
        "        self.FullyConnectedLayer2 = FullyConnectedLayer(self.n_nodes1, self.n_nodes2, SimpleInitializer(self.sigma), optimizer)\n",
        "        self.activation2 = self.activation()\n",
        "        self.FullyConnectedLayer3 = FullyConnectedLayer(self.n_nodes2, self.output, SimpleInitializer(self.sigma), optimizer)\n",
        "        self.activation3 = Softmax()\n",
        "        for i in range(self.epoch):\n",
        "            get_mini_batch = GetMiniBatch(X, y, batch_size=self.batch_size)\n",
        "            loss_batch_train = []\n",
        "            for mini_X, mini_y in get_mini_batch:\n",
        "                A1 = self.FullyConnectedLayer1.forward(mini_X)\n",
        "                Z1 = self.activation1.forward(A1)\n",
        "                A2 = self.FullyConnectedLayer2.forward(Z1)\n",
        "                Z2 = self.activation2.forward(A2)\n",
        "                A3 = self.FullyConnectedLayer3.forward(Z2)\n",
        "                Z3 = self.activation3.forward(A3)\n",
        "                dA3, loss = self.activation3.backward(Z3, mini_y)\n",
        "                loss_batch_train.append(loss)\n",
        "                dZ2 = self.FullyConnectedLayer3.backward(dA3)\n",
        "                dA2 = self.activation2.backward(dZ2)\n",
        "                dZ1 = self.FullyConnectedLayer2.backward(dA2)\n",
        "                dA1 = self.activation1.backward(dZ1)\n",
        "                self.FullyConnectedLayer1.backward(dA1)\n",
        "\n",
        "            self.loss_train.append(np.mean(loss_batch_train))\n",
        "\n",
        "            # Validation\n",
        "            A1 = self.FullyConnectedLayer1.forward(X_val)\n",
        "            Z1 = self.activation1.forward(A1)\n",
        "            A2 = self.FullyConnectedLayer2.forward(Z1)\n",
        "            Z2 = self.activation2.forward(A2)\n",
        "            A3 = self.FullyConnectedLayer3.forward(Z2)\n",
        "            Z3 = self.activation3.forward(A3)\n",
        "            _, loss_val = self.activation3.backward(Z3, y_val)\n",
        "            self.loss_val.append(loss_val)\n",
        "\n",
        "            if self.verbose:\n",
        "                print(f'Epoch {i+1}/{self.epoch} - loss: {self.loss_train[-1]:.4f} - val_loss: {self.loss_val[-1]:.4f}')\n",
        "\n",
        "    def predict(self, X):\n",
        "        A1 = self.FullyConnectedLayer1.forward(X)\n",
        "        Z1 = self.activation1.forward(A1)\n",
        "        A2 = self.FullyConnectedLayer2.forward(Z1)\n",
        "        Z2 = self.activation2.forward(A2)\n",
        "        A3 = self.FullyConnectedLayer3.forward(Z2)\n",
        "        Z3 = self.activation3.forward(A3)\n",
        "        return np.argmax(Z3, axis=1)\n",
        "\n",
        "# Plot Learning Curve\n",
        "    def plot_learning_curve(loss_train, loss_val):\n",
        "      epochs = range(1, len(loss_train) + 1)\n",
        "      plt.plot(epochs, loss_train, 'b', label='Training loss')\n",
        "      plt.plot(epochs, loss_val, 'r', label='Validation loss')\n",
        "      plt.title('Training and validation loss')\n",
        "      plt.xlabel('Epochs')\n",
        "      plt.ylabel('Loss')\n",
        "      plt.legend()\n",
        "      plt.show()"
      ]
    },
    {
      "cell_type": "code",
      "execution_count": null,
      "metadata": {
        "id": "mu2wLD8GK--Z"
      },
      "outputs": [],
      "source": [
        "#reshaping\n",
        "X_train = X_train.reshape(-1, 784)\n",
        "X_test = X_test.reshape(-1, 784)\n",
        "#Converting the data type to float\n",
        "X_train = X_train.astype('float32')\n",
        "X_test = X_test.astype('float32')\n",
        "#Normalizing the data\n",
        "X_train /= 255\n",
        "X_test /= 255"
      ]
    },
    {
      "cell_type": "code",
      "execution_count": null,
      "metadata": {
        "id": "4VS9wW8-EgUa"
      },
      "outputs": [],
      "source": [
        "#splitting of data\n",
        "from sklearn.model_selection import train_test_split\n",
        "from sklearn.preprocessing import OneHotEncoder\n",
        "X_train, X_val, y_train, y_val = train_test_split(X_train, y_train, test_size=0.2, random_state=42)"
      ]
    },
    {
      "cell_type": "code",
      "execution_count": null,
      "metadata": {
        "id": "cEvSHm6REgUb"
      },
      "outputs": [],
      "source": [
        "encoder = OneHotEncoder(handle_unknown='ignore', sparse_output=False)\n",
        "y_train_one_hot = encoder.fit_transform(y_train[:, np.newaxis])\n",
        "y_val_one_hot = encoder.transform(y_val[:, np.newaxis])"
      ]
    },
    {
      "cell_type": "code",
      "execution_count": null,
      "metadata": {
        "colab": {
          "background_save": true
        },
        "id": "z6BmPiyCEgUb"
      },
      "outputs": [],
      "source": [
        "#Instantaiting the scratch code\n",
        "SDDNN = ScratchDeepNeuralNetworkClassifier(verbose=False, epoch=10, optimizer=SGD, initialize=HeInitializer, activation=ReLU)\n",
        "#fitting the data\n",
        "SDDNN.fit(X_train, y_train_one_hot, X_val, y_val_one_hot)\n",
        "#predicting on new data\n",
        "y_pred = SDDNN.predict(X_val)"
      ]
    },
    {
      "cell_type": "code",
      "execution_count": null,
      "metadata": {
        "colab": {
          "background_save": true
        },
        "id": "seIQwWuoLa0T",
        "outputId": "4755e3fb-1f44-4871-a0cc-9406004d56db"
      },
      "outputs": [
        {
          "data": {
            "text/plain": [
              "0.9744166666666667"
            ]
          },
          "execution_count": 17,
          "metadata": {},
          "output_type": "execute_result"
        }
      ],
      "source": [
        "from sklearn.metrics import accuracy_score\n",
        "accuracy_score(y_val, y_pred)"
      ]
    },
    {
      "cell_type": "code",
      "execution_count": null,
      "metadata": {
        "colab": {
          "background_save": true
        },
        "id": "rV1vmObqHidb"
      },
      "outputs": [],
      "source": [
        "# Plot Learning Curve\n",
        "def plot_learning_curve(loss_train, loss_val):\n",
        "    epochs = range(1, len(loss_train) + 1)\n",
        "    plt.plot(epochs, loss_train, 'b', label='Training loss')\n",
        "    plt.plot(epochs, loss_val, 'r', label='Validation loss')\n",
        "    plt.title('Training and validation loss')\n",
        "    plt.xlabel('Epochs')\n",
        "    plt.ylabel('Loss')\n",
        "    plt.legend()\n",
        "    plt.show()"
      ]
    },
    {
      "cell_type": "code",
      "execution_count": null,
      "metadata": {
        "colab": {
          "background_save": true
        },
        "id": "5l-RhAUoEsuj",
        "outputId": "ac6291f1-ae35-4bcc-974d-23a06adea4f0"
      },
      "outputs": [
        {
          "data": {
            "image/png": "[encoded data removed]",
            "text/plain": [
              "<Figure size 1000x1000 with 25 Axes>"
            ]
          },
          "metadata": {},
          "output_type": "display_data"
        }
      ],
      "source": [
        "# Display MNIST Images\n",
        "def display_mnist_images(X):\n",
        "    plt.figure(figsize=(10, 10))\n",
        "    for i in range(25):\n",
        "        plt.subplot(5, 5, i + 1)\n",
        "        plt.xticks([])\n",
        "        plt.yticks([])\n",
        "        plt.grid(False)\n",
        "        plt.imshow(X[i].reshape(28, 28), cmap=plt.cm.binary)\n",
        "    plt.show()\n",
        "\n",
        "# Display some MNIST images\n",
        "display_mnist_images(X_train)"
      ]
    },
    {
      "cell_type": "code",
      "execution_count": null,
      "metadata": {
        "colab": {
          "background_save": true
        },
        "id": "gmWXjpSHIBKW",
        "outputId": "9a8b14c1-e480-45ed-abae-7161a7258c18"
      },
      "outputs": [
        {
          "data": {
            "image/png": "[encoded data removed]",
            "text/plain": [
              "<Figure size 640x480 with 1 Axes>"
            ]
          },
          "metadata": {},
          "output_type": "display_data"
        }
      ],
      "source": [
        "# Plot the learning curve\n",
        "plot_learning_curve(SDDNN.loss_train, SDDNN.loss_val)\n",
        "\n",
        "# Predict on test data\n",
        "y_pred = SDDNN.predict(X_test)"
      ]
    }
  ],
  "metadata": {
    "colab": {
      "provenance": [],
      "authorship_tag": "ABX9TyOUVgPvvLh+FhClmGpgqdq4",
      "include_colab_link": true
    },
    "kernelspec": {
      "display_name": "Python 3",
      "name": "python3"
    },
    "language_info": {
      "name": "python"
    }
  },
  "nbformat": 4,
  "nbformat_minor": 0
}